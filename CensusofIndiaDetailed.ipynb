{
 "cells": [
  {
   "cell_type": "code",
   "execution_count": 1,
   "metadata": {},
   "outputs": [],
   "source": [
    "import pandas as pd"
   ]
  },
  {
   "cell_type": "code",
   "execution_count": 2,
   "metadata": {},
   "outputs": [],
   "source": [
    "df = pd.read_csv(r\"data\\india-districts-census-2011.csv\")"
   ]
  },
  {
   "cell_type": "code",
   "execution_count": 3,
   "metadata": {},
   "outputs": [],
   "source": [
    "cols = [\n",
    "    \"District code\",\n",
    "    \"State name\",\n",
    "    \"District name\",\n",
    "    \"Population\",\n",
    "    \"Male\",\n",
    "    \"Female\",\n",
    "    \"Literate\",\n",
    "    \"Male_Literate\",\n",
    "    \"Female_Literate\",\n",
    "    \"Hindus\",\n",
    "    \"Muslims\",\n",
    "    \"Christians\",\n",
    "    \"Sikhs\",\n",
    "    \"Buddhists\",\n",
    "    \"Jains\",\n",
    "    \"Others_Religions\",\n",
    "    \"Religion_Not_Stated\",\n",
    "    \"Households\",\n",
    "    \"Below_Primary_Education\",\n",
    "    \"Primary_Education\",\n",
    "    \"Middle_Education\",\n",
    "    \"Secondary_Education\",\n",
    "    \"Higher_Education\",\n",
    "    \"Graduate_Education\",\n",
    "    \"Other_Education\",\n",
    "    \"Literate_Education\",\n",
    "    \"Illiterate_Education\",\n",
    "    \"Total_Education\",\n",
    "    \"Age_Group_0_29\",\n",
    "    \"Age_Group_30_49\",\n",
    "    \"Age_Group_50\",\n",
    "    \"Age not stated\",\n",
    "    \"Total_Power_Parity\",\n",
    "]"
   ]
  },
  {
   "cell_type": "code",
   "execution_count": 4,
   "metadata": {},
   "outputs": [],
   "source": [
    "df = df[cols]"
   ]
  },
  {
   "cell_type": "code",
   "execution_count": 5,
   "metadata": {},
   "outputs": [
    {
     "data": {
      "text/html": [
       "<div>\n",
       "<style scoped>\n",
       "    .dataframe tbody tr th:only-of-type {\n",
       "        vertical-align: middle;\n",
       "    }\n",
       "\n",
       "    .dataframe tbody tr th {\n",
       "        vertical-align: top;\n",
       "    }\n",
       "\n",
       "    .dataframe thead th {\n",
       "        text-align: right;\n",
       "    }\n",
       "</style>\n",
       "<table border=\"1\" class=\"dataframe\">\n",
       "  <thead>\n",
       "    <tr style=\"text-align: right;\">\n",
       "      <th></th>\n",
       "      <th>District code</th>\n",
       "      <th>State name</th>\n",
       "      <th>District name</th>\n",
       "      <th>Population</th>\n",
       "      <th>Male</th>\n",
       "      <th>Female</th>\n",
       "      <th>Literate</th>\n",
       "      <th>Male_Literate</th>\n",
       "      <th>Female_Literate</th>\n",
       "      <th>Hindus</th>\n",
       "      <th>...</th>\n",
       "      <th>Graduate_Education</th>\n",
       "      <th>Other_Education</th>\n",
       "      <th>Literate_Education</th>\n",
       "      <th>Illiterate_Education</th>\n",
       "      <th>Total_Education</th>\n",
       "      <th>Age_Group_0_29</th>\n",
       "      <th>Age_Group_30_49</th>\n",
       "      <th>Age_Group_50</th>\n",
       "      <th>Age not stated</th>\n",
       "      <th>Total_Power_Parity</th>\n",
       "    </tr>\n",
       "  </thead>\n",
       "  <tbody>\n",
       "    <tr>\n",
       "      <th>0</th>\n",
       "      <td>1</td>\n",
       "      <td>JAMMU AND KASHMIR</td>\n",
       "      <td>Kupwara</td>\n",
       "      <td>870354</td>\n",
       "      <td>474190</td>\n",
       "      <td>396164</td>\n",
       "      <td>439654</td>\n",
       "      <td>282823</td>\n",
       "      <td>156831</td>\n",
       "      <td>37128</td>\n",
       "      <td>...</td>\n",
       "      <td>21751</td>\n",
       "      <td>6402</td>\n",
       "      <td>405015</td>\n",
       "      <td>289765</td>\n",
       "      <td>694780</td>\n",
       "      <td>600759</td>\n",
       "      <td>178435</td>\n",
       "      <td>89679</td>\n",
       "      <td>1481</td>\n",
       "      <td>1119</td>\n",
       "    </tr>\n",
       "    <tr>\n",
       "      <th>1</th>\n",
       "      <td>2</td>\n",
       "      <td>JAMMU AND KASHMIR</td>\n",
       "      <td>Badgam</td>\n",
       "      <td>753745</td>\n",
       "      <td>398041</td>\n",
       "      <td>355704</td>\n",
       "      <td>335649</td>\n",
       "      <td>207741</td>\n",
       "      <td>127908</td>\n",
       "      <td>10110</td>\n",
       "      <td>...</td>\n",
       "      <td>27950</td>\n",
       "      <td>6857</td>\n",
       "      <td>374972</td>\n",
       "      <td>342646</td>\n",
       "      <td>717618</td>\n",
       "      <td>503223</td>\n",
       "      <td>160933</td>\n",
       "      <td>88978</td>\n",
       "      <td>611</td>\n",
       "      <td>1066</td>\n",
       "    </tr>\n",
       "    <tr>\n",
       "      <th>2</th>\n",
       "      <td>3</td>\n",
       "      <td>JAMMU AND KASHMIR</td>\n",
       "      <td>Leh(Ladakh)</td>\n",
       "      <td>133487</td>\n",
       "      <td>78971</td>\n",
       "      <td>54516</td>\n",
       "      <td>93770</td>\n",
       "      <td>62834</td>\n",
       "      <td>30936</td>\n",
       "      <td>22882</td>\n",
       "      <td>...</td>\n",
       "      <td>6197</td>\n",
       "      <td>575</td>\n",
       "      <td>75493</td>\n",
       "      <td>32637</td>\n",
       "      <td>108130</td>\n",
       "      <td>70703</td>\n",
       "      <td>41515</td>\n",
       "      <td>21019</td>\n",
       "      <td>250</td>\n",
       "      <td>242</td>\n",
       "    </tr>\n",
       "    <tr>\n",
       "      <th>3</th>\n",
       "      <td>4</td>\n",
       "      <td>JAMMU AND KASHMIR</td>\n",
       "      <td>Kargil</td>\n",
       "      <td>140802</td>\n",
       "      <td>77785</td>\n",
       "      <td>63017</td>\n",
       "      <td>86236</td>\n",
       "      <td>56301</td>\n",
       "      <td>29935</td>\n",
       "      <td>10341</td>\n",
       "      <td>...</td>\n",
       "      <td>3077</td>\n",
       "      <td>408</td>\n",
       "      <td>82938</td>\n",
       "      <td>39854</td>\n",
       "      <td>122792</td>\n",
       "      <td>87532</td>\n",
       "      <td>35561</td>\n",
       "      <td>17488</td>\n",
       "      <td>221</td>\n",
       "      <td>214</td>\n",
       "    </tr>\n",
       "    <tr>\n",
       "      <th>4</th>\n",
       "      <td>5</td>\n",
       "      <td>JAMMU AND KASHMIR</td>\n",
       "      <td>Punch</td>\n",
       "      <td>476835</td>\n",
       "      <td>251899</td>\n",
       "      <td>224936</td>\n",
       "      <td>261724</td>\n",
       "      <td>163333</td>\n",
       "      <td>98391</td>\n",
       "      <td>32604</td>\n",
       "      <td>...</td>\n",
       "      <td>13962</td>\n",
       "      <td>1884</td>\n",
       "      <td>288430</td>\n",
       "      <td>164044</td>\n",
       "      <td>452474</td>\n",
       "      <td>304979</td>\n",
       "      <td>109818</td>\n",
       "      <td>61334</td>\n",
       "      <td>704</td>\n",
       "      <td>629</td>\n",
       "    </tr>\n",
       "  </tbody>\n",
       "</table>\n",
       "<p>5 rows × 33 columns</p>\n",
       "</div>"
      ],
      "text/plain": [
       "   District code         State name District name  Population    Male  Female  \\\n",
       "0              1  JAMMU AND KASHMIR       Kupwara      870354  474190  396164   \n",
       "1              2  JAMMU AND KASHMIR        Badgam      753745  398041  355704   \n",
       "2              3  JAMMU AND KASHMIR   Leh(Ladakh)      133487   78971   54516   \n",
       "3              4  JAMMU AND KASHMIR        Kargil      140802   77785   63017   \n",
       "4              5  JAMMU AND KASHMIR         Punch      476835  251899  224936   \n",
       "\n",
       "   Literate  Male_Literate  Female_Literate  Hindus  ...  Graduate_Education  \\\n",
       "0    439654         282823           156831   37128  ...               21751   \n",
       "1    335649         207741           127908   10110  ...               27950   \n",
       "2     93770          62834            30936   22882  ...                6197   \n",
       "3     86236          56301            29935   10341  ...                3077   \n",
       "4    261724         163333            98391   32604  ...               13962   \n",
       "\n",
       "   Other_Education  Literate_Education  Illiterate_Education  Total_Education  \\\n",
       "0             6402              405015                289765           694780   \n",
       "1             6857              374972                342646           717618   \n",
       "2              575               75493                 32637           108130   \n",
       "3              408               82938                 39854           122792   \n",
       "4             1884              288430                164044           452474   \n",
       "\n",
       "   Age_Group_0_29  Age_Group_30_49  Age_Group_50  Age not stated  \\\n",
       "0          600759           178435         89679            1481   \n",
       "1          503223           160933         88978             611   \n",
       "2           70703            41515         21019             250   \n",
       "3           87532            35561         17488             221   \n",
       "4          304979           109818         61334             704   \n",
       "\n",
       "   Total_Power_Parity  \n",
       "0                1119  \n",
       "1                1066  \n",
       "2                 242  \n",
       "3                 214  \n",
       "4                 629  \n",
       "\n",
       "[5 rows x 33 columns]"
      ]
     },
     "execution_count": 5,
     "metadata": {},
     "output_type": "execute_result"
    }
   ],
   "source": [
    "df.head()"
   ]
  },
  {
   "cell_type": "code",
   "execution_count": 6,
   "metadata": {},
   "outputs": [
    {
     "data": {
      "text/html": [
       "<div>\n",
       "<style scoped>\n",
       "    .dataframe tbody tr th:only-of-type {\n",
       "        vertical-align: middle;\n",
       "    }\n",
       "\n",
       "    .dataframe tbody tr th {\n",
       "        vertical-align: top;\n",
       "    }\n",
       "\n",
       "    .dataframe thead th {\n",
       "        text-align: right;\n",
       "    }\n",
       "</style>\n",
       "<table border=\"1\" class=\"dataframe\">\n",
       "  <thead>\n",
       "    <tr style=\"text-align: right;\">\n",
       "      <th></th>\n",
       "      <th>State</th>\n",
       "      <th>District</th>\n",
       "      <th>Latitude</th>\n",
       "      <th>Longitude</th>\n",
       "    </tr>\n",
       "  </thead>\n",
       "  <tbody>\n",
       "    <tr>\n",
       "      <th>0</th>\n",
       "      <td>Andaman and Nicobar</td>\n",
       "      <td>Andaman Islands</td>\n",
       "      <td>12.382571</td>\n",
       "      <td>92.822911</td>\n",
       "    </tr>\n",
       "    <tr>\n",
       "      <th>1</th>\n",
       "      <td>Andaman and Nicobar</td>\n",
       "      <td>Nicobar Islands</td>\n",
       "      <td>7.835291</td>\n",
       "      <td>93.511601</td>\n",
       "    </tr>\n",
       "    <tr>\n",
       "      <th>2</th>\n",
       "      <td>Andhra Pradesh</td>\n",
       "      <td>Adilabad</td>\n",
       "      <td>19.284514</td>\n",
       "      <td>78.813212</td>\n",
       "    </tr>\n",
       "    <tr>\n",
       "      <th>3</th>\n",
       "      <td>Andhra Pradesh</td>\n",
       "      <td>Anantapur</td>\n",
       "      <td>14.312066</td>\n",
       "      <td>77.460158</td>\n",
       "    </tr>\n",
       "    <tr>\n",
       "      <th>4</th>\n",
       "      <td>Andhra Pradesh</td>\n",
       "      <td>Chittoor</td>\n",
       "      <td>13.331093</td>\n",
       "      <td>78.927639</td>\n",
       "    </tr>\n",
       "  </tbody>\n",
       "</table>\n",
       "</div>"
      ],
      "text/plain": [
       "                 State         District   Latitude  Longitude\n",
       "0  Andaman and Nicobar  Andaman Islands  12.382571  92.822911\n",
       "1  Andaman and Nicobar  Nicobar Islands   7.835291  93.511601\n",
       "2       Andhra Pradesh         Adilabad  19.284514  78.813212\n",
       "3       Andhra Pradesh        Anantapur  14.312066  77.460158\n",
       "4       Andhra Pradesh         Chittoor  13.331093  78.927639"
      ]
     },
     "execution_count": 6,
     "metadata": {},
     "output_type": "execute_result"
    }
   ],
   "source": [
    "df1 = pd.read_csv(r'data\\district wise centroids.csv')\n",
    "df1.head()"
   ]
  },
  {
   "cell_type": "code",
   "execution_count": 7,
   "metadata": {},
   "outputs": [],
   "source": [
    "# merge both\n",
    "final_df = df1.merge(df, left_on = 'District', right_on=\"District name\")"
   ]
  },
  {
   "cell_type": "code",
   "execution_count": 8,
   "metadata": {},
   "outputs": [],
   "source": [
    "final_df.drop(columns = ['State name', 'District name'], inplace = True)"
   ]
  },
  {
   "cell_type": "code",
   "execution_count": 9,
   "metadata": {},
   "outputs": [],
   "source": [
    "final_df.rename(columns=lambda col: ' '.join(word.title() for word in col.split('_')), inplace=True)"
   ]
  },
  {
   "cell_type": "code",
   "execution_count": 10,
   "metadata": {},
   "outputs": [
    {
     "data": {
      "text/plain": [
       "Index(['State', 'District', 'Latitude', 'Longitude', 'District Code',\n",
       "       'Population', 'Male', 'Female', 'Literate', 'Male Literate',\n",
       "       'Female Literate', 'Hindus', 'Muslims', 'Christians', 'Sikhs',\n",
       "       'Buddhists', 'Jains', 'Others Religions', 'Religion Not Stated',\n",
       "       'Households', 'Below Primary Education', 'Primary Education',\n",
       "       'Middle Education', 'Secondary Education', 'Higher Education',\n",
       "       'Graduate Education', 'Other Education', 'Literate Education',\n",
       "       'Illiterate Education', 'Total Education', 'Age Group 0 29',\n",
       "       'Age Group 30 49', 'Age Group 50', 'Age Not Stated',\n",
       "       'Total Power Parity'],\n",
       "      dtype='object')"
      ]
     },
     "execution_count": 10,
     "metadata": {},
     "output_type": "execute_result"
    }
   ],
   "source": [
    "final_df.columns"
   ]
  },
  {
   "cell_type": "code",
   "execution_count": 11,
   "metadata": {},
   "outputs": [],
   "source": [
    "final_df.to_csv('indiaDetailed.csv', index=False)"
   ]
  },
  {
   "cell_type": "code",
   "execution_count": 12,
   "metadata": {},
   "outputs": [
    {
     "data": {
      "text/html": [
       "<div>\n",
       "<style scoped>\n",
       "    .dataframe tbody tr th:only-of-type {\n",
       "        vertical-align: middle;\n",
       "    }\n",
       "\n",
       "    .dataframe tbody tr th {\n",
       "        vertical-align: top;\n",
       "    }\n",
       "\n",
       "    .dataframe thead th {\n",
       "        text-align: right;\n",
       "    }\n",
       "</style>\n",
       "<table border=\"1\" class=\"dataframe\">\n",
       "  <thead>\n",
       "    <tr style=\"text-align: right;\">\n",
       "      <th></th>\n",
       "      <th>State</th>\n",
       "      <th>District</th>\n",
       "      <th>Latitude</th>\n",
       "      <th>Longitude</th>\n",
       "      <th>District Code</th>\n",
       "      <th>Population</th>\n",
       "      <th>Male</th>\n",
       "      <th>Female</th>\n",
       "      <th>Literate</th>\n",
       "      <th>Male Literate</th>\n",
       "      <th>...</th>\n",
       "      <th>Graduate Education</th>\n",
       "      <th>Other Education</th>\n",
       "      <th>Literate Education</th>\n",
       "      <th>Illiterate Education</th>\n",
       "      <th>Total Education</th>\n",
       "      <th>Age Group 0 29</th>\n",
       "      <th>Age Group 30 49</th>\n",
       "      <th>Age Group 50</th>\n",
       "      <th>Age Not Stated</th>\n",
       "      <th>Total Power Parity</th>\n",
       "    </tr>\n",
       "  </thead>\n",
       "  <tbody>\n",
       "    <tr>\n",
       "      <th>0</th>\n",
       "      <td>Andhra Pradesh</td>\n",
       "      <td>Adilabad</td>\n",
       "      <td>19.284514</td>\n",
       "      <td>78.813212</td>\n",
       "      <td>532</td>\n",
       "      <td>2741239</td>\n",
       "      <td>1369597</td>\n",
       "      <td>1371642</td>\n",
       "      <td>1483347</td>\n",
       "      <td>856350</td>\n",
       "      <td>...</td>\n",
       "      <td>100226</td>\n",
       "      <td>19277</td>\n",
       "      <td>1346992</td>\n",
       "      <td>1030640</td>\n",
       "      <td>2377632</td>\n",
       "      <td>1536378</td>\n",
       "      <td>704551</td>\n",
       "      <td>422522</td>\n",
       "      <td>77788</td>\n",
       "      <td>4181</td>\n",
       "    </tr>\n",
       "    <tr>\n",
       "      <th>1</th>\n",
       "      <td>Andhra Pradesh</td>\n",
       "      <td>Anantapur</td>\n",
       "      <td>14.312066</td>\n",
       "      <td>77.460158</td>\n",
       "      <td>553</td>\n",
       "      <td>4081148</td>\n",
       "      <td>2064495</td>\n",
       "      <td>2016653</td>\n",
       "      <td>2310960</td>\n",
       "      <td>1338474</td>\n",
       "      <td>...</td>\n",
       "      <td>144915</td>\n",
       "      <td>23341</td>\n",
       "      <td>2426929</td>\n",
       "      <td>1369069</td>\n",
       "      <td>3795998</td>\n",
       "      <td>2189396</td>\n",
       "      <td>1104565</td>\n",
       "      <td>739612</td>\n",
       "      <td>47575</td>\n",
       "      <td>5799</td>\n",
       "    </tr>\n",
       "    <tr>\n",
       "      <th>2</th>\n",
       "      <td>Andhra Pradesh</td>\n",
       "      <td>Chittoor</td>\n",
       "      <td>13.331093</td>\n",
       "      <td>78.927639</td>\n",
       "      <td>554</td>\n",
       "      <td>4174064</td>\n",
       "      <td>2090204</td>\n",
       "      <td>2083860</td>\n",
       "      <td>2667878</td>\n",
       "      <td>1484794</td>\n",
       "      <td>...</td>\n",
       "      <td>246409</td>\n",
       "      <td>36017</td>\n",
       "      <td>3062955</td>\n",
       "      <td>1170993</td>\n",
       "      <td>4233948</td>\n",
       "      <td>2148179</td>\n",
       "      <td>1159053</td>\n",
       "      <td>807430</td>\n",
       "      <td>59402</td>\n",
       "      <td>5926</td>\n",
       "    </tr>\n",
       "    <tr>\n",
       "      <th>3</th>\n",
       "      <td>Andhra Pradesh</td>\n",
       "      <td>East Godavari</td>\n",
       "      <td>16.782718</td>\n",
       "      <td>82.243207</td>\n",
       "      <td>545</td>\n",
       "      <td>5154296</td>\n",
       "      <td>2569688</td>\n",
       "      <td>2584608</td>\n",
       "      <td>3288577</td>\n",
       "      <td>1716933</td>\n",
       "      <td>...</td>\n",
       "      <td>263023</td>\n",
       "      <td>47702</td>\n",
       "      <td>3518619</td>\n",
       "      <td>1524603</td>\n",
       "      <td>5043222</td>\n",
       "      <td>2724328</td>\n",
       "      <td>1478954</td>\n",
       "      <td>948122</td>\n",
       "      <td>2892</td>\n",
       "      <td>7211</td>\n",
       "    </tr>\n",
       "    <tr>\n",
       "      <th>4</th>\n",
       "      <td>Andhra Pradesh</td>\n",
       "      <td>Guntur</td>\n",
       "      <td>15.884926</td>\n",
       "      <td>80.586576</td>\n",
       "      <td>548</td>\n",
       "      <td>4887813</td>\n",
       "      <td>2440521</td>\n",
       "      <td>2447292</td>\n",
       "      <td>2960441</td>\n",
       "      <td>1634726</td>\n",
       "      <td>...</td>\n",
       "      <td>221924</td>\n",
       "      <td>30279</td>\n",
       "      <td>3209266</td>\n",
       "      <td>1474349</td>\n",
       "      <td>4683615</td>\n",
       "      <td>2583462</td>\n",
       "      <td>1371811</td>\n",
       "      <td>928462</td>\n",
       "      <td>4078</td>\n",
       "      <td>6981</td>\n",
       "    </tr>\n",
       "  </tbody>\n",
       "</table>\n",
       "<p>5 rows × 35 columns</p>\n",
       "</div>"
      ],
      "text/plain": [
       "            State       District   Latitude  Longitude  District Code  \\\n",
       "0  Andhra Pradesh       Adilabad  19.284514  78.813212            532   \n",
       "1  Andhra Pradesh      Anantapur  14.312066  77.460158            553   \n",
       "2  Andhra Pradesh       Chittoor  13.331093  78.927639            554   \n",
       "3  Andhra Pradesh  East Godavari  16.782718  82.243207            545   \n",
       "4  Andhra Pradesh         Guntur  15.884926  80.586576            548   \n",
       "\n",
       "   Population     Male   Female  Literate  Male Literate  ...  \\\n",
       "0     2741239  1369597  1371642   1483347         856350  ...   \n",
       "1     4081148  2064495  2016653   2310960        1338474  ...   \n",
       "2     4174064  2090204  2083860   2667878        1484794  ...   \n",
       "3     5154296  2569688  2584608   3288577        1716933  ...   \n",
       "4     4887813  2440521  2447292   2960441        1634726  ...   \n",
       "\n",
       "   Graduate Education  Other Education  Literate Education  \\\n",
       "0              100226            19277             1346992   \n",
       "1              144915            23341             2426929   \n",
       "2              246409            36017             3062955   \n",
       "3              263023            47702             3518619   \n",
       "4              221924            30279             3209266   \n",
       "\n",
       "   Illiterate Education  Total Education  Age Group 0 29  Age Group 30 49  \\\n",
       "0               1030640          2377632         1536378           704551   \n",
       "1               1369069          3795998         2189396          1104565   \n",
       "2               1170993          4233948         2148179          1159053   \n",
       "3               1524603          5043222         2724328          1478954   \n",
       "4               1474349          4683615         2583462          1371811   \n",
       "\n",
       "   Age Group 50  Age Not Stated  Total Power Parity  \n",
       "0        422522           77788                4181  \n",
       "1        739612           47575                5799  \n",
       "2        807430           59402                5926  \n",
       "3        948122            2892                7211  \n",
       "4        928462            4078                6981  \n",
       "\n",
       "[5 rows x 35 columns]"
      ]
     },
     "execution_count": 12,
     "metadata": {},
     "output_type": "execute_result"
    }
   ],
   "source": [
    "final_df.head()"
   ]
  },
  {
   "cell_type": "code",
   "execution_count": 13,
   "metadata": {},
   "outputs": [],
   "source": [
    "cols = list(final_df.columns)\n",
    "cols.insert(0, 'Overall India')"
   ]
  },
  {
   "cell_type": "code",
   "execution_count": 14,
   "metadata": {},
   "outputs": [
    {
     "data": {
      "text/plain": [
       "1020091931"
      ]
     },
     "execution_count": 14,
     "metadata": {},
     "output_type": "execute_result"
    }
   ],
   "source": [
    "final_df['Population'].sum()"
   ]
  },
  {
   "cell_type": "code",
   "execution_count": 15,
   "metadata": {},
   "outputs": [
    {
     "data": {
      "text/plain": [
       "105473507"
      ]
     },
     "execution_count": 15,
     "metadata": {},
     "output_type": "execute_result"
    }
   ],
   "source": [
    "final_df[final_df['State'] == 'Bihar']['Population'].sum()"
   ]
  },
  {
   "cell_type": "code",
   "execution_count": 16,
   "metadata": {},
   "outputs": [
    {
     "data": {
      "text/plain": [
       "94"
      ]
     },
     "execution_count": 16,
     "metadata": {},
     "output_type": "execute_result"
    }
   ],
   "source": [
    "# sex ratio\n",
    "((final_df['Female'] / final_df['Male']) * 100).mean().astype(int)"
   ]
  },
  {
   "cell_type": "code",
   "execution_count": 17,
   "metadata": {},
   "outputs": [],
   "source": [
    "final_df['Sex Ratio'] = ((final_df['Female'] / final_df['Male'])*100).astype(int)"
   ]
  },
  {
   "cell_type": "code",
   "execution_count": 18,
   "metadata": {},
   "outputs": [
    {
     "data": {
      "text/plain": [
       "0      100\n",
       "1       97\n",
       "2       99\n",
       "3      100\n",
       "4      100\n",
       "      ... \n",
       "512     94\n",
       "513     95\n",
       "514     94\n",
       "515     95\n",
       "516     93\n",
       "Name: Sex Ratio, Length: 517, dtype: int32"
      ]
     },
     "execution_count": 18,
     "metadata": {},
     "output_type": "execute_result"
    }
   ],
   "source": [
    "final_df['Sex Ratio']"
   ]
  },
  {
   "cell_type": "code",
   "execution_count": 19,
   "metadata": {},
   "outputs": [],
   "source": [
    "final_df['Literacy Rate'] = ((final_df['Literate'] / final_df['Population']) * 100).astype(int)"
   ]
  },
  {
   "cell_type": "code",
   "execution_count": 34,
   "metadata": {},
   "outputs": [],
   "source": [
    "final_df.to_csv('indiaDetailed.csv', index=False)"
   ]
  },
  {
   "cell_type": "code",
   "execution_count": 21,
   "metadata": {},
   "outputs": [
    {
     "data": {
      "text/plain": [
       "Index(['State', 'District', 'Latitude', 'Longitude', 'District Code',\n",
       "       'Population', 'Male', 'Female', 'Literate', 'Male Literate',\n",
       "       'Female Literate', 'Hindus', 'Muslims', 'Christians', 'Sikhs',\n",
       "       'Buddhists', 'Jains', 'Others Religions', 'Religion Not Stated',\n",
       "       'Households', 'Below Primary Education', 'Primary Education',\n",
       "       'Middle Education', 'Secondary Education', 'Higher Education',\n",
       "       'Graduate Education', 'Other Education', 'Literate Education',\n",
       "       'Illiterate Education', 'Total Education', 'Age Group 0 29',\n",
       "       'Age Group 30 49', 'Age Group 50', 'Age Not Stated',\n",
       "       'Total Power Parity', 'Sex Ratio', 'Literacy Rate'],\n",
       "      dtype='object')"
      ]
     },
     "execution_count": 21,
     "metadata": {},
     "output_type": "execute_result"
    }
   ],
   "source": [
    "final_df.columns"
   ]
  },
  {
   "cell_type": "code",
   "execution_count": 22,
   "metadata": {},
   "outputs": [
    {
     "data": {
      "text/plain": [
       "50.054054054054056"
      ]
     },
     "execution_count": 22,
     "metadata": {},
     "output_type": "execute_result"
    }
   ],
   "source": [
    "final_df[final_df['State'] == 'Bihar']['Literacy Rate'].mean()"
   ]
  },
  {
   "cell_type": "code",
   "execution_count": 23,
   "metadata": {},
   "outputs": [
    {
     "data": {
      "text/plain": [
       "'123M'"
      ]
     },
     "execution_count": 23,
     "metadata": {},
     "output_type": "execute_result"
    }
   ],
   "source": [
    "import millify\n",
    "millify.millify(123456789)\n"
   ]
  },
  {
   "cell_type": "code",
   "execution_count": 33,
   "metadata": {},
   "outputs": [
    {
     "data": {
      "text/html": [
       "<div>\n",
       "<style scoped>\n",
       "    .dataframe tbody tr th:only-of-type {\n",
       "        vertical-align: middle;\n",
       "    }\n",
       "\n",
       "    .dataframe tbody tr th {\n",
       "        vertical-align: top;\n",
       "    }\n",
       "\n",
       "    .dataframe thead th {\n",
       "        text-align: right;\n",
       "    }\n",
       "</style>\n",
       "<table border=\"1\" class=\"dataframe\">\n",
       "  <thead>\n",
       "    <tr style=\"text-align: right;\">\n",
       "      <th></th>\n",
       "      <th>State</th>\n",
       "      <th>Literacy Rate</th>\n",
       "    </tr>\n",
       "  </thead>\n",
       "  <tbody>\n",
       "    <tr>\n",
       "      <th>0</th>\n",
       "      <td>Kerala</td>\n",
       "      <td>83.230769</td>\n",
       "    </tr>\n",
       "    <tr>\n",
       "      <th>1</th>\n",
       "      <td>Goa</td>\n",
       "      <td>79.500000</td>\n",
       "    </tr>\n",
       "    <tr>\n",
       "      <th>2</th>\n",
       "      <td>Sikkim</td>\n",
       "      <td>79.000000</td>\n",
       "    </tr>\n",
       "    <tr>\n",
       "      <th>3</th>\n",
       "      <td>Puducherry</td>\n",
       "      <td>78.000000</td>\n",
       "    </tr>\n",
       "    <tr>\n",
       "      <th>4</th>\n",
       "      <td>Chandigarh</td>\n",
       "      <td>76.000000</td>\n",
       "    </tr>\n",
       "    <tr>\n",
       "      <th>5</th>\n",
       "      <td>Mizoram</td>\n",
       "      <td>74.625000</td>\n",
       "    </tr>\n",
       "    <tr>\n",
       "      <th>6</th>\n",
       "      <td>Tripura</td>\n",
       "      <td>74.500000</td>\n",
       "    </tr>\n",
       "    <tr>\n",
       "      <th>7</th>\n",
       "      <td>Daman and Diu</td>\n",
       "      <td>72.500000</td>\n",
       "    </tr>\n",
       "    <tr>\n",
       "      <th>8</th>\n",
       "      <td>Tamil Nadu</td>\n",
       "      <td>70.600000</td>\n",
       "    </tr>\n",
       "    <tr>\n",
       "      <th>9</th>\n",
       "      <td>Himachal Pradesh</td>\n",
       "      <td>70.384615</td>\n",
       "    </tr>\n",
       "  </tbody>\n",
       "</table>\n",
       "</div>"
      ],
      "text/plain": [
       "              State  Literacy Rate\n",
       "0            Kerala      83.230769\n",
       "1               Goa      79.500000\n",
       "2            Sikkim      79.000000\n",
       "3        Puducherry      78.000000\n",
       "4        Chandigarh      76.000000\n",
       "5           Mizoram      74.625000\n",
       "6           Tripura      74.500000\n",
       "7     Daman and Diu      72.500000\n",
       "8        Tamil Nadu      70.600000\n",
       "9  Himachal Pradesh      70.384615"
      ]
     },
     "execution_count": 33,
     "metadata": {},
     "output_type": "execute_result"
    }
   ],
   "source": [
    "final_df.groupby('State')['Literacy Rate'].mean().sort_values(ascending=False).head(10).reset_index()"
   ]
  },
  {
   "cell_type": "code",
   "execution_count": 38,
   "metadata": {},
   "outputs": [
    {
     "data": {
      "text/html": [
       "<div>\n",
       "<style scoped>\n",
       "    .dataframe tbody tr th:only-of-type {\n",
       "        vertical-align: middle;\n",
       "    }\n",
       "\n",
       "    .dataframe tbody tr th {\n",
       "        vertical-align: top;\n",
       "    }\n",
       "\n",
       "    .dataframe thead th {\n",
       "        text-align: right;\n",
       "    }\n",
       "</style>\n",
       "<table border=\"1\" class=\"dataframe\">\n",
       "  <thead>\n",
       "    <tr style=\"text-align: right;\">\n",
       "      <th></th>\n",
       "      <th>District</th>\n",
       "      <th>Literacy Rate</th>\n",
       "    </tr>\n",
       "  </thead>\n",
       "  <tbody>\n",
       "    <tr>\n",
       "      <th>0</th>\n",
       "      <td>Aurangabad</td>\n",
       "      <td>62.0</td>\n",
       "    </tr>\n",
       "    <tr>\n",
       "      <th>1</th>\n",
       "      <td>Rohtas</td>\n",
       "      <td>60.0</td>\n",
       "    </tr>\n",
       "    <tr>\n",
       "      <th>2</th>\n",
       "      <td>Patna</td>\n",
       "      <td>59.0</td>\n",
       "    </tr>\n",
       "    <tr>\n",
       "      <th>3</th>\n",
       "      <td>Munger</td>\n",
       "      <td>58.0</td>\n",
       "    </tr>\n",
       "    <tr>\n",
       "      <th>4</th>\n",
       "      <td>Bhojpur</td>\n",
       "      <td>58.0</td>\n",
       "    </tr>\n",
       "    <tr>\n",
       "      <th>5</th>\n",
       "      <td>Buxar</td>\n",
       "      <td>58.0</td>\n",
       "    </tr>\n",
       "    <tr>\n",
       "      <th>6</th>\n",
       "      <td>Siwan</td>\n",
       "      <td>57.0</td>\n",
       "    </tr>\n",
       "    <tr>\n",
       "      <th>7</th>\n",
       "      <td>Vaishali</td>\n",
       "      <td>55.0</td>\n",
       "    </tr>\n",
       "    <tr>\n",
       "      <th>8</th>\n",
       "      <td>Saran</td>\n",
       "      <td>54.0</td>\n",
       "    </tr>\n",
       "    <tr>\n",
       "      <th>9</th>\n",
       "      <td>Jehanabad</td>\n",
       "      <td>54.0</td>\n",
       "    </tr>\n",
       "  </tbody>\n",
       "</table>\n",
       "</div>"
      ],
      "text/plain": [
       "     District  Literacy Rate\n",
       "0  Aurangabad           62.0\n",
       "1      Rohtas           60.0\n",
       "2       Patna           59.0\n",
       "3      Munger           58.0\n",
       "4     Bhojpur           58.0\n",
       "5       Buxar           58.0\n",
       "6       Siwan           57.0\n",
       "7    Vaishali           55.0\n",
       "8       Saran           54.0\n",
       "9   Jehanabad           54.0"
      ]
     },
     "execution_count": 38,
     "metadata": {},
     "output_type": "execute_result"
    }
   ],
   "source": [
    "final_df[final_df['State'] == 'Bihar'].groupby('District')['Literacy Rate'].mean().sort_values(ascending=False).reset_index().head(10)"
   ]
  },
  {
   "cell_type": "code",
   "execution_count": 39,
   "metadata": {},
   "outputs": [
    {
     "data": {
      "text/plain": [
       "Index(['State', 'District', 'Latitude', 'Longitude', 'District Code',\n",
       "       'Population', 'Male', 'Female', 'Literate', 'Male Literate',\n",
       "       'Female Literate', 'Hindus', 'Muslims', 'Christians', 'Sikhs',\n",
       "       'Buddhists', 'Jains', 'Others Religions', 'Religion Not Stated',\n",
       "       'Households', 'Below Primary Education', 'Primary Education',\n",
       "       'Middle Education', 'Secondary Education', 'Higher Education',\n",
       "       'Graduate Education', 'Other Education', 'Literate Education',\n",
       "       'Illiterate Education', 'Total Education', 'Age Group 0 29',\n",
       "       'Age Group 30 49', 'Age Group 50', 'Age Not Stated',\n",
       "       'Total Power Parity', 'Sex Ratio', 'Literacy Rate'],\n",
       "      dtype='object')"
      ]
     },
     "execution_count": 39,
     "metadata": {},
     "output_type": "execute_result"
    }
   ],
   "source": [
    "\n",
    "final_df.columns"
   ]
  },
  {
   "cell_type": "code",
   "execution_count": 50,
   "metadata": {},
   "outputs": [],
   "source": [
    "religion = ['State', 'District' ,'Hindus', 'Muslims', 'Christians', 'Sikhs','Buddhists', 'Jains', 'Others Religions', 'Religion Not Stated']\n",
    "religion_df = final_df[religion].groupby('State').sum().reset_index()"
   ]
  },
  {
   "cell_type": "code",
   "execution_count": 65,
   "metadata": {},
   "outputs": [
    {
     "data": {
      "text/plain": [
       "Hindus                 86533796\n",
       "Muslims                18124944\n",
       "Christians               143441\n",
       "Sikhs                     28566\n",
       "Buddhists                326516\n",
       "Jains                     49692\n",
       "Others Religions          12848\n",
       "Religion Not Stated      253704\n",
       "dtype: int64"
      ]
     },
     "execution_count": 65,
     "metadata": {},
     "output_type": "execute_result"
    }
   ],
   "source": [
    "x = religion_df[religion_df['State'] == 'Bihar'][['Hindus', 'Muslims', 'Christians', 'Sikhs','Buddhists', 'Jains', 'Others Religions', 'Religion Not Stated']].sum()\n",
    "x"
   ]
  },
  {
   "cell_type": "code",
   "execution_count": 56,
   "metadata": {},
   "outputs": [],
   "source": [
    "import matplotlib.pyplot as plt"
   ]
  },
  {
   "cell_type": "code",
   "execution_count": 67,
   "metadata": {},
   "outputs": [
    {
     "data": {
      "text/plain": [
       "([<matplotlib.patches.Wedge at 0x23b37911fd0>,\n",
       "  <matplotlib.patches.Wedge at 0x23b3790a840>,\n",
       "  <matplotlib.patches.Wedge at 0x23b37913170>,\n",
       "  <matplotlib.patches.Wedge at 0x23b379135c0>,\n",
       "  <matplotlib.patches.Wedge at 0x23b379139e0>,\n",
       "  <matplotlib.patches.Wedge at 0x23b37913e30>,\n",
       "  <matplotlib.patches.Wedge at 0x23b389e4290>,\n",
       "  <matplotlib.patches.Wedge at 0x23b389e4770>],\n",
       " [Text(-0.9295590327366061, 0.5881496447825038, 'Hindus'),\n",
       "  Text(0.9150133294938453, -0.6105330513973736, 'Muslims'),\n",
       "  Text(1.0989225550802244, -0.0486746128484985, 'Christians'),\n",
       "  Text(1.099157507739602, -0.043043851821915884, 'Sikhs'),\n",
       "  Text(1.0995512707261408, -0.03141660459898822, 'Buddhists'),\n",
       "  Text(1.0998342728523516, -0.01909377540821275, 'Jains'),\n",
       "  Text(1.099867932356276, -0.017044980913186077, 'Others Religions'),\n",
       "  Text(1.0999685935748014, -0.008312228887216883, 'Religion Not Stated')])"
      ]
     },
     "execution_count": 67,
     "metadata": {},
     "output_type": "execute_result"
    },
    {
     "data": {
      "image/png": "[encoded data removed]",
      "text/plain": [
       "<Figure size 640x480 with 1 Axes>"
      ]
     },
     "metadata": {},
     "output_type": "display_data"
    }
   ],
   "source": [
    "plt.pie(x, labels=x.index)"
   ]
  },
  {
   "cell_type": "code",
   "execution_count": 73,
   "metadata": {},
   "outputs": [
    {
     "data": {
      "text/html": [
       "<div>\n",
       "<style scoped>\n",
       "    .dataframe tbody tr th:only-of-type {\n",
       "        vertical-align: middle;\n",
       "    }\n",
       "\n",
       "    .dataframe tbody tr th {\n",
       "        vertical-align: top;\n",
       "    }\n",
       "\n",
       "    .dataframe thead th {\n",
       "        text-align: right;\n",
       "    }\n",
       "</style>\n",
       "<table border=\"1\" class=\"dataframe\">\n",
       "  <thead>\n",
       "    <tr style=\"text-align: right;\">\n",
       "      <th></th>\n",
       "      <th>State</th>\n",
       "      <th>District</th>\n",
       "      <th>Latitude</th>\n",
       "      <th>Longitude</th>\n",
       "      <th>District Code</th>\n",
       "      <th>Population</th>\n",
       "      <th>Male</th>\n",
       "      <th>Female</th>\n",
       "      <th>Literate</th>\n",
       "      <th>Male Literate</th>\n",
       "      <th>...</th>\n",
       "      <th>Literate Education</th>\n",
       "      <th>Illiterate Education</th>\n",
       "      <th>Total Education</th>\n",
       "      <th>Age Group 0 29</th>\n",
       "      <th>Age Group 30 49</th>\n",
       "      <th>Age Group 50</th>\n",
       "      <th>Age Not Stated</th>\n",
       "      <th>Total Power Parity</th>\n",
       "      <th>Sex Ratio</th>\n",
       "      <th>Literacy Rate</th>\n",
       "    </tr>\n",
       "  </thead>\n",
       "  <tbody>\n",
       "    <tr>\n",
       "      <th>52</th>\n",
       "      <td>Bihar</td>\n",
       "      <td>Araria</td>\n",
       "      <td>26.211528</td>\n",
       "      <td>87.307666</td>\n",
       "      <td>209</td>\n",
       "      <td>2811569</td>\n",
       "      <td>1463333</td>\n",
       "      <td>1348236</td>\n",
       "      <td>1195768</td>\n",
       "      <td>727643</td>\n",
       "      <td>...</td>\n",
       "      <td>1485840</td>\n",
       "      <td>1653766</td>\n",
       "      <td>3139606</td>\n",
       "      <td>1872943</td>\n",
       "      <td>612012</td>\n",
       "      <td>324091</td>\n",
       "      <td>2523</td>\n",
       "      <td>2035</td>\n",
       "      <td>92</td>\n",
       "      <td>42</td>\n",
       "    </tr>\n",
       "    <tr>\n",
       "      <th>53</th>\n",
       "      <td>Bihar</td>\n",
       "      <td>Aurangabad</td>\n",
       "      <td>24.774292</td>\n",
       "      <td>84.459860</td>\n",
       "      <td>235</td>\n",
       "      <td>2540073</td>\n",
       "      <td>1318684</td>\n",
       "      <td>1221389</td>\n",
       "      <td>1466002</td>\n",
       "      <td>868733</td>\n",
       "      <td>...</td>\n",
       "      <td>1833998</td>\n",
       "      <td>784131</td>\n",
       "      <td>2618129</td>\n",
       "      <td>1626969</td>\n",
       "      <td>564571</td>\n",
       "      <td>340948</td>\n",
       "      <td>7585</td>\n",
       "      <td>2215</td>\n",
       "      <td>92</td>\n",
       "      <td>57</td>\n",
       "    </tr>\n",
       "    <tr>\n",
       "      <th>54</th>\n",
       "      <td>Bihar</td>\n",
       "      <td>Aurangabad</td>\n",
       "      <td>24.774292</td>\n",
       "      <td>84.459860</td>\n",
       "      <td>515</td>\n",
       "      <td>3701282</td>\n",
       "      <td>1924469</td>\n",
       "      <td>1776813</td>\n",
       "      <td>2503837</td>\n",
       "      <td>1430936</td>\n",
       "      <td>...</td>\n",
       "      <td>2611982</td>\n",
       "      <td>819734</td>\n",
       "      <td>3431716</td>\n",
       "      <td>2211996</td>\n",
       "      <td>909771</td>\n",
       "      <td>571932</td>\n",
       "      <td>7583</td>\n",
       "      <td>8119</td>\n",
       "      <td>92</td>\n",
       "      <td>67</td>\n",
       "    </tr>\n",
       "    <tr>\n",
       "      <th>55</th>\n",
       "      <td>Bihar</td>\n",
       "      <td>Banka</td>\n",
       "      <td>24.832356</td>\n",
       "      <td>86.866492</td>\n",
       "      <td>225</td>\n",
       "      <td>2034763</td>\n",
       "      <td>1067140</td>\n",
       "      <td>967623</td>\n",
       "      <td>965321</td>\n",
       "      <td>590961</td>\n",
       "      <td>...</td>\n",
       "      <td>1214645</td>\n",
       "      <td>879831</td>\n",
       "      <td>2094476</td>\n",
       "      <td>1291235</td>\n",
       "      <td>462080</td>\n",
       "      <td>278863</td>\n",
       "      <td>2585</td>\n",
       "      <td>1738</td>\n",
       "      <td>90</td>\n",
       "      <td>47</td>\n",
       "    </tr>\n",
       "    <tr>\n",
       "      <th>56</th>\n",
       "      <td>Bihar</td>\n",
       "      <td>Begusarai</td>\n",
       "      <td>25.543026</td>\n",
       "      <td>86.125601</td>\n",
       "      <td>222</td>\n",
       "      <td>2970541</td>\n",
       "      <td>1567660</td>\n",
       "      <td>1402881</td>\n",
       "      <td>1548673</td>\n",
       "      <td>918507</td>\n",
       "      <td>...</td>\n",
       "      <td>1822334</td>\n",
       "      <td>1242551</td>\n",
       "      <td>3064885</td>\n",
       "      <td>1951688</td>\n",
       "      <td>644874</td>\n",
       "      <td>369996</td>\n",
       "      <td>3983</td>\n",
       "      <td>2354</td>\n",
       "      <td>89</td>\n",
       "      <td>52</td>\n",
       "    </tr>\n",
       "    <tr>\n",
       "      <th>57</th>\n",
       "      <td>Bihar</td>\n",
       "      <td>Bhagalpur</td>\n",
       "      <td>25.277193</td>\n",
       "      <td>87.042138</td>\n",
       "      <td>224</td>\n",
       "      <td>3037766</td>\n",
       "      <td>1615663</td>\n",
       "      <td>1422103</td>\n",
       "      <td>1573066</td>\n",
       "      <td>937669</td>\n",
       "      <td>...</td>\n",
       "      <td>1976417</td>\n",
       "      <td>1139715</td>\n",
       "      <td>3116132</td>\n",
       "      <td>1952879</td>\n",
       "      <td>674660</td>\n",
       "      <td>397654</td>\n",
       "      <td>12573</td>\n",
       "      <td>2814</td>\n",
       "      <td>88</td>\n",
       "      <td>51</td>\n",
       "    </tr>\n",
       "    <tr>\n",
       "      <th>58</th>\n",
       "      <td>Bihar</td>\n",
       "      <td>Bhojpur</td>\n",
       "      <td>25.506664</td>\n",
       "      <td>84.494078</td>\n",
       "      <td>231</td>\n",
       "      <td>2728407</td>\n",
       "      <td>1430380</td>\n",
       "      <td>1298027</td>\n",
       "      <td>1599151</td>\n",
       "      <td>973486</td>\n",
       "      <td>...</td>\n",
       "      <td>2172525</td>\n",
       "      <td>1005140</td>\n",
       "      <td>3177665</td>\n",
       "      <td>1722387</td>\n",
       "      <td>613072</td>\n",
       "      <td>387389</td>\n",
       "      <td>5559</td>\n",
       "      <td>2600</td>\n",
       "      <td>90</td>\n",
       "      <td>58</td>\n",
       "    </tr>\n",
       "    <tr>\n",
       "      <th>59</th>\n",
       "      <td>Bihar</td>\n",
       "      <td>Buxar</td>\n",
       "      <td>25.485930</td>\n",
       "      <td>84.088081</td>\n",
       "      <td>232</td>\n",
       "      <td>1706352</td>\n",
       "      <td>887977</td>\n",
       "      <td>818375</td>\n",
       "      <td>989807</td>\n",
       "      <td>593544</td>\n",
       "      <td>...</td>\n",
       "      <td>1344677</td>\n",
       "      <td>457814</td>\n",
       "      <td>1802491</td>\n",
       "      <td>1074754</td>\n",
       "      <td>375372</td>\n",
       "      <td>253998</td>\n",
       "      <td>2228</td>\n",
       "      <td>1556</td>\n",
       "      <td>92</td>\n",
       "      <td>58</td>\n",
       "    </tr>\n",
       "    <tr>\n",
       "      <th>60</th>\n",
       "      <td>Bihar</td>\n",
       "      <td>Darbhanga</td>\n",
       "      <td>26.146188</td>\n",
       "      <td>85.973874</td>\n",
       "      <td>215</td>\n",
       "      <td>3937385</td>\n",
       "      <td>2059949</td>\n",
       "      <td>1877436</td>\n",
       "      <td>1816634</td>\n",
       "      <td>1125566</td>\n",
       "      <td>...</td>\n",
       "      <td>2028545</td>\n",
       "      <td>2203198</td>\n",
       "      <td>4231743</td>\n",
       "      <td>2535344</td>\n",
       "      <td>865971</td>\n",
       "      <td>529314</td>\n",
       "      <td>6756</td>\n",
       "      <td>3514</td>\n",
       "      <td>91</td>\n",
       "      <td>46</td>\n",
       "    </tr>\n",
       "    <tr>\n",
       "      <th>61</th>\n",
       "      <td>Bihar</td>\n",
       "      <td>Gaya</td>\n",
       "      <td>24.726654</td>\n",
       "      <td>84.942912</td>\n",
       "      <td>236</td>\n",
       "      <td>4391418</td>\n",
       "      <td>2266566</td>\n",
       "      <td>2124852</td>\n",
       "      <td>2297613</td>\n",
       "      <td>1368803</td>\n",
       "      <td>...</td>\n",
       "      <td>2784730</td>\n",
       "      <td>1953368</td>\n",
       "      <td>4738098</td>\n",
       "      <td>2810026</td>\n",
       "      <td>936630</td>\n",
       "      <td>537333</td>\n",
       "      <td>107429</td>\n",
       "      <td>3998</td>\n",
       "      <td>93</td>\n",
       "      <td>52</td>\n",
       "    </tr>\n",
       "    <tr>\n",
       "      <th>62</th>\n",
       "      <td>Bihar</td>\n",
       "      <td>Gopalganj</td>\n",
       "      <td>26.448744</td>\n",
       "      <td>84.346361</td>\n",
       "      <td>217</td>\n",
       "      <td>2562012</td>\n",
       "      <td>1267666</td>\n",
       "      <td>1294346</td>\n",
       "      <td>1382998</td>\n",
       "      <td>793905</td>\n",
       "      <td>...</td>\n",
       "      <td>1736879</td>\n",
       "      <td>977719</td>\n",
       "      <td>2714598</td>\n",
       "      <td>1642807</td>\n",
       "      <td>546202</td>\n",
       "      <td>370662</td>\n",
       "      <td>2341</td>\n",
       "      <td>2370</td>\n",
       "      <td>102</td>\n",
       "      <td>53</td>\n",
       "    </tr>\n",
       "    <tr>\n",
       "      <th>63</th>\n",
       "      <td>Bihar</td>\n",
       "      <td>Jamui</td>\n",
       "      <td>24.784184</td>\n",
       "      <td>86.263163</td>\n",
       "      <td>238</td>\n",
       "      <td>1760405</td>\n",
       "      <td>916064</td>\n",
       "      <td>844341</td>\n",
       "      <td>858588</td>\n",
       "      <td>534385</td>\n",
       "      <td>...</td>\n",
       "      <td>1085477</td>\n",
       "      <td>765297</td>\n",
       "      <td>1850774</td>\n",
       "      <td>1135919</td>\n",
       "      <td>392052</td>\n",
       "      <td>227016</td>\n",
       "      <td>5418</td>\n",
       "      <td>1516</td>\n",
       "      <td>92</td>\n",
       "      <td>48</td>\n",
       "    </tr>\n",
       "    <tr>\n",
       "      <th>64</th>\n",
       "      <td>Bihar</td>\n",
       "      <td>Jehanabad</td>\n",
       "      <td>25.155679</td>\n",
       "      <td>84.920812</td>\n",
       "      <td>239</td>\n",
       "      <td>1125313</td>\n",
       "      <td>585582</td>\n",
       "      <td>539731</td>\n",
       "      <td>618881</td>\n",
       "      <td>374412</td>\n",
       "      <td>...</td>\n",
       "      <td>725997</td>\n",
       "      <td>495877</td>\n",
       "      <td>1221874</td>\n",
       "      <td>714244</td>\n",
       "      <td>254582</td>\n",
       "      <td>155106</td>\n",
       "      <td>1381</td>\n",
       "      <td>960</td>\n",
       "      <td>92</td>\n",
       "      <td>54</td>\n",
       "    </tr>\n",
       "    <tr>\n",
       "      <th>65</th>\n",
       "      <td>Bihar</td>\n",
       "      <td>Katihar</td>\n",
       "      <td>25.565654</td>\n",
       "      <td>87.704661</td>\n",
       "      <td>212</td>\n",
       "      <td>3071029</td>\n",
       "      <td>1600430</td>\n",
       "      <td>1470599</td>\n",
       "      <td>1280190</td>\n",
       "      <td>762256</td>\n",
       "      <td>...</td>\n",
       "      <td>1445438</td>\n",
       "      <td>1705551</td>\n",
       "      <td>3150989</td>\n",
       "      <td>2054202</td>\n",
       "      <td>660403</td>\n",
       "      <td>353483</td>\n",
       "      <td>2941</td>\n",
       "      <td>2516</td>\n",
       "      <td>91</td>\n",
       "      <td>41</td>\n",
       "    </tr>\n",
       "    <tr>\n",
       "      <th>66</th>\n",
       "      <td>Bihar</td>\n",
       "      <td>Khagaria</td>\n",
       "      <td>25.535589</td>\n",
       "      <td>86.565933</td>\n",
       "      <td>223</td>\n",
       "      <td>1666886</td>\n",
       "      <td>883786</td>\n",
       "      <td>783100</td>\n",
       "      <td>768028</td>\n",
       "      <td>461153</td>\n",
       "      <td>...</td>\n",
       "      <td>925251</td>\n",
       "      <td>903323</td>\n",
       "      <td>1828574</td>\n",
       "      <td>1114645</td>\n",
       "      <td>355531</td>\n",
       "      <td>195796</td>\n",
       "      <td>914</td>\n",
       "      <td>1254</td>\n",
       "      <td>88</td>\n",
       "      <td>46</td>\n",
       "    </tr>\n",
       "    <tr>\n",
       "      <th>67</th>\n",
       "      <td>Bihar</td>\n",
       "      <td>Kishanganj</td>\n",
       "      <td>26.324337</td>\n",
       "      <td>87.950450</td>\n",
       "      <td>210</td>\n",
       "      <td>1690400</td>\n",
       "      <td>866970</td>\n",
       "      <td>823430</td>\n",
       "      <td>745056</td>\n",
       "      <td>439921</td>\n",
       "      <td>...</td>\n",
       "      <td>769119</td>\n",
       "      <td>945397</td>\n",
       "      <td>1714516</td>\n",
       "      <td>1139615</td>\n",
       "      <td>361114</td>\n",
       "      <td>188447</td>\n",
       "      <td>1224</td>\n",
       "      <td>1347</td>\n",
       "      <td>94</td>\n",
       "      <td>44</td>\n",
       "    </tr>\n",
       "    <tr>\n",
       "      <th>68</th>\n",
       "      <td>Bihar</td>\n",
       "      <td>Lakhisarai</td>\n",
       "      <td>25.183449</td>\n",
       "      <td>86.128257</td>\n",
       "      <td>227</td>\n",
       "      <td>1000912</td>\n",
       "      <td>526345</td>\n",
       "      <td>474567</td>\n",
       "      <td>507270</td>\n",
       "      <td>305182</td>\n",
       "      <td>...</td>\n",
       "      <td>597955</td>\n",
       "      <td>450967</td>\n",
       "      <td>1048922</td>\n",
       "      <td>650642</td>\n",
       "      <td>218840</td>\n",
       "      <td>130655</td>\n",
       "      <td>775</td>\n",
       "      <td>904</td>\n",
       "      <td>90</td>\n",
       "      <td>50</td>\n",
       "    </tr>\n",
       "    <tr>\n",
       "      <th>69</th>\n",
       "      <td>Bihar</td>\n",
       "      <td>Madhepura</td>\n",
       "      <td>25.773419</td>\n",
       "      <td>86.897844</td>\n",
       "      <td>213</td>\n",
       "      <td>2001762</td>\n",
       "      <td>1047559</td>\n",
       "      <td>954203</td>\n",
       "      <td>834577</td>\n",
       "      <td>517666</td>\n",
       "      <td>...</td>\n",
       "      <td>875510</td>\n",
       "      <td>1202278</td>\n",
       "      <td>2077788</td>\n",
       "      <td>1311771</td>\n",
       "      <td>444235</td>\n",
       "      <td>242382</td>\n",
       "      <td>3374</td>\n",
       "      <td>1494</td>\n",
       "      <td>91</td>\n",
       "      <td>41</td>\n",
       "    </tr>\n",
       "    <tr>\n",
       "      <th>70</th>\n",
       "      <td>Bihar</td>\n",
       "      <td>Madhubani</td>\n",
       "      <td>26.413805</td>\n",
       "      <td>86.163284</td>\n",
       "      <td>207</td>\n",
       "      <td>4487379</td>\n",
       "      <td>2329313</td>\n",
       "      <td>2158066</td>\n",
       "      <td>2155338</td>\n",
       "      <td>1340085</td>\n",
       "      <td>...</td>\n",
       "      <td>2698989</td>\n",
       "      <td>2003079</td>\n",
       "      <td>4702068</td>\n",
       "      <td>2860455</td>\n",
       "      <td>1009424</td>\n",
       "      <td>611899</td>\n",
       "      <td>5601</td>\n",
       "      <td>3520</td>\n",
       "      <td>92</td>\n",
       "      <td>48</td>\n",
       "    </tr>\n",
       "    <tr>\n",
       "      <th>71</th>\n",
       "      <td>Bihar</td>\n",
       "      <td>Munger</td>\n",
       "      <td>25.198538</td>\n",
       "      <td>86.541737</td>\n",
       "      <td>226</td>\n",
       "      <td>1367765</td>\n",
       "      <td>729041</td>\n",
       "      <td>638724</td>\n",
       "      <td>801817</td>\n",
       "      <td>473741</td>\n",
       "      <td>...</td>\n",
       "      <td>849734</td>\n",
       "      <td>498676</td>\n",
       "      <td>1348410</td>\n",
       "      <td>860147</td>\n",
       "      <td>316713</td>\n",
       "      <td>188319</td>\n",
       "      <td>2586</td>\n",
       "      <td>1424</td>\n",
       "      <td>87</td>\n",
       "      <td>58</td>\n",
       "    </tr>\n",
       "    <tr>\n",
       "      <th>72</th>\n",
       "      <td>Bihar</td>\n",
       "      <td>Muzaffarpur</td>\n",
       "      <td>26.186644</td>\n",
       "      <td>85.327451</td>\n",
       "      <td>216</td>\n",
       "      <td>4801062</td>\n",
       "      <td>2527497</td>\n",
       "      <td>2273565</td>\n",
       "      <td>2509232</td>\n",
       "      <td>1487117</td>\n",
       "      <td>...</td>\n",
       "      <td>2903794</td>\n",
       "      <td>1924438</td>\n",
       "      <td>4828232</td>\n",
       "      <td>3016735</td>\n",
       "      <td>1079189</td>\n",
       "      <td>697108</td>\n",
       "      <td>8030</td>\n",
       "      <td>4105</td>\n",
       "      <td>89</td>\n",
       "      <td>52</td>\n",
       "    </tr>\n",
       "    <tr>\n",
       "      <th>73</th>\n",
       "      <td>Bihar</td>\n",
       "      <td>Nalanda</td>\n",
       "      <td>25.229346</td>\n",
       "      <td>85.480531</td>\n",
       "      <td>229</td>\n",
       "      <td>2877653</td>\n",
       "      <td>1497060</td>\n",
       "      <td>1380593</td>\n",
       "      <td>1519933</td>\n",
       "      <td>919558</td>\n",
       "      <td>...</td>\n",
       "      <td>1985188</td>\n",
       "      <td>1324385</td>\n",
       "      <td>3309573</td>\n",
       "      <td>1829128</td>\n",
       "      <td>642197</td>\n",
       "      <td>403129</td>\n",
       "      <td>3199</td>\n",
       "      <td>2578</td>\n",
       "      <td>92</td>\n",
       "      <td>52</td>\n",
       "    </tr>\n",
       "    <tr>\n",
       "      <th>74</th>\n",
       "      <td>Bihar</td>\n",
       "      <td>Nawada</td>\n",
       "      <td>24.825709</td>\n",
       "      <td>85.615946</td>\n",
       "      <td>237</td>\n",
       "      <td>2219146</td>\n",
       "      <td>1144668</td>\n",
       "      <td>1074478</td>\n",
       "      <td>1091012</td>\n",
       "      <td>659474</td>\n",
       "      <td>...</td>\n",
       "      <td>1489517</td>\n",
       "      <td>1091439</td>\n",
       "      <td>2580956</td>\n",
       "      <td>1440781</td>\n",
       "      <td>485628</td>\n",
       "      <td>288805</td>\n",
       "      <td>3932</td>\n",
       "      <td>1924</td>\n",
       "      <td>93</td>\n",
       "      <td>49</td>\n",
       "    </tr>\n",
       "    <tr>\n",
       "      <th>75</th>\n",
       "      <td>Bihar</td>\n",
       "      <td>Pashchim Champaran</td>\n",
       "      <td>27.160644</td>\n",
       "      <td>84.302659</td>\n",
       "      <td>203</td>\n",
       "      <td>3935042</td>\n",
       "      <td>2061110</td>\n",
       "      <td>1873932</td>\n",
       "      <td>1759481</td>\n",
       "      <td>1091226</td>\n",
       "      <td>...</td>\n",
       "      <td>2182688</td>\n",
       "      <td>1710878</td>\n",
       "      <td>3893566</td>\n",
       "      <td>2544205</td>\n",
       "      <td>888205</td>\n",
       "      <td>497793</td>\n",
       "      <td>4839</td>\n",
       "      <td>3181</td>\n",
       "      <td>90</td>\n",
       "      <td>44</td>\n",
       "    </tr>\n",
       "    <tr>\n",
       "      <th>76</th>\n",
       "      <td>Bihar</td>\n",
       "      <td>Patna</td>\n",
       "      <td>25.402971</td>\n",
       "      <td>85.319843</td>\n",
       "      <td>230</td>\n",
       "      <td>5838465</td>\n",
       "      <td>3078512</td>\n",
       "      <td>2759953</td>\n",
       "      <td>3459679</td>\n",
       "      <td>2028047</td>\n",
       "      <td>...</td>\n",
       "      <td>4920726</td>\n",
       "      <td>2590473</td>\n",
       "      <td>7511199</td>\n",
       "      <td>3626564</td>\n",
       "      <td>1382654</td>\n",
       "      <td>815638</td>\n",
       "      <td>13609</td>\n",
       "      <td>7065</td>\n",
       "      <td>89</td>\n",
       "      <td>59</td>\n",
       "    </tr>\n",
       "    <tr>\n",
       "      <th>77</th>\n",
       "      <td>Bihar</td>\n",
       "      <td>Purba Champaran</td>\n",
       "      <td>26.681293</td>\n",
       "      <td>85.003822</td>\n",
       "      <td>204</td>\n",
       "      <td>5099371</td>\n",
       "      <td>2681209</td>\n",
       "      <td>2418162</td>\n",
       "      <td>2276957</td>\n",
       "      <td>1407603</td>\n",
       "      <td>...</td>\n",
       "      <td>3150588</td>\n",
       "      <td>2142757</td>\n",
       "      <td>5293345</td>\n",
       "      <td>3316422</td>\n",
       "      <td>1122340</td>\n",
       "      <td>648009</td>\n",
       "      <td>12600</td>\n",
       "      <td>4098</td>\n",
       "      <td>90</td>\n",
       "      <td>44</td>\n",
       "    </tr>\n",
       "    <tr>\n",
       "      <th>78</th>\n",
       "      <td>Bihar</td>\n",
       "      <td>Purnia</td>\n",
       "      <td>25.817148</td>\n",
       "      <td>87.404476</td>\n",
       "      <td>211</td>\n",
       "      <td>3264619</td>\n",
       "      <td>1699370</td>\n",
       "      <td>1565249</td>\n",
       "      <td>1332326</td>\n",
       "      <td>805261</td>\n",
       "      <td>...</td>\n",
       "      <td>1486857</td>\n",
       "      <td>1798786</td>\n",
       "      <td>3285643</td>\n",
       "      <td>2155512</td>\n",
       "      <td>696556</td>\n",
       "      <td>372692</td>\n",
       "      <td>39859</td>\n",
       "      <td>2641</td>\n",
       "      <td>92</td>\n",
       "      <td>40</td>\n",
       "    </tr>\n",
       "    <tr>\n",
       "      <th>79</th>\n",
       "      <td>Bihar</td>\n",
       "      <td>Rohtas</td>\n",
       "      <td>24.991705</td>\n",
       "      <td>83.935076</td>\n",
       "      <td>234</td>\n",
       "      <td>2959918</td>\n",
       "      <td>1543546</td>\n",
       "      <td>1416372</td>\n",
       "      <td>1799832</td>\n",
       "      <td>1061783</td>\n",
       "      <td>...</td>\n",
       "      <td>2188753</td>\n",
       "      <td>876443</td>\n",
       "      <td>3065196</td>\n",
       "      <td>1875174</td>\n",
       "      <td>673742</td>\n",
       "      <td>407193</td>\n",
       "      <td>3809</td>\n",
       "      <td>1555</td>\n",
       "      <td>91</td>\n",
       "      <td>60</td>\n",
       "    </tr>\n",
       "    <tr>\n",
       "      <th>80</th>\n",
       "      <td>Bihar</td>\n",
       "      <td>Saharsa</td>\n",
       "      <td>25.821271</td>\n",
       "      <td>86.546708</td>\n",
       "      <td>214</td>\n",
       "      <td>1900661</td>\n",
       "      <td>997174</td>\n",
       "      <td>903487</td>\n",
       "      <td>804996</td>\n",
       "      <td>506374</td>\n",
       "      <td>...</td>\n",
       "      <td>855188</td>\n",
       "      <td>1151349</td>\n",
       "      <td>2006537</td>\n",
       "      <td>1249692</td>\n",
       "      <td>415863</td>\n",
       "      <td>233870</td>\n",
       "      <td>1236</td>\n",
       "      <td>1582</td>\n",
       "      <td>90</td>\n",
       "      <td>42</td>\n",
       "    </tr>\n",
       "    <tr>\n",
       "      <th>81</th>\n",
       "      <td>Bihar</td>\n",
       "      <td>Samastipur</td>\n",
       "      <td>25.793206</td>\n",
       "      <td>85.948333</td>\n",
       "      <td>221</td>\n",
       "      <td>4261566</td>\n",
       "      <td>2230003</td>\n",
       "      <td>2031563</td>\n",
       "      <td>2142880</td>\n",
       "      <td>1293575</td>\n",
       "      <td>...</td>\n",
       "      <td>2549708</td>\n",
       "      <td>1996651</td>\n",
       "      <td>4546359</td>\n",
       "      <td>2766930</td>\n",
       "      <td>913339</td>\n",
       "      <td>568812</td>\n",
       "      <td>12485</td>\n",
       "      <td>3500</td>\n",
       "      <td>91</td>\n",
       "      <td>50</td>\n",
       "    </tr>\n",
       "    <tr>\n",
       "      <th>82</th>\n",
       "      <td>Bihar</td>\n",
       "      <td>Saran</td>\n",
       "      <td>25.896561</td>\n",
       "      <td>84.822663</td>\n",
       "      <td>219</td>\n",
       "      <td>3951862</td>\n",
       "      <td>2022821</td>\n",
       "      <td>1929041</td>\n",
       "      <td>2157454</td>\n",
       "      <td>1285767</td>\n",
       "      <td>...</td>\n",
       "      <td>2653504</td>\n",
       "      <td>1313700</td>\n",
       "      <td>3967204</td>\n",
       "      <td>2516115</td>\n",
       "      <td>847031</td>\n",
       "      <td>585386</td>\n",
       "      <td>3330</td>\n",
       "      <td>3667</td>\n",
       "      <td>95</td>\n",
       "      <td>54</td>\n",
       "    </tr>\n",
       "    <tr>\n",
       "      <th>83</th>\n",
       "      <td>Bihar</td>\n",
       "      <td>Sheikhpura</td>\n",
       "      <td>25.124724</td>\n",
       "      <td>85.778394</td>\n",
       "      <td>228</td>\n",
       "      <td>636342</td>\n",
       "      <td>329743</td>\n",
       "      <td>306599</td>\n",
       "      <td>328676</td>\n",
       "      <td>196431</td>\n",
       "      <td>...</td>\n",
       "      <td>409518</td>\n",
       "      <td>305609</td>\n",
       "      <td>715127</td>\n",
       "      <td>413475</td>\n",
       "      <td>136898</td>\n",
       "      <td>85045</td>\n",
       "      <td>924</td>\n",
       "      <td>565</td>\n",
       "      <td>92</td>\n",
       "      <td>51</td>\n",
       "    </tr>\n",
       "    <tr>\n",
       "      <th>84</th>\n",
       "      <td>Bihar</td>\n",
       "      <td>Sheohar</td>\n",
       "      <td>26.458381</td>\n",
       "      <td>85.295394</td>\n",
       "      <td>205</td>\n",
       "      <td>656246</td>\n",
       "      <td>346673</td>\n",
       "      <td>309573</td>\n",
       "      <td>283698</td>\n",
       "      <td>171645</td>\n",
       "      <td>...</td>\n",
       "      <td>308989</td>\n",
       "      <td>348078</td>\n",
       "      <td>657067</td>\n",
       "      <td>421241</td>\n",
       "      <td>139909</td>\n",
       "      <td>93398</td>\n",
       "      <td>1698</td>\n",
       "      <td>489</td>\n",
       "      <td>89</td>\n",
       "      <td>43</td>\n",
       "    </tr>\n",
       "    <tr>\n",
       "      <th>85</th>\n",
       "      <td>Bihar</td>\n",
       "      <td>Sitamarhi</td>\n",
       "      <td>26.565701</td>\n",
       "      <td>85.611725</td>\n",
       "      <td>206</td>\n",
       "      <td>3423574</td>\n",
       "      <td>1803252</td>\n",
       "      <td>1620322</td>\n",
       "      <td>1436794</td>\n",
       "      <td>885188</td>\n",
       "      <td>...</td>\n",
       "      <td>1635891</td>\n",
       "      <td>1852765</td>\n",
       "      <td>3488656</td>\n",
       "      <td>2206340</td>\n",
       "      <td>739982</td>\n",
       "      <td>449035</td>\n",
       "      <td>28217</td>\n",
       "      <td>2679</td>\n",
       "      <td>89</td>\n",
       "      <td>41</td>\n",
       "    </tr>\n",
       "    <tr>\n",
       "      <th>86</th>\n",
       "      <td>Bihar</td>\n",
       "      <td>Siwan</td>\n",
       "      <td>26.173637</td>\n",
       "      <td>84.337666</td>\n",
       "      <td>218</td>\n",
       "      <td>3330464</td>\n",
       "      <td>1675090</td>\n",
       "      <td>1655374</td>\n",
       "      <td>1930175</td>\n",
       "      <td>1115906</td>\n",
       "      <td>...</td>\n",
       "      <td>2421121</td>\n",
       "      <td>1207119</td>\n",
       "      <td>3628240</td>\n",
       "      <td>2115448</td>\n",
       "      <td>713597</td>\n",
       "      <td>498299</td>\n",
       "      <td>3120</td>\n",
       "      <td>3014</td>\n",
       "      <td>98</td>\n",
       "      <td>57</td>\n",
       "    </tr>\n",
       "    <tr>\n",
       "      <th>87</th>\n",
       "      <td>Bihar</td>\n",
       "      <td>Supaul</td>\n",
       "      <td>26.281579</td>\n",
       "      <td>86.784965</td>\n",
       "      <td>208</td>\n",
       "      <td>2229076</td>\n",
       "      <td>1155283</td>\n",
       "      <td>1073793</td>\n",
       "      <td>1033283</td>\n",
       "      <td>647672</td>\n",
       "      <td>...</td>\n",
       "      <td>1116063</td>\n",
       "      <td>1220268</td>\n",
       "      <td>2336331</td>\n",
       "      <td>1453438</td>\n",
       "      <td>495020</td>\n",
       "      <td>277610</td>\n",
       "      <td>3008</td>\n",
       "      <td>1836</td>\n",
       "      <td>92</td>\n",
       "      <td>46</td>\n",
       "    </tr>\n",
       "    <tr>\n",
       "      <th>88</th>\n",
       "      <td>Bihar</td>\n",
       "      <td>Vaishali</td>\n",
       "      <td>25.813470</td>\n",
       "      <td>85.392476</td>\n",
       "      <td>220</td>\n",
       "      <td>3495021</td>\n",
       "      <td>1844535</td>\n",
       "      <td>1650486</td>\n",
       "      <td>1926740</td>\n",
       "      <td>1152576</td>\n",
       "      <td>...</td>\n",
       "      <td>2271286</td>\n",
       "      <td>1479152</td>\n",
       "      <td>3750438</td>\n",
       "      <td>2176701</td>\n",
       "      <td>759132</td>\n",
       "      <td>486032</td>\n",
       "      <td>73156</td>\n",
       "      <td>2930</td>\n",
       "      <td>89</td>\n",
       "      <td>55</td>\n",
       "    </tr>\n",
       "  </tbody>\n",
       "</table>\n",
       "<p>37 rows × 37 columns</p>\n",
       "</div>"
      ],
      "text/plain": [
       "    State            District   Latitude  Longitude  District Code  \\\n",
       "52  Bihar              Araria  26.211528  87.307666            209   \n",
       "53  Bihar          Aurangabad  24.774292  84.459860            235   \n",
       "54  Bihar          Aurangabad  24.774292  84.459860            515   \n",
       "55  Bihar               Banka  24.832356  86.866492            225   \n",
       "56  Bihar           Begusarai  25.543026  86.125601            222   \n",
       "57  Bihar           Bhagalpur  25.277193  87.042138            224   \n",
       "58  Bihar             Bhojpur  25.506664  84.494078            231   \n",
       "59  Bihar               Buxar  25.485930  84.088081            232   \n",
       "60  Bihar           Darbhanga  26.146188  85.973874            215   \n",
       "61  Bihar                Gaya  24.726654  84.942912            236   \n",
       "62  Bihar           Gopalganj  26.448744  84.346361            217   \n",
       "63  Bihar               Jamui  24.784184  86.263163            238   \n",
       "64  Bihar           Jehanabad  25.155679  84.920812            239   \n",
       "65  Bihar             Katihar  25.565654  87.704661            212   \n",
       "66  Bihar            Khagaria  25.535589  86.565933            223   \n",
       "67  Bihar          Kishanganj  26.324337  87.950450            210   \n",
       "68  Bihar          Lakhisarai  25.183449  86.128257            227   \n",
       "69  Bihar           Madhepura  25.773419  86.897844            213   \n",
       "70  Bihar           Madhubani  26.413805  86.163284            207   \n",
       "71  Bihar              Munger  25.198538  86.541737            226   \n",
       "72  Bihar         Muzaffarpur  26.186644  85.327451            216   \n",
       "73  Bihar             Nalanda  25.229346  85.480531            229   \n",
       "74  Bihar              Nawada  24.825709  85.615946            237   \n",
       "75  Bihar  Pashchim Champaran  27.160644  84.302659            203   \n",
       "76  Bihar               Patna  25.402971  85.319843            230   \n",
       "77  Bihar     Purba Champaran  26.681293  85.003822            204   \n",
       "78  Bihar              Purnia  25.817148  87.404476            211   \n",
       "79  Bihar              Rohtas  24.991705  83.935076            234   \n",
       "80  Bihar             Saharsa  25.821271  86.546708            214   \n",
       "81  Bihar          Samastipur  25.793206  85.948333            221   \n",
       "82  Bihar               Saran  25.896561  84.822663            219   \n",
       "83  Bihar          Sheikhpura  25.124724  85.778394            228   \n",
       "84  Bihar             Sheohar  26.458381  85.295394            205   \n",
       "85  Bihar           Sitamarhi  26.565701  85.611725            206   \n",
       "86  Bihar               Siwan  26.173637  84.337666            218   \n",
       "87  Bihar              Supaul  26.281579  86.784965            208   \n",
       "88  Bihar            Vaishali  25.813470  85.392476            220   \n",
       "\n",
       "    Population     Male   Female  Literate  Male Literate  ...  \\\n",
       "52     2811569  1463333  1348236   1195768         727643  ...   \n",
       "53     2540073  1318684  1221389   1466002         868733  ...   \n",
       "54     3701282  1924469  1776813   2503837        1430936  ...   \n",
       "55     2034763  1067140   967623    965321         590961  ...   \n",
       "56     2970541  1567660  1402881   1548673         918507  ...   \n",
       "57     3037766  1615663  1422103   1573066         937669  ...   \n",
       "58     2728407  1430380  1298027   1599151         973486  ...   \n",
       "59     1706352   887977   818375    989807         593544  ...   \n",
       "60     3937385  2059949  1877436   1816634        1125566  ...   \n",
       "61     4391418  2266566  2124852   2297613        1368803  ...   \n",
       "62     2562012  1267666  1294346   1382998         793905  ...   \n",
       "63     1760405   916064   844341    858588         534385  ...   \n",
       "64     1125313   585582   539731    618881         374412  ...   \n",
       "65     3071029  1600430  1470599   1280190         762256  ...   \n",
       "66     1666886   883786   783100    768028         461153  ...   \n",
       "67     1690400   866970   823430    745056         439921  ...   \n",
       "68     1000912   526345   474567    507270         305182  ...   \n",
       "69     2001762  1047559   954203    834577         517666  ...   \n",
       "70     4487379  2329313  2158066   2155338        1340085  ...   \n",
       "71     1367765   729041   638724    801817         473741  ...   \n",
       "72     4801062  2527497  2273565   2509232        1487117  ...   \n",
       "73     2877653  1497060  1380593   1519933         919558  ...   \n",
       "74     2219146  1144668  1074478   1091012         659474  ...   \n",
       "75     3935042  2061110  1873932   1759481        1091226  ...   \n",
       "76     5838465  3078512  2759953   3459679        2028047  ...   \n",
       "77     5099371  2681209  2418162   2276957        1407603  ...   \n",
       "78     3264619  1699370  1565249   1332326         805261  ...   \n",
       "79     2959918  1543546  1416372   1799832        1061783  ...   \n",
       "80     1900661   997174   903487    804996         506374  ...   \n",
       "81     4261566  2230003  2031563   2142880        1293575  ...   \n",
       "82     3951862  2022821  1929041   2157454        1285767  ...   \n",
       "83      636342   329743   306599    328676         196431  ...   \n",
       "84      656246   346673   309573    283698         171645  ...   \n",
       "85     3423574  1803252  1620322   1436794         885188  ...   \n",
       "86     3330464  1675090  1655374   1930175        1115906  ...   \n",
       "87     2229076  1155283  1073793   1033283         647672  ...   \n",
       "88     3495021  1844535  1650486   1926740        1152576  ...   \n",
       "\n",
       "    Literate Education  Illiterate Education  Total Education  Age Group 0 29  \\\n",
       "52             1485840               1653766          3139606         1872943   \n",
       "53             1833998                784131          2618129         1626969   \n",
       "54             2611982                819734          3431716         2211996   \n",
       "55             1214645                879831          2094476         1291235   \n",
       "56             1822334               1242551          3064885         1951688   \n",
       "57             1976417               1139715          3116132         1952879   \n",
       "58             2172525               1005140          3177665         1722387   \n",
       "59             1344677                457814          1802491         1074754   \n",
       "60             2028545               2203198          4231743         2535344   \n",
       "61             2784730               1953368          4738098         2810026   \n",
       "62             1736879                977719          2714598         1642807   \n",
       "63             1085477                765297          1850774         1135919   \n",
       "64              725997                495877          1221874          714244   \n",
       "65             1445438               1705551          3150989         2054202   \n",
       "66              925251                903323          1828574         1114645   \n",
       "67              769119                945397          1714516         1139615   \n",
       "68              597955                450967          1048922          650642   \n",
       "69              875510               1202278          2077788         1311771   \n",
       "70             2698989               2003079          4702068         2860455   \n",
       "71              849734                498676          1348410          860147   \n",
       "72             2903794               1924438          4828232         3016735   \n",
       "73             1985188               1324385          3309573         1829128   \n",
       "74             1489517               1091439          2580956         1440781   \n",
       "75             2182688               1710878          3893566         2544205   \n",
       "76             4920726               2590473          7511199         3626564   \n",
       "77             3150588               2142757          5293345         3316422   \n",
       "78             1486857               1798786          3285643         2155512   \n",
       "79             2188753                876443          3065196         1875174   \n",
       "80              855188               1151349          2006537         1249692   \n",
       "81             2549708               1996651          4546359         2766930   \n",
       "82             2653504               1313700          3967204         2516115   \n",
       "83              409518                305609           715127          413475   \n",
       "84              308989                348078           657067          421241   \n",
       "85             1635891               1852765          3488656         2206340   \n",
       "86             2421121               1207119          3628240         2115448   \n",
       "87             1116063               1220268          2336331         1453438   \n",
       "88             2271286               1479152          3750438         2176701   \n",
       "\n",
       "    Age Group 30 49  Age Group 50  Age Not Stated  Total Power Parity  \\\n",
       "52           612012        324091            2523                2035   \n",
       "53           564571        340948            7585                2215   \n",
       "54           909771        571932            7583                8119   \n",
       "55           462080        278863            2585                1738   \n",
       "56           644874        369996            3983                2354   \n",
       "57           674660        397654           12573                2814   \n",
       "58           613072        387389            5559                2600   \n",
       "59           375372        253998            2228                1556   \n",
       "60           865971        529314            6756                3514   \n",
       "61           936630        537333          107429                3998   \n",
       "62           546202        370662            2341                2370   \n",
       "63           392052        227016            5418                1516   \n",
       "64           254582        155106            1381                 960   \n",
       "65           660403        353483            2941                2516   \n",
       "66           355531        195796             914                1254   \n",
       "67           361114        188447            1224                1347   \n",
       "68           218840        130655             775                 904   \n",
       "69           444235        242382            3374                1494   \n",
       "70          1009424        611899            5601                3520   \n",
       "71           316713        188319            2586                1424   \n",
       "72          1079189        697108            8030                4105   \n",
       "73           642197        403129            3199                2578   \n",
       "74           485628        288805            3932                1924   \n",
       "75           888205        497793            4839                3181   \n",
       "76          1382654        815638           13609                7065   \n",
       "77          1122340        648009           12600                4098   \n",
       "78           696556        372692           39859                2641   \n",
       "79           673742        407193            3809                1555   \n",
       "80           415863        233870            1236                1582   \n",
       "81           913339        568812           12485                3500   \n",
       "82           847031        585386            3330                3667   \n",
       "83           136898         85045             924                 565   \n",
       "84           139909         93398            1698                 489   \n",
       "85           739982        449035           28217                2679   \n",
       "86           713597        498299            3120                3014   \n",
       "87           495020        277610            3008                1836   \n",
       "88           759132        486032           73156                2930   \n",
       "\n",
       "    Sex Ratio  Literacy Rate  \n",
       "52         92             42  \n",
       "53         92             57  \n",
       "54         92             67  \n",
       "55         90             47  \n",
       "56         89             52  \n",
       "57         88             51  \n",
       "58         90             58  \n",
       "59         92             58  \n",
       "60         91             46  \n",
       "61         93             52  \n",
       "62        102             53  \n",
       "63         92             48  \n",
       "64         92             54  \n",
       "65         91             41  \n",
       "66         88             46  \n",
       "67         94             44  \n",
       "68         90             50  \n",
       "69         91             41  \n",
       "70         92             48  \n",
       "71         87             58  \n",
       "72         89             52  \n",
       "73         92             52  \n",
       "74         93             49  \n",
       "75         90             44  \n",
       "76         89             59  \n",
       "77         90             44  \n",
       "78         92             40  \n",
       "79         91             60  \n",
       "80         90             42  \n",
       "81         91             50  \n",
       "82         95             54  \n",
       "83         92             51  \n",
       "84         89             43  \n",
       "85         89             41  \n",
       "86         98             57  \n",
       "87         92             46  \n",
       "88         89             55  \n",
       "\n",
       "[37 rows x 37 columns]"
      ]
     },
     "execution_count": 73,
     "metadata": {},
     "output_type": "execute_result"
    }
   ],
   "source": [
    "final_df[final_df['State'] == 'Bihar'].groupby('State')"
   ]
  },
  {
   "cell_type": "code",
   "execution_count": 81,
   "metadata": {},
   "outputs": [
    {
     "data": {
      "text/plain": [
       "Hindus                 821271348\n",
       "Muslims                139317340\n",
       "Christians              22971390\n",
       "Sikhs                   17597026\n",
       "Buddhists                7675527\n",
       "Jains                    3616195\n",
       "Others Religions         5244864\n",
       "Religion Not Stated      2398241\n",
       "dtype: object"
      ]
     },
     "execution_count": 81,
     "metadata": {},
     "output_type": "execute_result"
    }
   ],
   "source": [
    "final_df[religion].sum()[2:]"
   ]
  },
  {
   "cell_type": "code",
   "execution_count": 82,
   "metadata": {},
   "outputs": [
    {
     "data": {
      "text/plain": [
       "['State',\n",
       " 'District',\n",
       " 'Hindus',\n",
       " 'Muslims',\n",
       " 'Christians',\n",
       " 'Sikhs',\n",
       " 'Buddhists',\n",
       " 'Jains',\n",
       " 'Others Religions',\n",
       " 'Religion Not Stated']"
      ]
     },
     "execution_count": 82,
     "metadata": {},
     "output_type": "execute_result"
    }
   ],
   "source": [
    "religion"
   ]
  },
  {
   "cell_type": "code",
   "execution_count": 90,
   "metadata": {},
   "outputs": [
    {
     "data": {
      "text/plain": [
       "Hindus                 86533796\n",
       "Muslims                18124944\n",
       "Christians               143441\n",
       "Sikhs                     28566\n",
       "Buddhists                326516\n",
       "Jains                     49692\n",
       "Others Religions          12848\n",
       "Religion Not Stated      253704\n",
       "dtype: object"
      ]
     },
     "execution_count": 90,
     "metadata": {},
     "output_type": "execute_result"
    }
   ],
   "source": [
    "final_df[religion][final_df[religion]['State'] == 'Bihar'].sum()[2:]"
   ]
  },
  {
   "cell_type": "code",
   "execution_count": 101,
   "metadata": {},
   "outputs": [
    {
     "data": {
      "application/vnd.plotly.v1+json": {
       "config": {
        "plotlyServerURL": "https://plot.ly"
       },
       "data": [
        {
         "domain": {
          "x": [
           0,
           1
          ],
          "y": [
           0,
           1
          ]
         },
         "hovertemplate": "label=%{label}<br>value=%{value}<extra></extra>",
         "labels": [
          "State",
          "District",
          "Below Primary Education",
          "Primary Education",
          "Middle Education",
          "Secondary Education",
          "Higher Education",
          "Graduate Education",
          "Other Education",
          "Literate Education",
          "Illiterate Education"
         ],
         "legendgroup": "",
         "name": "",
         "showlegend": true,
         "type": "pie",
         "values": [
          "Andhra PradeshAndhra PradeshAndhra PradeshAndhra PradeshAndhra PradeshAndhra PradeshAndhra PradeshAndhra PradeshAndhra PradeshAndhra PradeshAndhra PradeshAndhra PradeshAndhra PradeshAndhra PradeshAndhra PradeshAndhra PradeshAndhra PradeshAndhra PradeshAndhra PradeshArunachal PradeshArunachal PradeshArunachal PradeshArunachal PradeshArunachal PradeshArunachal PradeshArunachal PradeshArunachal PradeshArunachal PradeshArunachal PradeshArunachal PradeshArunachal PradeshArunachal PradeshArunachal PradeshAssamAssamAssamAssamAssamAssamAssamAssamAssamAssamAssamAssamAssamAssamAssamAssamAssamAssamAssamBiharBiharBiharBiharBiharBiharBiharBiharBiharBiharBiharBiharBiharBiharBiharBiharBiharBiharBiharBiharBiharBiharBiharBiharBiharBiharBiharBiharBiharBiharBiharBiharBiharBiharBiharBiharBiharChandigarhChhattisgarhChhattisgarhChhattisgarhChhattisgarhChhattisgarhChhattisgarhChhattisgarhChhattisgarhChhattisgarhChhattisgarhChhattisgarhChhattisgarhChhattisgarhDaman and DiuDaman and DiuGoaGoaGujaratGujaratGujaratGujaratGujaratGujaratGujaratGujaratGujaratGujaratGujaratGujaratGujaratGujaratGujaratGujaratGujaratGujaratGujaratGujaratGujaratGujaratGujaratGujaratHaryanaHaryanaHaryanaHaryanaHaryanaHaryanaHaryanaHaryanaHaryanaHaryanaHaryanaHaryanaHaryanaHaryanaHaryanaHaryanaHaryanaHimachal PradeshHimachal PradeshHimachal PradeshHimachal PradeshHimachal PradeshHimachal PradeshHimachal PradeshHimachal PradeshHimachal PradeshHimachal PradeshHimachal PradeshHimachal PradeshHimachal PradeshJammu and KashmirJammu and KashmirJammu and KashmirJammu and KashmirJammu and KashmirJammu and KashmirJammu and KashmirJammu and KashmirJharkhandJharkhandJharkhandJharkhandJharkhandJharkhandJharkhandJharkhandJharkhandJharkhandJharkhandJharkhandJharkhandJharkhandJharkhandJharkhandJharkhandKarnatakaKarnatakaKarnatakaKarnatakaKarnatakaKarnatakaKarnatakaKarnatakaKarnatakaKarnatakaKarnatakaKarnatakaKarnatakaKarnatakaKarnatakaKarnatakaKarnatakaKarnatakaKarnatakaKarnatakaKarnatakaKarnatakaKarnatakaKarnatakaKeralaKeralaKeralaKeralaKeralaKeralaKeralaKeralaKeralaKeralaKeralaKeralaKeralaMadhya PradeshMadhya PradeshMadhya PradeshMadhya PradeshMadhya PradeshMadhya PradeshMadhya PradeshMadhya PradeshMadhya PradeshMadhya PradeshMadhya PradeshMadhya PradeshMadhya PradeshMadhya PradeshMadhya PradeshMadhya PradeshMadhya PradeshMadhya PradeshMadhya PradeshMadhya PradeshMadhya PradeshMadhya PradeshMadhya PradeshMadhya PradeshMadhya PradeshMadhya PradeshMadhya PradeshMadhya PradeshMadhya PradeshMadhya PradeshMadhya PradeshMadhya PradeshMadhya PradeshMadhya PradeshMadhya PradeshMadhya PradeshMadhya PradeshMadhya PradeshMadhya PradeshMadhya PradeshMadhya PradeshMadhya PradeshMadhya PradeshMadhya PradeshMadhya PradeshMaharashtraMaharashtraMaharashtraMaharashtraMaharashtraMaharashtraMaharashtraMaharashtraMaharashtraMaharashtraMaharashtraMaharashtraMaharashtraMaharashtraMaharashtraMaharashtraMaharashtraMaharashtraMaharashtraMaharashtraMaharashtraMaharashtraMaharashtraMaharashtraMaharashtraMaharashtraMaharashtraMaharashtraMaharashtraMaharashtraMaharashtraMaharashtraMaharashtraManipurManipurManipurManipurManipurManipurManipurMeghalayaMeghalayaMeghalayaMeghalayaMeghalayaMeghalayaMizoramMizoramMizoramMizoramMizoramMizoramMizoramMizoramNagalandNagalandNagalandNagalandNagalandNagalandNagalandNagalandOrissaOrissaOrissaOrissaOrissaOrissaOrissaOrissaOrissaOrissaOrissaOrissaOrissaOrissaOrissaOrissaOrissaOrissaOrissaOrissaPuducherryPuducherryPuducherryPunjabPunjabPunjabPunjabPunjabPunjabPunjabPunjabPunjabPunjabPunjabPunjabPunjabPunjabPunjabPunjabRajasthanRajasthanRajasthanRajasthanRajasthanRajasthanRajasthanRajasthanRajasthanRajasthanRajasthanRajasthanRajasthanRajasthanRajasthanRajasthanRajasthanRajasthanRajasthanRajasthanRajasthanRajasthanRajasthanRajasthanRajasthanRajasthanRajasthanRajasthanRajasthanRajasthanRajasthanRajasthanSikkimTamil NaduTamil NaduTamil NaduTamil NaduTamil NaduTamil NaduTamil NaduTamil NaduTamil NaduTamil NaduTamil NaduTamil NaduTamil NaduTamil NaduTamil NaduTamil NaduTamil NaduTamil NaduTamil NaduTamil NaduTamil NaduTamil NaduTamil NaduTamil NaduTamil NaduTripuraTripuraTripuraTripuraUttar PradeshUttar PradeshUttar PradeshUttar PradeshUttar PradeshUttar PradeshUttar PradeshUttar PradeshUttar PradeshUttar PradeshUttar PradeshUttar PradeshUttar PradeshUttar PradeshUttar PradeshUttar PradeshUttar PradeshUttar PradeshUttar PradeshUttar PradeshUttar PradeshUttar PradeshUttar PradeshUttar PradeshUttar PradeshUttar PradeshUttar PradeshUttar PradeshUttar PradeshUttar PradeshUttar PradeshUttar PradeshUttar PradeshUttar PradeshUttar PradeshUttar PradeshUttar PradeshUttar PradeshUttar PradeshUttar PradeshUttar PradeshUttar PradeshUttar PradeshUttar PradeshUttar PradeshUttar PradeshUttar PradeshUttar PradeshUttar PradeshUttar PradeshUttar PradeshUttar PradeshUttar PradeshUttar PradeshUttar PradeshUttar PradeshUttar PradeshUttar PradeshUttar PradeshUttar PradeshUttar PradeshUttar PradeshUttar PradeshUttar PradeshUttaranchalUttaranchalUttaranchalUttaranchalUttaranchalUttaranchalUttaranchalUttaranchalWest BengalWest BengalWest BengalWest BengalWest BengalWest BengalWest BengalWest BengalWest BengalWest BengalWest BengalWest BengalWest BengalWest Bengal",
          "AdilabadAnantapurChittoorEast GodavariGunturHyderabadKarimnagarKhammamKrishnaKurnoolMahbubnagarMedakNalgondaNizamabadPrakasamSrikakulamVizianagaramWarangalWest GodavariChanglangEast KamengEast SiangKurung KumeyLohitLower Dibang ValleyLower SubansiriPapum PareTawangTirapUpper SiangUpper SubansiriWest KamengWest SiangBarpetaBongaigaonCacharDarrangDhemajiDibrugarhGoalparaGolaghatHailakandiJorhatKamrupKarbi AnglongKarimganjKokrajharLakhimpurNagaonNalbariSonitpurTinsukiaArariaAurangabadAurangabadBankaBegusaraiBhagalpurBhojpurBuxarDarbhangaGayaGopalganjJamuiJehanabadKatiharKhagariaKishanganjLakhisaraiMadhepuraMadhubaniMungerMuzaffarpurNalandaNawadaPashchim ChamparanPatnaPurba ChamparanPurniaRohtasSaharsaSamastipurSaranSheikhpuraSheoharSitamarhiSiwanSupaulVaishaliChandigarhBastarBilaspurBilaspurDhamtariDurgJashpurKorbaKoriyaMahasamundRaigarhRaigarhRaipurSurgujaDamanJunagadhNorth GoaSouth GoaAhmadabadAmreliAnandBanas KanthaBharuchBhavnagarGandhinagarJamnagarJunagadhKachchhKhedaMahesanaNarmadaNavsariPanch MahalsPatanPorbandarRajkotSabar KanthaSuratSurendranagarThe DangsVadodaraValsadAmbalaBhiwaniFaridabadFatehabadGurgaonHisarJhajjarJindKaithalKarnalKurukshetraMahendragarhPanchkulaPanipatRewariRohtakSirsaBilaspurBilaspurChambaHamirpurHamirpurKangraKinnaurKulluMandiShimlaSirmaurSolanUnaDodaJammuKargilKathuaPulwamaPunchSrinagarUdhampurBokaroChatraDeogharDhanbadDumkaGarhwaGiridihGoddaGumlaJamtaraLateharLohardagaPakurPalamuRanchiSahibganjSimdegaBagalkotBangalore RuralBelgaumBellaryBidarBijapurBijapurChikmagalurChitradurgaDavanagereDharwadGadagGulbargaHassanHaveriKodaguKolarKoppalMandyaMysoreRaichurShimogaTumkurUdupiAlappuzhaErnakulamIdukkiKannurKasaragodKollamKottayamKozhikodeMalappuramPalakkadThiruvananthapuramThrissurWayanadAnuppurAshoknagarBalaghatBarwaniBetulBhindBhopalBurhanpurChhatarpurChhindwaraDamohDatiaDewasDharDindoriGunaGwaliorHardaHoshangabadIndoreJabalpurJhabuaKatniMandlaMandsaurMorenaNeemuchPannaRaisenRajgarhRatlamRewaSagarSatnaSehoreSeoniShahdolShajapurSheopurShivpuriSidhiTikamgarhUjjainUmariaVidishaAkolaAmravatiAurangabadAurangabadBhandaraBidBuldanaChandrapurDhuleGondiyaHingoliJalgaonJalnaKolhapurLaturNagpurNandedNandurbarNashikOsmanabadParbhaniPuneRaigarhRaigarhRatnagiriSangliSataraSindhudurgSolapurThaneWardhaWashimYavatmalBishnupurChandelChurachandpurSenapatiTamenglongThoubalUkhrulEast Garo HillsEast Khasi HillsJaintia HillsSouth Garo HillsWest Garo HillsWest Khasi HillsAizawlChamphaiKolasibLawngtlaiLungleiMamitSaihaSerchhipDimapurKohimaMokokchungMonPhekTuensangWokhaZunhebotoBaleshwarBhadrakCuttackDhenkanalGajapatiGanjamJharsugudaKalahandiKandhamalKendraparaKhordhaKoraputMalkangiriMayurbhanjNayagarhNuapadaPuriRayagadaSambalpurSundargarhKaraikalMaheYanamAmritsarBathindaFaridkotFatehgarh SahibFirozpurGurdaspurHoshiarpurJalandharKapurthalaLudhianaMansaMogaMuktsarPatialaRupnagarSangrurAjmerAlwarBanswaraBaranBarmerBharatpurBhilwaraBikanerBundiChittaurgarhChuruDausaDhaulpurDungarpurGanganagarHanumangarhJaipurJaisalmerJalorJhalawarJhunjhununJodhpurKarauliKotaNagaurPaliRajsamandSawai MadhopurSikarSirohiTonkUdaipurEastAriyalurChennaiCoimbatoreCuddaloreDharmapuriDindigulErodeKancheepuramKanniyakumariKarurMaduraiNagapattinamNamakkalPerambalurPudukkottaiRamanathapuramSalemSivagangaThanjavurTheniThiruvallurThiruvarurTiruvannamalaiVelloreVirudhunagarDhalaiNorth TripuraSouth TripuraWest TripuraAgraAligarhAllahabadAmbedkar NagarAuraiyaAzamgarhBaghpatBahraichBalliaBalrampurBandaBara BankiBareillyBastiBijnorBulandshahrChandauliChitrakootDeoriaEtahEtawahFaizabadFarrukhabadFatehpurFirozabadGautam Buddha NagarGhaziabadGhazipurGondaGorakhpurHamirpurHamirpurHardoiJalaunJaunpurJhansiJyotiba Phule NagarKannaujKanpur DehatKaushambiKushinagarLalitpurLucknowMahobaMainpuriMathuraMauMeerutMirzapurMoradabadMuzaffarnagarPilibhitPratapgarhPratapgarhRae BareliRampurSaharanpurSant Kabir NagarShahjahanpurSitapurSonbhadraSultanpurUnnaoVaranasiAlmoraBageshwarChamoliChampawatPithoragarhTehri GarhwalUdham Singh NagarUttarkashiBankuraBarddhamanBirbhumDakshin DinajpurDarjilingHaoraHugliJalpaiguriKolkataMaldahMurshidabadNadiaPuruliyaUttar Dinajpur",
          131257561,
          174185238,
          137246623,
          108840819,
          65561970,
          56131372,
          8357672,
          681581255,
          318425400
         ]
        }
       ],
       "layout": {
        "legend": {
         "tracegroupgap": 0
        },
        "margin": {
         "t": 60
        },
        "template": {
         "data": {
          "bar": [
           {
            "error_x": {
             "color": "#2a3f5f"
            },
            "error_y": {
             "color": "#2a3f5f"
            },
            "marker": {
             "line": {
              "color": "#E5ECF6",
              "width": 0.5
             },
             "pattern": {
              "fillmode": "overlay",
              "size": 10,
              "solidity": 0.2
             }
            },
            "type": "bar"
           }
          ],
          "barpolar": [
           {
            "marker": {
             "line": {
              "color": "#E5ECF6",
              "width": 0.5
             },
             "pattern": {
              "fillmode": "overlay",
              "size": 10,
              "solidity": 0.2
             }
            },
            "type": "barpolar"
           }
          ],
          "carpet": [
           {
            "aaxis": {
             "endlinecolor": "#2a3f5f",
             "gridcolor": "white",
             "linecolor": "white",
             "minorgridcolor": "white",
             "startlinecolor": "#2a3f5f"
            },
            "baxis": {
             "endlinecolor": "#2a3f5f",
             "gridcolor": "white",
             "linecolor": "white",
             "minorgridcolor": "white",
             "startlinecolor": "#2a3f5f"
            },
            "type": "carpet"
           }
          ],
          "choropleth": [
           {
            "colorbar": {
             "outlinewidth": 0,
             "ticks": ""
            },
            "type": "choropleth"
           }
          ],
          "contour": [
           {
            "colorbar": {
             "outlinewidth": 0,
             "ticks": ""
            },
            "colorscale": [
             [
              0,
              "#0d0887"
             ],
             [
              0.1111111111111111,
              "#46039f"
             ],
             [
              0.2222222222222222,
              "#7201a8"
             ],
             [
              0.3333333333333333,
              "#9c179e"
             ],
             [
              0.4444444444444444,
              "#bd3786"
             ],
             [
              0.5555555555555556,
              "#d8576b"
             ],
             [
              0.6666666666666666,
              "#ed7953"
             ],
             [
              0.7777777777777778,
              "#fb9f3a"
             ],
             [
              0.8888888888888888,
              "#fdca26"
             ],
             [
              1,
              "#f0f921"
             ]
            ],
            "type": "contour"
           }
          ],
          "contourcarpet": [
           {
            "colorbar": {
             "outlinewidth": 0,
             "ticks": ""
            },
            "type": "contourcarpet"
           }
          ],
          "heatmap": [
           {
            "colorbar": {
             "outlinewidth": 0,
             "ticks": ""
            },
            "colorscale": [
             [
              0,
              "#0d0887"
             ],
             [
              0.1111111111111111,
              "#46039f"
             ],
             [
              0.2222222222222222,
              "#7201a8"
             ],
             [
              0.3333333333333333,
              "#9c179e"
             ],
             [
              0.4444444444444444,
              "#bd3786"
             ],
             [
              0.5555555555555556,
              "#d8576b"
             ],
             [
              0.6666666666666666,
              "#ed7953"
             ],
             [
              0.7777777777777778,
              "#fb9f3a"
             ],
             [
              0.8888888888888888,
              "#fdca26"
             ],
             [
              1,
              "#f0f921"
             ]
            ],
            "type": "heatmap"
           }
          ],
          "heatmapgl": [
           {
            "colorbar": {
             "outlinewidth": 0,
             "ticks": ""
            },
            "colorscale": [
             [
              0,
              "#0d0887"
             ],
             [
              0.1111111111111111,
              "#46039f"
             ],
             [
              0.2222222222222222,
              "#7201a8"
             ],
             [
              0.3333333333333333,
              "#9c179e"
             ],
             [
              0.4444444444444444,
              "#bd3786"
             ],
             [
              0.5555555555555556,
              "#d8576b"
             ],
             [
              0.6666666666666666,
              "#ed7953"
             ],
             [
              0.7777777777777778,
              "#fb9f3a"
             ],
             [
              0.8888888888888888,
              "#fdca26"
             ],
             [
              1,
              "#f0f921"
             ]
            ],
            "type": "heatmapgl"
           }
          ],
          "histogram": [
           {
            "marker": {
             "pattern": {
              "fillmode": "overlay",
              "size": 10,
              "solidity": 0.2
             }
            },
            "type": "histogram"
           }
          ],
          "histogram2d": [
           {
            "colorbar": {
             "outlinewidth": 0,
             "ticks": ""
            },
            "colorscale": [
             [
              0,
              "#0d0887"
             ],
             [
              0.1111111111111111,
              "#46039f"
             ],
             [
              0.2222222222222222,
              "#7201a8"
             ],
             [
              0.3333333333333333,
              "#9c179e"
             ],
             [
              0.4444444444444444,
              "#bd3786"
             ],
             [
              0.5555555555555556,
              "#d8576b"
             ],
             [
              0.6666666666666666,
              "#ed7953"
             ],
             [
              0.7777777777777778,
              "#fb9f3a"
             ],
             [
              0.8888888888888888,
              "#fdca26"
             ],
             [
              1,
              "#f0f921"
             ]
            ],
            "type": "histogram2d"
           }
          ],
          "histogram2dcontour": [
           {
            "colorbar": {
             "outlinewidth": 0,
             "ticks": ""
            },
            "colorscale": [
             [
              0,
              "#0d0887"
             ],
             [
              0.1111111111111111,
              "#46039f"
             ],
             [
              0.2222222222222222,
              "#7201a8"
             ],
             [
              0.3333333333333333,
              "#9c179e"
             ],
             [
              0.4444444444444444,
              "#bd3786"
             ],
             [
              0.5555555555555556,
              "#d8576b"
             ],
             [
              0.6666666666666666,
              "#ed7953"
             ],
             [
              0.7777777777777778,
              "#fb9f3a"
             ],
             [
              0.8888888888888888,
              "#fdca26"
             ],
             [
              1,
              "#f0f921"
             ]
            ],
            "type": "histogram2dcontour"
           }
          ],
          "mesh3d": [
           {
            "colorbar": {
             "outlinewidth": 0,
             "ticks": ""
            },
            "type": "mesh3d"
           }
          ],
          "parcoords": [
           {
            "line": {
             "colorbar": {
              "outlinewidth": 0,
              "ticks": ""
             }
            },
            "type": "parcoords"
           }
          ],
          "pie": [
           {
            "automargin": true,
            "type": "pie"
           }
          ],
          "scatter": [
           {
            "fillpattern": {
             "fillmode": "overlay",
             "size": 10,
             "solidity": 0.2
            },
            "type": "scatter"
           }
          ],
          "scatter3d": [
           {
            "line": {
             "colorbar": {
              "outlinewidth": 0,
              "ticks": ""
             }
            },
            "marker": {
             "colorbar": {
              "outlinewidth": 0,
              "ticks": ""
             }
            },
            "type": "scatter3d"
           }
          ],
          "scattercarpet": [
           {
            "marker": {
             "colorbar": {
              "outlinewidth": 0,
              "ticks": ""
             }
            },
            "type": "scattercarpet"
           }
          ],
          "scattergeo": [
           {
            "marker": {
             "colorbar": {
              "outlinewidth": 0,
              "ticks": ""
             }
            },
            "type": "scattergeo"
           }
          ],
          "scattergl": [
           {
            "marker": {
             "colorbar": {
              "outlinewidth": 0,
              "ticks": ""
             }
            },
            "type": "scattergl"
           }
          ],
          "scattermapbox": [
           {
            "marker": {
             "colorbar": {
              "outlinewidth": 0,
              "ticks": ""
             }
            },
            "type": "scattermapbox"
           }
          ],
          "scatterpolar": [
           {
            "marker": {
             "colorbar": {
              "outlinewidth": 0,
              "ticks": ""
             }
            },
            "type": "scatterpolar"
           }
          ],
          "scatterpolargl": [
           {
            "marker": {
             "colorbar": {
              "outlinewidth": 0,
              "ticks": ""
             }
            },
            "type": "scatterpolargl"
           }
          ],
          "scatterternary": [
           {
            "marker": {
             "colorbar": {
              "outlinewidth": 0,
              "ticks": ""
             }
            },
            "type": "scatterternary"
           }
          ],
          "surface": [
           {
            "colorbar": {
             "outlinewidth": 0,
             "ticks": ""
            },
            "colorscale": [
             [
              0,
              "#0d0887"
             ],
             [
              0.1111111111111111,
              "#46039f"
             ],
             [
              0.2222222222222222,
              "#7201a8"
             ],
             [
              0.3333333333333333,
              "#9c179e"
             ],
             [
              0.4444444444444444,
              "#bd3786"
             ],
             [
              0.5555555555555556,
              "#d8576b"
             ],
             [
              0.6666666666666666,
              "#ed7953"
             ],
             [
              0.7777777777777778,
              "#fb9f3a"
             ],
             [
              0.8888888888888888,
              "#fdca26"
             ],
             [
              1,
              "#f0f921"
             ]
            ],
            "type": "surface"
           }
          ],
          "table": [
           {
            "cells": {
             "fill": {
              "color": "#EBF0F8"
             },
             "line": {
              "color": "white"
             }
            },
            "header": {
             "fill": {
              "color": "#C8D4E3"
             },
             "line": {
              "color": "white"
             }
            },
            "type": "table"
           }
          ]
         },
         "layout": {
          "annotationdefaults": {
           "arrowcolor": "#2a3f5f",
           "arrowhead": 0,
           "arrowwidth": 1
          },
          "autotypenumbers": "strict",
          "coloraxis": {
           "colorbar": {
            "outlinewidth": 0,
            "ticks": ""
           }
          },
          "colorscale": {
           "diverging": [
            [
             0,
             "#8e0152"
            ],
            [
             0.1,
             "#c51b7d"
            ],
            [
             0.2,
             "#de77ae"
            ],
            [
             0.3,
             "#f1b6da"
            ],
            [
             0.4,
             "#fde0ef"
            ],
            [
             0.5,
             "#f7f7f7"
            ],
            [
             0.6,
             "#e6f5d0"
            ],
            [
             0.7,
             "#b8e186"
            ],
            [
             0.8,
             "#7fbc41"
            ],
            [
             0.9,
             "#4d9221"
            ],
            [
             1,
             "#276419"
            ]
           ],
           "sequential": [
            [
             0,
             "#0d0887"
            ],
            [
             0.1111111111111111,
             "#46039f"
            ],
            [
             0.2222222222222222,
             "#7201a8"
            ],
            [
             0.3333333333333333,
             "#9c179e"
            ],
            [
             0.4444444444444444,
             "#bd3786"
            ],
            [
             0.5555555555555556,
             "#d8576b"
            ],
            [
             0.6666666666666666,
             "#ed7953"
            ],
            [
             0.7777777777777778,
             "#fb9f3a"
            ],
            [
             0.8888888888888888,
             "#fdca26"
            ],
            [
             1,
             "#f0f921"
            ]
           ],
           "sequentialminus": [
            [
             0,
             "#0d0887"
            ],
            [
             0.1111111111111111,
             "#46039f"
            ],
            [
             0.2222222222222222,
             "#7201a8"
            ],
            [
             0.3333333333333333,
             "#9c179e"
            ],
            [
             0.4444444444444444,
             "#bd3786"
            ],
            [
             0.5555555555555556,
             "#d8576b"
            ],
            [
             0.6666666666666666,
             "#ed7953"
            ],
            [
             0.7777777777777778,
             "#fb9f3a"
            ],
            [
             0.8888888888888888,
             "#fdca26"
            ],
            [
             1,
             "#f0f921"
            ]
           ]
          },
          "colorway": [
           "#636efa",
           "#EF553B",
           "#00cc96",
           "#ab63fa",
           "#FFA15A",
           "#19d3f3",
           "#FF6692",
           "#B6E880",
           "#FF97FF",
           "#FECB52"
          ],
          "font": {
           "color": "#2a3f5f"
          },
          "geo": {
           "bgcolor": "white",
           "lakecolor": "white",
           "landcolor": "#E5ECF6",
           "showlakes": true,
           "showland": true,
           "subunitcolor": "white"
          },
          "hoverlabel": {
           "align": "left"
          },
          "hovermode": "closest",
          "mapbox": {
           "style": "light"
          },
          "paper_bgcolor": "white",
          "plot_bgcolor": "#E5ECF6",
          "polar": {
           "angularaxis": {
            "gridcolor": "white",
            "linecolor": "white",
            "ticks": ""
           },
           "bgcolor": "#E5ECF6",
           "radialaxis": {
            "gridcolor": "white",
            "linecolor": "white",
            "ticks": ""
           }
          },
          "scene": {
           "xaxis": {
            "backgroundcolor": "#E5ECF6",
            "gridcolor": "white",
            "gridwidth": 2,
            "linecolor": "white",
            "showbackground": true,
            "ticks": "",
            "zerolinecolor": "white"
           },
           "yaxis": {
            "backgroundcolor": "#E5ECF6",
            "gridcolor": "white",
            "gridwidth": 2,
            "linecolor": "white",
            "showbackground": true,
            "ticks": "",
            "zerolinecolor": "white"
           },
           "zaxis": {
            "backgroundcolor": "#E5ECF6",
            "gridcolor": "white",
            "gridwidth": 2,
            "linecolor": "white",
            "showbackground": true,
            "ticks": "",
            "zerolinecolor": "white"
           }
          },
          "shapedefaults": {
           "line": {
            "color": "#2a3f5f"
           }
          },
          "ternary": {
           "aaxis": {
            "gridcolor": "white",
            "linecolor": "white",
            "ticks": ""
           },
           "baxis": {
            "gridcolor": "white",
            "linecolor": "white",
            "ticks": ""
           },
           "bgcolor": "#E5ECF6",
           "caxis": {
            "gridcolor": "white",
            "linecolor": "white",
            "ticks": ""
           }
          },
          "title": {
           "x": 0.05
          },
          "xaxis": {
           "automargin": true,
           "gridcolor": "white",
           "linecolor": "white",
           "ticks": "",
           "title": {
            "standoff": 15
           },
           "zerolinecolor": "white",
           "zerolinewidth": 2
          },
          "yaxis": {
           "automargin": true,
           "gridcolor": "white",
           "linecolor": "white",
           "ticks": "",
           "title": {
            "standoff": 15
           },
           "zerolinecolor": "white",
           "zerolinewidth": 2
          }
         }
        }
       }
      }
     },
     "metadata": {},
     "output_type": "display_data"
    }
   ],
   "source": [
    "# education\n",
    "ed_cols = ['State', 'District','Below Primary Education', 'Primary Education',\n",
    "       'Middle Education', 'Secondary Education', 'Higher Education',\n",
    "       'Graduate Education', 'Other Education', 'Literate Education',\n",
    "       'Illiterate Education']\n",
    "\n",
    "\n",
    "import plotly.express as px\n",
    "data = final_df[ed_cols].sum()\n",
    "px.pie(values=data, labels=data.index, names=data.index)\n"
   ]
  },
  {
   "cell_type": "code",
   "execution_count": 106,
   "metadata": {},
   "outputs": [
    {
     "data": {
      "application/vnd.plotly.v1+json": {
       "config": {
        "plotlyServerURL": "https://plot.ly"
       },
       "data": [
        {
         "alignmentgroup": "True",
         "customdata": [
          [
           131257561
          ]
         ],
         "hovertemplate": "index=%{x}<br>y=%{y}<br>hover_data_1=%{customdata[0]}<extra></extra>",
         "legendgroup": "Below Primary Education",
         "marker": {
          "color": "#636efa",
          "pattern": {
           "shape": ""
          }
         },
         "name": "Below Primary Education",
         "offsetgroup": "Below Primary Education",
         "orientation": "v",
         "showlegend": true,
         "textposition": "auto",
         "type": "bar",
         "x": [
          "Below Primary Education"
         ],
         "xaxis": "x",
         "y": [
          131257561
         ],
         "yaxis": "y"
        },
        {
         "alignmentgroup": "True",
         "customdata": [
          [
           174185238
          ]
         ],
         "hovertemplate": "index=%{x}<br>y=%{y}<br>hover_data_1=%{customdata[0]}<extra></extra>",
         "legendgroup": "Primary Education",
         "marker": {
          "color": "#EF553B",
          "pattern": {
           "shape": ""
          }
         },
         "name": "Primary Education",
         "offsetgroup": "Primary Education",
         "orientation": "v",
         "showlegend": true,
         "textposition": "auto",
         "type": "bar",
         "x": [
          "Primary Education"
         ],
         "xaxis": "x",
         "y": [
          174185238
         ],
         "yaxis": "y"
        },
        {
         "alignmentgroup": "True",
         "customdata": [
          [
           137246623
          ]
         ],
         "hovertemplate": "index=%{x}<br>y=%{y}<br>hover_data_1=%{customdata[0]}<extra></extra>",
         "legendgroup": "Middle Education",
         "marker": {
          "color": "#00cc96",
          "pattern": {
           "shape": ""
          }
         },
         "name": "Middle Education",
         "offsetgroup": "Middle Education",
         "orientation": "v",
         "showlegend": true,
         "textposition": "auto",
         "type": "bar",
         "x": [
          "Middle Education"
         ],
         "xaxis": "x",
         "y": [
          137246623
         ],
         "yaxis": "y"
        },
        {
         "alignmentgroup": "True",
         "customdata": [
          [
           108840819
          ]
         ],
         "hovertemplate": "index=%{x}<br>y=%{y}<br>hover_data_1=%{customdata[0]}<extra></extra>",
         "legendgroup": "Secondary Education",
         "marker": {
          "color": "#ab63fa",
          "pattern": {
           "shape": ""
          }
         },
         "name": "Secondary Education",
         "offsetgroup": "Secondary Education",
         "orientation": "v",
         "showlegend": true,
         "textposition": "auto",
         "type": "bar",
         "x": [
          "Secondary Education"
         ],
         "xaxis": "x",
         "y": [
          108840819
         ],
         "yaxis": "y"
        },
        {
         "alignmentgroup": "True",
         "customdata": [
          [
           65561970
          ]
         ],
         "hovertemplate": "index=%{x}<br>y=%{y}<br>hover_data_1=%{customdata[0]}<extra></extra>",
         "legendgroup": "Higher Education",
         "marker": {
          "color": "#FFA15A",
          "pattern": {
           "shape": ""
          }
         },
         "name": "Higher Education",
         "offsetgroup": "Higher Education",
         "orientation": "v",
         "showlegend": true,
         "textposition": "auto",
         "type": "bar",
         "x": [
          "Higher Education"
         ],
         "xaxis": "x",
         "y": [
          65561970
         ],
         "yaxis": "y"
        },
        {
         "alignmentgroup": "True",
         "customdata": [
          [
           56131372
          ]
         ],
         "hovertemplate": "index=%{x}<br>y=%{y}<br>hover_data_1=%{customdata[0]}<extra></extra>",
         "legendgroup": "Graduate Education",
         "marker": {
          "color": "#19d3f3",
          "pattern": {
           "shape": ""
          }
         },
         "name": "Graduate Education",
         "offsetgroup": "Graduate Education",
         "orientation": "v",
         "showlegend": true,
         "textposition": "auto",
         "type": "bar",
         "x": [
          "Graduate Education"
         ],
         "xaxis": "x",
         "y": [
          56131372
         ],
         "yaxis": "y"
        },
        {
         "alignmentgroup": "True",
         "customdata": [
          [
           8357672
          ]
         ],
         "hovertemplate": "index=%{x}<br>y=%{y}<br>hover_data_1=%{customdata[0]}<extra></extra>",
         "legendgroup": "Other Education",
         "marker": {
          "color": "#FF6692",
          "pattern": {
           "shape": ""
          }
         },
         "name": "Other Education",
         "offsetgroup": "Other Education",
         "orientation": "v",
         "showlegend": true,
         "textposition": "auto",
         "type": "bar",
         "x": [
          "Other Education"
         ],
         "xaxis": "x",
         "y": [
          8357672
         ],
         "yaxis": "y"
        },
        {
         "alignmentgroup": "True",
         "customdata": [
          [
           681581255
          ]
         ],
         "hovertemplate": "index=%{x}<br>y=%{y}<br>hover_data_1=%{customdata[0]}<extra></extra>",
         "legendgroup": "Literate Education",
         "marker": {
          "color": "#B6E880",
          "pattern": {
           "shape": ""
          }
         },
         "name": "Literate Education",
         "offsetgroup": "Literate Education",
         "orientation": "v",
         "showlegend": true,
         "textposition": "auto",
         "type": "bar",
         "x": [
          "Literate Education"
         ],
         "xaxis": "x",
         "y": [
          681581255
         ],
         "yaxis": "y"
        },
        {
         "alignmentgroup": "True",
         "customdata": [
          [
           318425400
          ]
         ],
         "hovertemplate": "index=%{x}<br>y=%{y}<br>hover_data_1=%{customdata[0]}<extra></extra>",
         "legendgroup": "Illiterate Education",
         "marker": {
          "color": "#FF97FF",
          "pattern": {
           "shape": ""
          }
         },
         "name": "Illiterate Education",
         "offsetgroup": "Illiterate Education",
         "orientation": "v",
         "showlegend": true,
         "textposition": "auto",
         "type": "bar",
         "x": [
          "Illiterate Education"
         ],
         "xaxis": "x",
         "y": [
          318425400
         ],
         "yaxis": "y"
        }
       ],
       "layout": {
        "barmode": "relative",
        "legend": {
         "title": {
          "text": "index"
         },
         "tracegroupgap": 0
        },
        "margin": {
         "t": 60
        },
        "template": {
         "data": {
          "bar": [
           {
            "error_x": {
             "color": "#2a3f5f"
            },
            "error_y": {
             "color": "#2a3f5f"
            },
            "marker": {
             "line": {
              "color": "#E5ECF6",
              "width": 0.5
             },
             "pattern": {
              "fillmode": "overlay",
              "size": 10,
              "solidity": 0.2
             }
            },
            "type": "bar"
           }
          ],
          "barpolar": [
           {
            "marker": {
             "line": {
              "color": "#E5ECF6",
              "width": 0.5
             },
             "pattern": {
              "fillmode": "overlay",
              "size": 10,
              "solidity": 0.2
             }
            },
            "type": "barpolar"
           }
          ],
          "carpet": [
           {
            "aaxis": {
             "endlinecolor": "#2a3f5f",
             "gridcolor": "white",
             "linecolor": "white",
             "minorgridcolor": "white",
             "startlinecolor": "#2a3f5f"
            },
            "baxis": {
             "endlinecolor": "#2a3f5f",
             "gridcolor": "white",
             "linecolor": "white",
             "minorgridcolor": "white",
             "startlinecolor": "#2a3f5f"
            },
            "type": "carpet"
           }
          ],
          "choropleth": [
           {
            "colorbar": {
             "outlinewidth": 0,
             "ticks": ""
            },
            "type": "choropleth"
           }
          ],
          "contour": [
           {
            "colorbar": {
             "outlinewidth": 0,
             "ticks": ""
            },
            "colorscale": [
             [
              0,
              "#0d0887"
             ],
             [
              0.1111111111111111,
              "#46039f"
             ],
             [
              0.2222222222222222,
              "#7201a8"
             ],
             [
              0.3333333333333333,
              "#9c179e"
             ],
             [
              0.4444444444444444,
              "#bd3786"
             ],
             [
              0.5555555555555556,
              "#d8576b"
             ],
             [
              0.6666666666666666,
              "#ed7953"
             ],
             [
              0.7777777777777778,
              "#fb9f3a"
             ],
             [
              0.8888888888888888,
              "#fdca26"
             ],
             [
              1,
              "#f0f921"
             ]
            ],
            "type": "contour"
           }
          ],
          "contourcarpet": [
           {
            "colorbar": {
             "outlinewidth": 0,
             "ticks": ""
            },
            "type": "contourcarpet"
           }
          ],
          "heatmap": [
           {
            "colorbar": {
             "outlinewidth": 0,
             "ticks": ""
            },
            "colorscale": [
             [
              0,
              "#0d0887"
             ],
             [
              0.1111111111111111,
              "#46039f"
             ],
             [
              0.2222222222222222,
              "#7201a8"
             ],
             [
              0.3333333333333333,
              "#9c179e"
             ],
             [
              0.4444444444444444,
              "#bd3786"
             ],
             [
              0.5555555555555556,
              "#d8576b"
             ],
             [
              0.6666666666666666,
              "#ed7953"
             ],
             [
              0.7777777777777778,
              "#fb9f3a"
             ],
             [
              0.8888888888888888,
              "#fdca26"
             ],
             [
              1,
              "#f0f921"
             ]
            ],
            "type": "heatmap"
           }
          ],
          "heatmapgl": [
           {
            "colorbar": {
             "outlinewidth": 0,
             "ticks": ""
            },
            "colorscale": [
             [
              0,
              "#0d0887"
             ],
             [
              0.1111111111111111,
              "#46039f"
             ],
             [
              0.2222222222222222,
              "#7201a8"
             ],
             [
              0.3333333333333333,
              "#9c179e"
             ],
             [
              0.4444444444444444,
              "#bd3786"
             ],
             [
              0.5555555555555556,
              "#d8576b"
             ],
             [
              0.6666666666666666,
              "#ed7953"
             ],
             [
              0.7777777777777778,
              "#fb9f3a"
             ],
             [
              0.8888888888888888,
              "#fdca26"
             ],
             [
              1,
              "#f0f921"
             ]
            ],
            "type": "heatmapgl"
           }
          ],
          "histogram": [
           {
            "marker": {
             "pattern": {
              "fillmode": "overlay",
              "size": 10,
              "solidity": 0.2
             }
            },
            "type": "histogram"
           }
          ],
          "histogram2d": [
           {
            "colorbar": {
             "outlinewidth": 0,
             "ticks": ""
            },
            "colorscale": [
             [
              0,
              "#0d0887"
             ],
             [
              0.1111111111111111,
              "#46039f"
             ],
             [
              0.2222222222222222,
              "#7201a8"
             ],
             [
              0.3333333333333333,
              "#9c179e"
             ],
             [
              0.4444444444444444,
              "#bd3786"
             ],
             [
              0.5555555555555556,
              "#d8576b"
             ],
             [
              0.6666666666666666,
              "#ed7953"
             ],
             [
              0.7777777777777778,
              "#fb9f3a"
             ],
             [
              0.8888888888888888,
              "#fdca26"
             ],
             [
              1,
              "#f0f921"
             ]
            ],
            "type": "histogram2d"
           }
          ],
          "histogram2dcontour": [
           {
            "colorbar": {
             "outlinewidth": 0,
             "ticks": ""
            },
            "colorscale": [
             [
              0,
              "#0d0887"
             ],
             [
              0.1111111111111111,
              "#46039f"
             ],
             [
              0.2222222222222222,
              "#7201a8"
             ],
             [
              0.3333333333333333,
              "#9c179e"
             ],
             [
              0.4444444444444444,
              "#bd3786"
             ],
             [
              0.5555555555555556,
              "#d8576b"
             ],
             [
              0.6666666666666666,
              "#ed7953"
             ],
             [
              0.7777777777777778,
              "#fb9f3a"
             ],
             [
              0.8888888888888888,
              "#fdca26"
             ],
             [
              1,
              "#f0f921"
             ]
            ],
            "type": "histogram2dcontour"
           }
          ],
          "mesh3d": [
           {
            "colorbar": {
             "outlinewidth": 0,
             "ticks": ""
            },
            "type": "mesh3d"
           }
          ],
          "parcoords": [
           {
            "line": {
             "colorbar": {
              "outlinewidth": 0,
              "ticks": ""
             }
            },
            "type": "parcoords"
           }
          ],
          "pie": [
           {
            "automargin": true,
            "type": "pie"
           }
          ],
          "scatter": [
           {
            "fillpattern": {
             "fillmode": "overlay",
             "size": 10,
             "solidity": 0.2
            },
            "type": "scatter"
           }
          ],
          "scatter3d": [
           {
            "line": {
             "colorbar": {
              "outlinewidth": 0,
              "ticks": ""
             }
            },
            "marker": {
             "colorbar": {
              "outlinewidth": 0,
              "ticks": ""
             }
            },
            "type": "scatter3d"
           }
          ],
          "scattercarpet": [
           {
            "marker": {
             "colorbar": {
              "outlinewidth": 0,
              "ticks": ""
             }
            },
            "type": "scattercarpet"
           }
          ],
          "scattergeo": [
           {
            "marker": {
             "colorbar": {
              "outlinewidth": 0,
              "ticks": ""
             }
            },
            "type": "scattergeo"
           }
          ],
          "scattergl": [
           {
            "marker": {
             "colorbar": {
              "outlinewidth": 0,
              "ticks": ""
             }
            },
            "type": "scattergl"
           }
          ],
          "scattermapbox": [
           {
            "marker": {
             "colorbar": {
              "outlinewidth": 0,
              "ticks": ""
             }
            },
            "type": "scattermapbox"
           }
          ],
          "scatterpolar": [
           {
            "marker": {
             "colorbar": {
              "outlinewidth": 0,
              "ticks": ""
             }
            },
            "type": "scatterpolar"
           }
          ],
          "scatterpolargl": [
           {
            "marker": {
             "colorbar": {
              "outlinewidth": 0,
              "ticks": ""
             }
            },
            "type": "scatterpolargl"
           }
          ],
          "scatterternary": [
           {
            "marker": {
             "colorbar": {
              "outlinewidth": 0,
              "ticks": ""
             }
            },
            "type": "scatterternary"
           }
          ],
          "surface": [
           {
            "colorbar": {
             "outlinewidth": 0,
             "ticks": ""
            },
            "colorscale": [
             [
              0,
              "#0d0887"
             ],
             [
              0.1111111111111111,
              "#46039f"
             ],
             [
              0.2222222222222222,
              "#7201a8"
             ],
             [
              0.3333333333333333,
              "#9c179e"
             ],
             [
              0.4444444444444444,
              "#bd3786"
             ],
             [
              0.5555555555555556,
              "#d8576b"
             ],
             [
              0.6666666666666666,
              "#ed7953"
             ],
             [
              0.7777777777777778,
              "#fb9f3a"
             ],
             [
              0.8888888888888888,
              "#fdca26"
             ],
             [
              1,
              "#f0f921"
             ]
            ],
            "type": "surface"
           }
          ],
          "table": [
           {
            "cells": {
             "fill": {
              "color": "#EBF0F8"
             },
             "line": {
              "color": "white"
             }
            },
            "header": {
             "fill": {
              "color": "#C8D4E3"
             },
             "line": {
              "color": "white"
             }
            },
            "type": "table"
           }
          ]
         },
         "layout": {
          "annotationdefaults": {
           "arrowcolor": "#2a3f5f",
           "arrowhead": 0,
           "arrowwidth": 1
          },
          "autotypenumbers": "strict",
          "coloraxis": {
           "colorbar": {
            "outlinewidth": 0,
            "ticks": ""
           }
          },
          "colorscale": {
           "diverging": [
            [
             0,
             "#8e0152"
            ],
            [
             0.1,
             "#c51b7d"
            ],
            [
             0.2,
             "#de77ae"
            ],
            [
             0.3,
             "#f1b6da"
            ],
            [
             0.4,
             "#fde0ef"
            ],
            [
             0.5,
             "#f7f7f7"
            ],
            [
             0.6,
             "#e6f5d0"
            ],
            [
             0.7,
             "#b8e186"
            ],
            [
             0.8,
             "#7fbc41"
            ],
            [
             0.9,
             "#4d9221"
            ],
            [
             1,
             "#276419"
            ]
           ],
           "sequential": [
            [
             0,
             "#0d0887"
            ],
            [
             0.1111111111111111,
             "#46039f"
            ],
            [
             0.2222222222222222,
             "#7201a8"
            ],
            [
             0.3333333333333333,
             "#9c179e"
            ],
            [
             0.4444444444444444,
             "#bd3786"
            ],
            [
             0.5555555555555556,
             "#d8576b"
            ],
            [
             0.6666666666666666,
             "#ed7953"
            ],
            [
             0.7777777777777778,
             "#fb9f3a"
            ],
            [
             0.8888888888888888,
             "#fdca26"
            ],
            [
             1,
             "#f0f921"
            ]
           ],
           "sequentialminus": [
            [
             0,
             "#0d0887"
            ],
            [
             0.1111111111111111,
             "#46039f"
            ],
            [
             0.2222222222222222,
             "#7201a8"
            ],
            [
             0.3333333333333333,
             "#9c179e"
            ],
            [
             0.4444444444444444,
             "#bd3786"
            ],
            [
             0.5555555555555556,
             "#d8576b"
            ],
            [
             0.6666666666666666,
             "#ed7953"
            ],
            [
             0.7777777777777778,
             "#fb9f3a"
            ],
            [
             0.8888888888888888,
             "#fdca26"
            ],
            [
             1,
             "#f0f921"
            ]
           ]
          },
          "colorway": [
           "#636efa",
           "#EF553B",
           "#00cc96",
           "#ab63fa",
           "#FFA15A",
           "#19d3f3",
           "#FF6692",
           "#B6E880",
           "#FF97FF",
           "#FECB52"
          ],
          "font": {
           "color": "#2a3f5f"
          },
          "geo": {
           "bgcolor": "white",
           "lakecolor": "white",
           "landcolor": "#E5ECF6",
           "showlakes": true,
           "showland": true,
           "subunitcolor": "white"
          },
          "hoverlabel": {
           "align": "left"
          },
          "hovermode": "closest",
          "mapbox": {
           "style": "light"
          },
          "paper_bgcolor": "white",
          "plot_bgcolor": "#E5ECF6",
          "polar": {
           "angularaxis": {
            "gridcolor": "white",
            "linecolor": "white",
            "ticks": ""
           },
           "bgcolor": "#E5ECF6",
           "radialaxis": {
            "gridcolor": "white",
            "linecolor": "white",
            "ticks": ""
           }
          },
          "scene": {
           "xaxis": {
            "backgroundcolor": "#E5ECF6",
            "gridcolor": "white",
            "gridwidth": 2,
            "linecolor": "white",
            "showbackground": true,
            "ticks": "",
            "zerolinecolor": "white"
           },
           "yaxis": {
            "backgroundcolor": "#E5ECF6",
            "gridcolor": "white",
            "gridwidth": 2,
            "linecolor": "white",
            "showbackground": true,
            "ticks": "",
            "zerolinecolor": "white"
           },
           "zaxis": {
            "backgroundcolor": "#E5ECF6",
            "gridcolor": "white",
            "gridwidth": 2,
            "linecolor": "white",
            "showbackground": true,
            "ticks": "",
            "zerolinecolor": "white"
           }
          },
          "shapedefaults": {
           "line": {
            "color": "#2a3f5f"
           }
          },
          "ternary": {
           "aaxis": {
            "gridcolor": "white",
            "linecolor": "white",
            "ticks": ""
           },
           "baxis": {
            "gridcolor": "white",
            "linecolor": "white",
            "ticks": ""
           },
           "bgcolor": "#E5ECF6",
           "caxis": {
            "gridcolor": "white",
            "linecolor": "white",
            "ticks": ""
           }
          },
          "title": {
           "x": 0.05
          },
          "xaxis": {
           "automargin": true,
           "gridcolor": "white",
           "linecolor": "white",
           "ticks": "",
           "title": {
            "standoff": 15
           },
           "zerolinecolor": "white",
           "zerolinewidth": 2
          },
          "yaxis": {
           "automargin": true,
           "gridcolor": "white",
           "linecolor": "white",
           "ticks": "",
           "title": {
            "standoff": 15
           },
           "zerolinecolor": "white",
           "zerolinewidth": 2
          }
         }
        },
        "xaxis": {
         "anchor": "y",
         "categoryarray": [
          "Below Primary Education",
          "Primary Education",
          "Middle Education",
          "Secondary Education",
          "Higher Education",
          "Graduate Education",
          "Other Education",
          "Literate Education",
          "Illiterate Education"
         ],
         "categoryorder": "array",
         "domain": [
          0,
          1
         ],
         "title": {
          "text": "index"
         }
        },
        "yaxis": {
         "anchor": "x",
         "domain": [
          0,
          1
         ],
         "title": {
          "text": "y"
         }
        }
       }
      }
     },
     "metadata": {},
     "output_type": "display_data"
    }
   ],
   "source": [
    "# education\n",
    "ed_cols = ['State', 'District','Below Primary Education', 'Primary Education',\n",
    "       'Middle Education', 'Secondary Education', 'Higher Education',\n",
    "       'Graduate Education', 'Other Education', 'Literate Education',\n",
    "       'Illiterate Education']\n",
    "\n",
    "\n",
    "import plotly.express as px\n",
    "data = final_df[ed_cols].sum()[2:]\n",
    "px.bar(data, x=data.index, y=data.values, color=data.index, hover_data=[data.index, data.values])\n"
   ]
  },
  {
   "cell_type": "code",
   "execution_count": 107,
   "metadata": {},
   "outputs": [
    {
     "data": {
      "text/plain": [
       "Index(['State', 'District', 'Latitude', 'Longitude', 'District Code',\n",
       "       'Population', 'Male', 'Female', 'Literate', 'Male Literate',\n",
       "       'Female Literate', 'Hindus', 'Muslims', 'Christians', 'Sikhs',\n",
       "       'Buddhists', 'Jains', 'Others Religions', 'Religion Not Stated',\n",
       "       'Households', 'Below Primary Education', 'Primary Education',\n",
       "       'Middle Education', 'Secondary Education', 'Higher Education',\n",
       "       'Graduate Education', 'Other Education', 'Literate Education',\n",
       "       'Illiterate Education', 'Total Education', 'Age Group 0 29',\n",
       "       'Age Group 30 49', 'Age Group 50', 'Age Not Stated',\n",
       "       'Total Power Parity', 'Sex Ratio', 'Literacy Rate'],\n",
       "      dtype='object')"
      ]
     },
     "execution_count": 107,
     "metadata": {},
     "output_type": "execute_result"
    }
   ],
   "source": [
    "# age\n",
    "final_df.columns"
   ]
  },
  {
   "cell_type": "code",
   "execution_count": 109,
   "metadata": {},
   "outputs": [
    {
     "data": {
      "text/plain": [
       "['State',\n",
       " 'District',\n",
       " 'Age Group 0 29',\n",
       " 'Age Group 30 49',\n",
       " 'Age Group 50',\n",
       " 'Age Not Stated']"
      ]
     },
     "execution_count": 109,
     "metadata": {},
     "output_type": "execute_result"
    }
   ],
   "source": [
    "age_cols = ['State', 'District', 'Age Group 0 29',\n",
    "       'Age Group 30 49', 'Age Group 50', 'Age Not Stated']\n",
    "age_cols"
   ]
  },
  {
   "cell_type": "code",
   "execution_count": 112,
   "metadata": {},
   "outputs": [
    {
     "data": {
      "text/plain": [
       "State              Andhra PradeshAndhra PradeshAndhra PradeshAndh...\n",
       "District           AdilabadAnantapurChittoorEast GodavariGunturHy...\n",
       "Age Group 0 29                                             596901010\n",
       "Age Group 30 49                                            257582112\n",
       "Age Group 50                                               161715380\n",
       "Age Not Stated                                               3893429\n",
       "dtype: object"
      ]
     },
     "execution_count": 112,
     "metadata": {},
     "output_type": "execute_result"
    }
   ],
   "source": [
    "data = final_df[age_cols].sum()\n",
    "data"
   ]
  },
  {
   "cell_type": "code",
   "execution_count": null,
   "metadata": {},
   "outputs": [],
   "source": []
  }
 ],
 "metadata": {
  "kernelspec": {
   "display_name": "Python 3",
   "language": "python",
   "name": "python3"
  },
  "language_info": {
   "codemirror_mode": {
    "name": "ipython",
    "version": 3
   },
   "file_extension": ".py",
   "mimetype": "text/x-python",
   "name": "python",
   "nbconvert_exporter": "python",
   "pygments_lexer": "ipython3",
   "version": "3.12.5"
  }
 },
 "nbformat": 4,
 "nbformat_minor": 2
}
