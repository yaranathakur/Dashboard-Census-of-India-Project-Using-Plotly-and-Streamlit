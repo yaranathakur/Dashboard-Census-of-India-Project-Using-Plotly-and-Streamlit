{
 "cells": [
  {
   "cell_type": "code",
   "execution_count": 1,
   "metadata": {},
   "outputs": [],
   "source": [
    "import pandas as pd"
   ]
  },
  {
   "cell_type": "code",
   "execution_count": 3,
   "metadata": {},
   "outputs": [],
   "source": [
    "df = pd.read_csv(r\"data\\india-districts-census-2011.csv\")"
   ]
  },
  {
   "cell_type": "code",
   "execution_count": 6,
   "metadata": {},
   "outputs": [],
   "source": [
    "cols = [\n",
    "    \"District code\",\n",
    "    \"State name\",\n",
    "    \"District name\",\n",
    "    \"Population\",\n",
    "    \"Male\",\n",
    "    \"Female\",\n",
    "    \"Literate\",\n",
    "    \"Male_Literate\",\n",
    "    \"Female_Literate\",\n",
    "    \"Hindus\",\n",
    "    \"Muslims\",\n",
    "    \"Christians\",\n",
    "    \"Sikhs\",\n",
    "    \"Buddhists\",\n",
    "    \"Jains\",\n",
    "    \"Others_Religions\",\n",
    "    \"Religion_Not_Stated\",\n",
    "    \"Households\",\n",
    "    \"Below_Primary_Education\",\n",
    "    \"Primary_Education\",\n",
    "    \"Middle_Education\",\n",
    "    \"Secondary_Education\",\n",
    "    \"Higher_Education\",\n",
    "    \"Graduate_Education\",\n",
    "    \"Other_Education\",\n",
    "    \"Literate_Education\",\n",
    "    \"Illiterate_Education\",\n",
    "    \"Total_Education\",\n",
    "    \"Age_Group_0_29\",\n",
    "    \"Age_Group_30_49\",\n",
    "    \"Age_Group_50\",\n",
    "    \"Age not stated\",\n",
    "    \"Total_Power_Parity\",\n",
    "]"
   ]
  },
  {
   "cell_type": "code",
   "execution_count": 8,
   "metadata": {},
   "outputs": [],
   "source": [
    "df = df[cols]"
   ]
  },
  {
   "cell_type": "code",
   "execution_count": 9,
   "metadata": {},
   "outputs": [
    {
     "data": {
      "text/html": [
       "<div>\n",
       "<style scoped>\n",
       "    .dataframe tbody tr th:only-of-type {\n",
       "        vertical-align: middle;\n",
       "    }\n",
       "\n",
       "    .dataframe tbody tr th {\n",
       "        vertical-align: top;\n",
       "    }\n",
       "\n",
       "    .dataframe thead th {\n",
       "        text-align: right;\n",
       "    }\n",
       "</style>\n",
       "<table border=\"1\" class=\"dataframe\">\n",
       "  <thead>\n",
       "    <tr style=\"text-align: right;\">\n",
       "      <th></th>\n",
       "      <th>District code</th>\n",
       "      <th>State name</th>\n",
       "      <th>District name</th>\n",
       "      <th>Population</th>\n",
       "      <th>Male</th>\n",
       "      <th>Female</th>\n",
       "      <th>Literate</th>\n",
       "      <th>Male_Literate</th>\n",
       "      <th>Female_Literate</th>\n",
       "      <th>Hindus</th>\n",
       "      <th>...</th>\n",
       "      <th>Graduate_Education</th>\n",
       "      <th>Other_Education</th>\n",
       "      <th>Literate_Education</th>\n",
       "      <th>Illiterate_Education</th>\n",
       "      <th>Total_Education</th>\n",
       "      <th>Age_Group_0_29</th>\n",
       "      <th>Age_Group_30_49</th>\n",
       "      <th>Age_Group_50</th>\n",
       "      <th>Age not stated</th>\n",
       "      <th>Total_Power_Parity</th>\n",
       "    </tr>\n",
       "  </thead>\n",
       "  <tbody>\n",
       "    <tr>\n",
       "      <th>0</th>\n",
       "      <td>1</td>\n",
       "      <td>JAMMU AND KASHMIR</td>\n",
       "      <td>Kupwara</td>\n",
       "      <td>870354</td>\n",
       "      <td>474190</td>\n",
       "      <td>396164</td>\n",
       "      <td>439654</td>\n",
       "      <td>282823</td>\n",
       "      <td>156831</td>\n",
       "      <td>37128</td>\n",
       "      <td>...</td>\n",
       "      <td>21751</td>\n",
       "      <td>6402</td>\n",
       "      <td>405015</td>\n",
       "      <td>289765</td>\n",
       "      <td>694780</td>\n",
       "      <td>600759</td>\n",
       "      <td>178435</td>\n",
       "      <td>89679</td>\n",
       "      <td>1481</td>\n",
       "      <td>1119</td>\n",
       "    </tr>\n",
       "    <tr>\n",
       "      <th>1</th>\n",
       "      <td>2</td>\n",
       "      <td>JAMMU AND KASHMIR</td>\n",
       "      <td>Badgam</td>\n",
       "      <td>753745</td>\n",
       "      <td>398041</td>\n",
       "      <td>355704</td>\n",
       "      <td>335649</td>\n",
       "      <td>207741</td>\n",
       "      <td>127908</td>\n",
       "      <td>10110</td>\n",
       "      <td>...</td>\n",
       "      <td>27950</td>\n",
       "      <td>6857</td>\n",
       "      <td>374972</td>\n",
       "      <td>342646</td>\n",
       "      <td>717618</td>\n",
       "      <td>503223</td>\n",
       "      <td>160933</td>\n",
       "      <td>88978</td>\n",
       "      <td>611</td>\n",
       "      <td>1066</td>\n",
       "    </tr>\n",
       "    <tr>\n",
       "      <th>2</th>\n",
       "      <td>3</td>\n",
       "      <td>JAMMU AND KASHMIR</td>\n",
       "      <td>Leh(Ladakh)</td>\n",
       "      <td>133487</td>\n",
       "      <td>78971</td>\n",
       "      <td>54516</td>\n",
       "      <td>93770</td>\n",
       "      <td>62834</td>\n",
       "      <td>30936</td>\n",
       "      <td>22882</td>\n",
       "      <td>...</td>\n",
       "      <td>6197</td>\n",
       "      <td>575</td>\n",
       "      <td>75493</td>\n",
       "      <td>32637</td>\n",
       "      <td>108130</td>\n",
       "      <td>70703</td>\n",
       "      <td>41515</td>\n",
       "      <td>21019</td>\n",
       "      <td>250</td>\n",
       "      <td>242</td>\n",
       "    </tr>\n",
       "    <tr>\n",
       "      <th>3</th>\n",
       "      <td>4</td>\n",
       "      <td>JAMMU AND KASHMIR</td>\n",
       "      <td>Kargil</td>\n",
       "      <td>140802</td>\n",
       "      <td>77785</td>\n",
       "      <td>63017</td>\n",
       "      <td>86236</td>\n",
       "      <td>56301</td>\n",
       "      <td>29935</td>\n",
       "      <td>10341</td>\n",
       "      <td>...</td>\n",
       "      <td>3077</td>\n",
       "      <td>408</td>\n",
       "      <td>82938</td>\n",
       "      <td>39854</td>\n",
       "      <td>122792</td>\n",
       "      <td>87532</td>\n",
       "      <td>35561</td>\n",
       "      <td>17488</td>\n",
       "      <td>221</td>\n",
       "      <td>214</td>\n",
       "    </tr>\n",
       "    <tr>\n",
       "      <th>4</th>\n",
       "      <td>5</td>\n",
       "      <td>JAMMU AND KASHMIR</td>\n",
       "      <td>Punch</td>\n",
       "      <td>476835</td>\n",
       "      <td>251899</td>\n",
       "      <td>224936</td>\n",
       "      <td>261724</td>\n",
       "      <td>163333</td>\n",
       "      <td>98391</td>\n",
       "      <td>32604</td>\n",
       "      <td>...</td>\n",
       "      <td>13962</td>\n",
       "      <td>1884</td>\n",
       "      <td>288430</td>\n",
       "      <td>164044</td>\n",
       "      <td>452474</td>\n",
       "      <td>304979</td>\n",
       "      <td>109818</td>\n",
       "      <td>61334</td>\n",
       "      <td>704</td>\n",
       "      <td>629</td>\n",
       "    </tr>\n",
       "  </tbody>\n",
       "</table>\n",
       "<p>5 rows × 33 columns</p>\n",
       "</div>"
      ],
      "text/plain": [
       "   District code         State name District name  Population    Male  Female  \\\n",
       "0              1  JAMMU AND KASHMIR       Kupwara      870354  474190  396164   \n",
       "1              2  JAMMU AND KASHMIR        Badgam      753745  398041  355704   \n",
       "2              3  JAMMU AND KASHMIR   Leh(Ladakh)      133487   78971   54516   \n",
       "3              4  JAMMU AND KASHMIR        Kargil      140802   77785   63017   \n",
       "4              5  JAMMU AND KASHMIR         Punch      476835  251899  224936   \n",
       "\n",
       "   Literate  Male_Literate  Female_Literate  Hindus  ...  Graduate_Education  \\\n",
       "0    439654         282823           156831   37128  ...               21751   \n",
       "1    335649         207741           127908   10110  ...               27950   \n",
       "2     93770          62834            30936   22882  ...                6197   \n",
       "3     86236          56301            29935   10341  ...                3077   \n",
       "4    261724         163333            98391   32604  ...               13962   \n",
       "\n",
       "   Other_Education  Literate_Education  Illiterate_Education  Total_Education  \\\n",
       "0             6402              405015                289765           694780   \n",
       "1             6857              374972                342646           717618   \n",
       "2              575               75493                 32637           108130   \n",
       "3              408               82938                 39854           122792   \n",
       "4             1884              288430                164044           452474   \n",
       "\n",
       "   Age_Group_0_29  Age_Group_30_49  Age_Group_50  Age not stated  \\\n",
       "0          600759           178435         89679            1481   \n",
       "1          503223           160933         88978             611   \n",
       "2           70703            41515         21019             250   \n",
       "3           87532            35561         17488             221   \n",
       "4          304979           109818         61334             704   \n",
       "\n",
       "   Total_Power_Parity  \n",
       "0                1119  \n",
       "1                1066  \n",
       "2                 242  \n",
       "3                 214  \n",
       "4                 629  \n",
       "\n",
       "[5 rows x 33 columns]"
      ]
     },
     "execution_count": 9,
     "metadata": {},
     "output_type": "execute_result"
    }
   ],
   "source": [
    "df.head()"
   ]
  },
  {
   "cell_type": "code",
   "execution_count": 11,
   "metadata": {},
   "outputs": [
    {
     "data": {
      "text/html": [
       "<div>\n",
       "<style scoped>\n",
       "    .dataframe tbody tr th:only-of-type {\n",
       "        vertical-align: middle;\n",
       "    }\n",
       "\n",
       "    .dataframe tbody tr th {\n",
       "        vertical-align: top;\n",
       "    }\n",
       "\n",
       "    .dataframe thead th {\n",
       "        text-align: right;\n",
       "    }\n",
       "</style>\n",
       "<table border=\"1\" class=\"dataframe\">\n",
       "  <thead>\n",
       "    <tr style=\"text-align: right;\">\n",
       "      <th></th>\n",
       "      <th>State</th>\n",
       "      <th>District</th>\n",
       "      <th>Latitude</th>\n",
       "      <th>Longitude</th>\n",
       "    </tr>\n",
       "  </thead>\n",
       "  <tbody>\n",
       "    <tr>\n",
       "      <th>0</th>\n",
       "      <td>Andaman and Nicobar</td>\n",
       "      <td>Andaman Islands</td>\n",
       "      <td>12.382571</td>\n",
       "      <td>92.822911</td>\n",
       "    </tr>\n",
       "    <tr>\n",
       "      <th>1</th>\n",
       "      <td>Andaman and Nicobar</td>\n",
       "      <td>Nicobar Islands</td>\n",
       "      <td>7.835291</td>\n",
       "      <td>93.511601</td>\n",
       "    </tr>\n",
       "    <tr>\n",
       "      <th>2</th>\n",
       "      <td>Andhra Pradesh</td>\n",
       "      <td>Adilabad</td>\n",
       "      <td>19.284514</td>\n",
       "      <td>78.813212</td>\n",
       "    </tr>\n",
       "    <tr>\n",
       "      <th>3</th>\n",
       "      <td>Andhra Pradesh</td>\n",
       "      <td>Anantapur</td>\n",
       "      <td>14.312066</td>\n",
       "      <td>77.460158</td>\n",
       "    </tr>\n",
       "    <tr>\n",
       "      <th>4</th>\n",
       "      <td>Andhra Pradesh</td>\n",
       "      <td>Chittoor</td>\n",
       "      <td>13.331093</td>\n",
       "      <td>78.927639</td>\n",
       "    </tr>\n",
       "  </tbody>\n",
       "</table>\n",
       "</div>"
      ],
      "text/plain": [
       "                 State         District   Latitude  Longitude\n",
       "0  Andaman and Nicobar  Andaman Islands  12.382571  92.822911\n",
       "1  Andaman and Nicobar  Nicobar Islands   7.835291  93.511601\n",
       "2       Andhra Pradesh         Adilabad  19.284514  78.813212\n",
       "3       Andhra Pradesh        Anantapur  14.312066  77.460158\n",
       "4       Andhra Pradesh         Chittoor  13.331093  78.927639"
      ]
     },
     "execution_count": 11,
     "metadata": {},
     "output_type": "execute_result"
    }
   ],
   "source": [
    "df1 = pd.read_csv(r'data\\district wise centroids.csv')\n",
    "df1.head()"
   ]
  },
  {
   "cell_type": "code",
   "execution_count": 13,
   "metadata": {},
   "outputs": [],
   "source": [
    "# merge both\n",
    "final_df = df1.merge(df, left_on = 'District', right_on=\"District name\")"
   ]
  },
  {
   "cell_type": "code",
   "execution_count": 15,
   "metadata": {},
   "outputs": [],
   "source": [
    "final_df.drop(columns = ['State name', 'District name'], inplace = True)"
   ]
  },
  {
   "cell_type": "code",
   "execution_count": 24,
   "metadata": {},
   "outputs": [],
   "source": [
    "final_df.rename(columns=lambda col: ' '.join(word.title() for word in col.split('_')), inplace=True)"
   ]
  },
  {
   "cell_type": "code",
   "execution_count": 25,
   "metadata": {},
   "outputs": [
    {
     "data": {
      "text/plain": [
       "Index(['State', 'District', 'Latitude', 'Longitude', 'District Code',\n",
       "       'Population', 'Male', 'Female', 'Literate', 'Male Literate',\n",
       "       'Female Literate', 'Hindus', 'Muslims', 'Christians', 'Sikhs',\n",
       "       'Buddhists', 'Jains', 'Others Religions', 'Religion Not Stated',\n",
       "       'Households', 'Below Primary Education', 'Primary Education',\n",
       "       'Middle Education', 'Secondary Education', 'Higher Education',\n",
       "       'Graduate Education', 'Other Education', 'Literate Education',\n",
       "       'Illiterate Education', 'Total Education', 'Age Group 0 29',\n",
       "       'Age Group 30 49', 'Age Group 50', 'Age Not Stated',\n",
       "       'Total Power Parity'],\n",
       "      dtype='object')"
      ]
     },
     "execution_count": 25,
     "metadata": {},
     "output_type": "execute_result"
    }
   ],
   "source": [
    "final_df.columns"
   ]
  },
  {
   "cell_type": "code",
   "execution_count": 26,
   "metadata": {},
   "outputs": [],
   "source": [
    "final_df.to_csv('indiaDetailed.csv', index=False)"
   ]
  },
  {
   "cell_type": "code",
   "execution_count": 27,
   "metadata": {},
   "outputs": [
    {
     "data": {
      "text/html": [
       "<div>\n",
       "<style scoped>\n",
       "    .dataframe tbody tr th:only-of-type {\n",
       "        vertical-align: middle;\n",
       "    }\n",
       "\n",
       "    .dataframe tbody tr th {\n",
       "        vertical-align: top;\n",
       "    }\n",
       "\n",
       "    .dataframe thead th {\n",
       "        text-align: right;\n",
       "    }\n",
       "</style>\n",
       "<table border=\"1\" class=\"dataframe\">\n",
       "  <thead>\n",
       "    <tr style=\"text-align: right;\">\n",
       "      <th></th>\n",
       "      <th>State</th>\n",
       "      <th>District</th>\n",
       "      <th>Latitude</th>\n",
       "      <th>Longitude</th>\n",
       "      <th>District Code</th>\n",
       "      <th>Population</th>\n",
       "      <th>Male</th>\n",
       "      <th>Female</th>\n",
       "      <th>Literate</th>\n",
       "      <th>Male Literate</th>\n",
       "      <th>...</th>\n",
       "      <th>Graduate Education</th>\n",
       "      <th>Other Education</th>\n",
       "      <th>Literate Education</th>\n",
       "      <th>Illiterate Education</th>\n",
       "      <th>Total Education</th>\n",
       "      <th>Age Group 0 29</th>\n",
       "      <th>Age Group 30 49</th>\n",
       "      <th>Age Group 50</th>\n",
       "      <th>Age Not Stated</th>\n",
       "      <th>Total Power Parity</th>\n",
       "    </tr>\n",
       "  </thead>\n",
       "  <tbody>\n",
       "    <tr>\n",
       "      <th>0</th>\n",
       "      <td>Andhra Pradesh</td>\n",
       "      <td>Adilabad</td>\n",
       "      <td>19.284514</td>\n",
       "      <td>78.813212</td>\n",
       "      <td>532</td>\n",
       "      <td>2741239</td>\n",
       "      <td>1369597</td>\n",
       "      <td>1371642</td>\n",
       "      <td>1483347</td>\n",
       "      <td>856350</td>\n",
       "      <td>...</td>\n",
       "      <td>100226</td>\n",
       "      <td>19277</td>\n",
       "      <td>1346992</td>\n",
       "      <td>1030640</td>\n",
       "      <td>2377632</td>\n",
       "      <td>1536378</td>\n",
       "      <td>704551</td>\n",
       "      <td>422522</td>\n",
       "      <td>77788</td>\n",
       "      <td>4181</td>\n",
       "    </tr>\n",
       "    <tr>\n",
       "      <th>1</th>\n",
       "      <td>Andhra Pradesh</td>\n",
       "      <td>Anantapur</td>\n",
       "      <td>14.312066</td>\n",
       "      <td>77.460158</td>\n",
       "      <td>553</td>\n",
       "      <td>4081148</td>\n",
       "      <td>2064495</td>\n",
       "      <td>2016653</td>\n",
       "      <td>2310960</td>\n",
       "      <td>1338474</td>\n",
       "      <td>...</td>\n",
       "      <td>144915</td>\n",
       "      <td>23341</td>\n",
       "      <td>2426929</td>\n",
       "      <td>1369069</td>\n",
       "      <td>3795998</td>\n",
       "      <td>2189396</td>\n",
       "      <td>1104565</td>\n",
       "      <td>739612</td>\n",
       "      <td>47575</td>\n",
       "      <td>5799</td>\n",
       "    </tr>\n",
       "    <tr>\n",
       "      <th>2</th>\n",
       "      <td>Andhra Pradesh</td>\n",
       "      <td>Chittoor</td>\n",
       "      <td>13.331093</td>\n",
       "      <td>78.927639</td>\n",
       "      <td>554</td>\n",
       "      <td>4174064</td>\n",
       "      <td>2090204</td>\n",
       "      <td>2083860</td>\n",
       "      <td>2667878</td>\n",
       "      <td>1484794</td>\n",
       "      <td>...</td>\n",
       "      <td>246409</td>\n",
       "      <td>36017</td>\n",
       "      <td>3062955</td>\n",
       "      <td>1170993</td>\n",
       "      <td>4233948</td>\n",
       "      <td>2148179</td>\n",
       "      <td>1159053</td>\n",
       "      <td>807430</td>\n",
       "      <td>59402</td>\n",
       "      <td>5926</td>\n",
       "    </tr>\n",
       "    <tr>\n",
       "      <th>3</th>\n",
       "      <td>Andhra Pradesh</td>\n",
       "      <td>East Godavari</td>\n",
       "      <td>16.782718</td>\n",
       "      <td>82.243207</td>\n",
       "      <td>545</td>\n",
       "      <td>5154296</td>\n",
       "      <td>2569688</td>\n",
       "      <td>2584608</td>\n",
       "      <td>3288577</td>\n",
       "      <td>1716933</td>\n",
       "      <td>...</td>\n",
       "      <td>263023</td>\n",
       "      <td>47702</td>\n",
       "      <td>3518619</td>\n",
       "      <td>1524603</td>\n",
       "      <td>5043222</td>\n",
       "      <td>2724328</td>\n",
       "      <td>1478954</td>\n",
       "      <td>948122</td>\n",
       "      <td>2892</td>\n",
       "      <td>7211</td>\n",
       "    </tr>\n",
       "    <tr>\n",
       "      <th>4</th>\n",
       "      <td>Andhra Pradesh</td>\n",
       "      <td>Guntur</td>\n",
       "      <td>15.884926</td>\n",
       "      <td>80.586576</td>\n",
       "      <td>548</td>\n",
       "      <td>4887813</td>\n",
       "      <td>2440521</td>\n",
       "      <td>2447292</td>\n",
       "      <td>2960441</td>\n",
       "      <td>1634726</td>\n",
       "      <td>...</td>\n",
       "      <td>221924</td>\n",
       "      <td>30279</td>\n",
       "      <td>3209266</td>\n",
       "      <td>1474349</td>\n",
       "      <td>4683615</td>\n",
       "      <td>2583462</td>\n",
       "      <td>1371811</td>\n",
       "      <td>928462</td>\n",
       "      <td>4078</td>\n",
       "      <td>6981</td>\n",
       "    </tr>\n",
       "  </tbody>\n",
       "</table>\n",
       "<p>5 rows × 35 columns</p>\n",
       "</div>"
      ],
      "text/plain": [
       "            State       District   Latitude  Longitude  District Code  \\\n",
       "0  Andhra Pradesh       Adilabad  19.284514  78.813212            532   \n",
       "1  Andhra Pradesh      Anantapur  14.312066  77.460158            553   \n",
       "2  Andhra Pradesh       Chittoor  13.331093  78.927639            554   \n",
       "3  Andhra Pradesh  East Godavari  16.782718  82.243207            545   \n",
       "4  Andhra Pradesh         Guntur  15.884926  80.586576            548   \n",
       "\n",
       "   Population     Male   Female  Literate  Male Literate  ...  \\\n",
       "0     2741239  1369597  1371642   1483347         856350  ...   \n",
       "1     4081148  2064495  2016653   2310960        1338474  ...   \n",
       "2     4174064  2090204  2083860   2667878        1484794  ...   \n",
       "3     5154296  2569688  2584608   3288577        1716933  ...   \n",
       "4     4887813  2440521  2447292   2960441        1634726  ...   \n",
       "\n",
       "   Graduate Education  Other Education  Literate Education  \\\n",
       "0              100226            19277             1346992   \n",
       "1              144915            23341             2426929   \n",
       "2              246409            36017             3062955   \n",
       "3              263023            47702             3518619   \n",
       "4              221924            30279             3209266   \n",
       "\n",
       "   Illiterate Education  Total Education  Age Group 0 29  Age Group 30 49  \\\n",
       "0               1030640          2377632         1536378           704551   \n",
       "1               1369069          3795998         2189396          1104565   \n",
       "2               1170993          4233948         2148179          1159053   \n",
       "3               1524603          5043222         2724328          1478954   \n",
       "4               1474349          4683615         2583462          1371811   \n",
       "\n",
       "   Age Group 50  Age Not Stated  Total Power Parity  \n",
       "0        422522           77788                4181  \n",
       "1        739612           47575                5799  \n",
       "2        807430           59402                5926  \n",
       "3        948122            2892                7211  \n",
       "4        928462            4078                6981  \n",
       "\n",
       "[5 rows x 35 columns]"
      ]
     },
     "execution_count": 27,
     "metadata": {},
     "output_type": "execute_result"
    }
   ],
   "source": [
    "final_df.head()"
   ]
  },
  {
   "cell_type": "code",
   "execution_count": 31,
   "metadata": {},
   "outputs": [],
   "source": [
    "cols = list(final_df.columns)\n",
    "cols.insert(0, 'Overall India')"
   ]
  },
  {
   "cell_type": "code",
   "execution_count": 34,
   "metadata": {},
   "outputs": [
    {
     "data": {
      "text/plain": [
       "np.int64(1020091931)"
      ]
     },
     "execution_count": 34,
     "metadata": {},
     "output_type": "execute_result"
    }
   ],
   "source": [
    "final_df['Population'].sum()"
   ]
  },
  {
   "cell_type": "code",
   "execution_count": 38,
   "metadata": {},
   "outputs": [
    {
     "data": {
      "text/plain": [
       "np.int64(105473507)"
      ]
     },
     "execution_count": 38,
     "metadata": {},
     "output_type": "execute_result"
    }
   ],
   "source": [
    "final_df[final_df['State'] == 'Bihar']['Population'].sum()"
   ]
  },
  {
   "cell_type": "code",
   "execution_count": 45,
   "metadata": {},
   "outputs": [
    {
     "data": {
      "text/plain": [
       "np.int64(94)"
      ]
     },
     "execution_count": 45,
     "metadata": {},
     "output_type": "execute_result"
    }
   ],
   "source": [
    "# sex ratio\n",
    "((final_df['Female'] / final_df['Male']) * 100).mean().astype(int)"
   ]
  },
  {
   "cell_type": "code",
   "execution_count": 53,
   "metadata": {},
   "outputs": [],
   "source": [
    "final_df['Sex Ratio'] = ((final_df['Female'] / final_df['Male'])*100).astype(int)"
   ]
  },
  {
   "cell_type": "code",
   "execution_count": 55,
   "metadata": {},
   "outputs": [
    {
     "data": {
      "text/plain": [
       "0      100\n",
       "1       97\n",
       "2       99\n",
       "3      100\n",
       "4      100\n",
       "      ... \n",
       "512     94\n",
       "513     95\n",
       "514     94\n",
       "515     95\n",
       "516     93\n",
       "Name: Sex Ratio, Length: 517, dtype: int64"
      ]
     },
     "execution_count": 55,
     "metadata": {},
     "output_type": "execute_result"
    }
   ],
   "source": [
    "final_df['Sex Ratio']"
   ]
  },
  {
   "cell_type": "code",
   "execution_count": 56,
   "metadata": {},
   "outputs": [],
   "source": [
    "final_df['Literacy Rate'] = ((final_df['Literate'] / final_df['Population']) * 100).astype(int)"
   ]
  },
  {
   "cell_type": "code",
   "execution_count": 57,
   "metadata": {},
   "outputs": [],
   "source": [
    "final_df.to_csv('indiaDetailed.csv', index=False)"
   ]
  },
  {
   "cell_type": "code",
   "execution_count": 58,
   "metadata": {},
   "outputs": [
    {
     "data": {
      "text/plain": [
       "Index(['State', 'District', 'Latitude', 'Longitude', 'District Code',\n",
       "       'Population', 'Male', 'Female', 'Literate', 'Male Literate',\n",
       "       'Female Literate', 'Hindus', 'Muslims', 'Christians', 'Sikhs',\n",
       "       'Buddhists', 'Jains', 'Others Religions', 'Religion Not Stated',\n",
       "       'Households', 'Below Primary Education', 'Primary Education',\n",
       "       'Middle Education', 'Secondary Education', 'Higher Education',\n",
       "       'Graduate Education', 'Other Education', 'Literate Education',\n",
       "       'Illiterate Education', 'Total Education', 'Age Group 0 29',\n",
       "       'Age Group 30 49', 'Age Group 50', 'Age Not Stated',\n",
       "       'Total Power Parity', 'Sex Ratio', 'Literacy Rate'],\n",
       "      dtype='object')"
      ]
     },
     "execution_count": 58,
     "metadata": {},
     "output_type": "execute_result"
    }
   ],
   "source": [
    "final_df.columns"
   ]
  },
  {
   "cell_type": "code",
   "execution_count": 60,
   "metadata": {},
   "outputs": [
    {
     "data": {
      "text/plain": [
       "np.float64(50.054054054054056)"
      ]
     },
     "execution_count": 60,
     "metadata": {},
     "output_type": "execute_result"
    }
   ],
   "source": [
    "final_df[final_df['State'] == 'Bihar']['Literacy Rate'].mean()"
   ]
  },
  {
   "cell_type": "code",
   "execution_count": 61,
   "metadata": {},
   "outputs": [
    {
     "data": {
      "text/plain": [
       "'123M'"
      ]
     },
     "execution_count": 61,
     "metadata": {},
     "output_type": "execute_result"
    }
   ],
   "source": [
    "import millify\n",
    "millify.millify(123456789)\n"
   ]
  },
  {
   "cell_type": "code",
   "execution_count": null,
   "metadata": {},
   "outputs": [],
   "source": []
  }
 ],
 "metadata": {
  "kernelspec": {
   "display_name": "Python 3",
   "language": "python",
   "name": "python3"
  },
  "language_info": {
   "codemirror_mode": {
    "name": "ipython",
    "version": 3
   },
   "file_extension": ".py",
   "mimetype": "text/x-python",
   "name": "python",
   "nbconvert_exporter": "python",
   "pygments_lexer": "ipython3",
   "version": "3.12.5"
  }
 },
 "nbformat": 4,
 "nbformat_minor": 2
}
