{
 "cells": [
  {
   "cell_type": "code",
   "execution_count": 1,
   "id": "5406bfad-eb8d-40bc-95dc-495c84120567",
   "metadata": {
    "execution": {
     "iopub.execute_input": "2024-09-11T07:59:23.047225Z",
     "iopub.status.busy": "2024-09-11T07:59:23.046225Z",
     "iopub.status.idle": "2024-09-11T07:59:25.566679Z",
     "shell.execute_reply": "2024-09-11T07:59:25.564584Z",
     "shell.execute_reply.started": "2024-09-11T07:59:23.047225Z"
    }
   },
   "outputs": [],
   "source": [
    "import pandas as pd"
   ]
  },
  {
   "cell_type": "code",
   "execution_count": 2,
   "id": "2fc9488b-37e8-4022-94fd-05c205cf9c1f",
   "metadata": {
    "execution": {
     "iopub.execute_input": "2024-09-11T07:59:59.389485Z",
     "iopub.status.busy": "2024-09-11T07:59:59.388483Z",
     "iopub.status.idle": "2024-09-11T07:59:59.407589Z",
     "shell.execute_reply": "2024-09-11T07:59:59.406576Z",
     "shell.execute_reply.started": "2024-09-11T07:59:59.389485Z"
    }
   },
   "outputs": [],
   "source": [
    "lat_lon = pd.read_csv('data/district wise centroids.csv')"
   ]
  },
  {
   "cell_type": "code",
   "execution_count": 3,
   "id": "6739a6d6-6f30-4b69-b4ba-974df6b50091",
   "metadata": {
    "execution": {
     "iopub.execute_input": "2024-09-11T08:00:07.678241Z",
     "iopub.status.busy": "2024-09-11T08:00:07.677240Z",
     "iopub.status.idle": "2024-09-11T08:00:07.693310Z",
     "shell.execute_reply": "2024-09-11T08:00:07.691787Z",
     "shell.execute_reply.started": "2024-09-11T08:00:07.678241Z"
    }
   },
   "outputs": [
    {
     "data": {
      "text/plain": [
       "(594, 4)"
      ]
     },
     "execution_count": 3,
     "metadata": {},
     "output_type": "execute_result"
    }
   ],
   "source": [
    "lat_lon.shape"
   ]
  },
  {
   "cell_type": "code",
   "execution_count": 4,
   "id": "66e15eac-b076-413c-a128-eb1ff91b6682",
   "metadata": {
    "execution": {
     "iopub.execute_input": "2024-09-11T08:00:26.441348Z",
     "iopub.status.busy": "2024-09-11T08:00:26.440351Z",
     "iopub.status.idle": "2024-09-11T08:00:26.459245Z",
     "shell.execute_reply": "2024-09-11T08:00:26.458232Z",
     "shell.execute_reply.started": "2024-09-11T08:00:26.441348Z"
    }
   },
   "outputs": [
    {
     "data": {
      "text/plain": [
       "State        0\n",
       "District     0\n",
       "Latitude     0\n",
       "Longitude    0\n",
       "dtype: int64"
      ]
     },
     "execution_count": 4,
     "metadata": {},
     "output_type": "execute_result"
    }
   ],
   "source": [
    "lat_lon.isnull().sum()"
   ]
  },
  {
   "cell_type": "code",
   "execution_count": 5,
   "id": "f78b6491-1815-46da-8b2a-6a36e10d1579",
   "metadata": {
    "execution": {
     "iopub.execute_input": "2024-09-11T08:00:42.925280Z",
     "iopub.status.busy": "2024-09-11T08:00:42.924277Z",
     "iopub.status.idle": "2024-09-11T08:00:42.949172Z",
     "shell.execute_reply": "2024-09-11T08:00:42.947157Z",
     "shell.execute_reply.started": "2024-09-11T08:00:42.925280Z"
    }
   },
   "outputs": [
    {
     "data": {
      "text/plain": [
       "np.int64(0)"
      ]
     },
     "execution_count": 5,
     "metadata": {},
     "output_type": "execute_result"
    }
   ],
   "source": [
    "lat_lon.duplicated().sum()"
   ]
  },
  {
   "cell_type": "code",
   "execution_count": 6,
   "id": "02c9f603-ecf9-4ba0-b118-583acec26542",
   "metadata": {
    "execution": {
     "iopub.execute_input": "2024-09-11T08:01:26.428367Z",
     "iopub.status.busy": "2024-09-11T08:01:26.427361Z",
     "iopub.status.idle": "2024-09-11T08:01:26.478200Z",
     "shell.execute_reply": "2024-09-11T08:01:26.476189Z",
     "shell.execute_reply.started": "2024-09-11T08:01:26.428367Z"
    }
   },
   "outputs": [],
   "source": [
    "census = pd.read_csv('data/india-districts-census-2011.csv')"
   ]
  },
  {
   "cell_type": "code",
   "execution_count": 7,
   "id": "e4febced-2b0c-492e-94a7-7e23f6faefb1",
   "metadata": {
    "execution": {
     "iopub.execute_input": "2024-09-11T08:01:32.734491Z",
     "iopub.status.busy": "2024-09-11T08:01:32.733492Z",
     "iopub.status.idle": "2024-09-11T08:01:32.744554Z",
     "shell.execute_reply": "2024-09-11T08:01:32.743017Z",
     "shell.execute_reply.started": "2024-09-11T08:01:32.733492Z"
    }
   },
   "outputs": [
    {
     "data": {
      "text/plain": [
       "(640, 118)"
      ]
     },
     "execution_count": 7,
     "metadata": {},
     "output_type": "execute_result"
    }
   ],
   "source": [
    "census.shape"
   ]
  },
  {
   "cell_type": "code",
   "execution_count": 8,
   "id": "80353fe3-f4ff-4a1f-89a8-bcb7b0620d74",
   "metadata": {
    "execution": {
     "iopub.execute_input": "2024-09-11T08:05:22.720441Z",
     "iopub.status.busy": "2024-09-11T08:05:22.719439Z",
     "iopub.status.idle": "2024-09-11T08:05:22.728660Z",
     "shell.execute_reply": "2024-09-11T08:05:22.726648Z",
     "shell.execute_reply.started": "2024-09-11T08:05:22.720441Z"
    }
   },
   "outputs": [],
   "source": [
    "cols = ['District code', 'District name', 'Population', 'Male', 'Female', 'Literate', 'Households_with_Internet', 'Housholds_with_Electric_Lighting']"
   ]
  },
  {
   "cell_type": "code",
   "execution_count": 9,
   "id": "c0b5b48c-b296-4188-bef2-02e652b3d1de",
   "metadata": {
    "execution": {
     "iopub.execute_input": "2024-09-11T08:10:20.049750Z",
     "iopub.status.busy": "2024-09-11T08:10:20.048749Z",
     "iopub.status.idle": "2024-09-11T08:10:20.059945Z",
     "shell.execute_reply": "2024-09-11T08:10:20.058935Z",
     "shell.execute_reply.started": "2024-09-11T08:10:20.049750Z"
    }
   },
   "outputs": [],
   "source": [
    "census = census[cols]"
   ]
  },
  {
   "cell_type": "code",
   "execution_count": 10,
   "id": "4391683f-9e1b-4881-b86a-2c1b77a93601",
   "metadata": {
    "execution": {
     "iopub.execute_input": "2024-09-11T08:10:21.372049Z",
     "iopub.status.busy": "2024-09-11T08:10:21.371045Z",
     "iopub.status.idle": "2024-09-11T08:10:21.388142Z",
     "shell.execute_reply": "2024-09-11T08:10:21.387103Z",
     "shell.execute_reply.started": "2024-09-11T08:10:21.372049Z"
    }
   },
   "outputs": [],
   "source": [
    "final_df = lat_lon.merge(census, left_on = 'District', right_on='District name').drop(columns = 'District name')"
   ]
  },
  {
   "cell_type": "code",
   "execution_count": 11,
   "id": "f8a69c4b-c3f6-4596-a49f-a58dba29e523",
   "metadata": {
    "execution": {
     "iopub.execute_input": "2024-09-11T08:10:27.730960Z",
     "iopub.status.busy": "2024-09-11T08:10:27.729965Z",
     "iopub.status.idle": "2024-09-11T08:10:27.769861Z",
     "shell.execute_reply": "2024-09-11T08:10:27.767847Z",
     "shell.execute_reply.started": "2024-09-11T08:10:27.730960Z"
    }
   },
   "outputs": [
    {
     "data": {
      "text/html": [
       "<div>\n",
       "<style scoped>\n",
       "    .dataframe tbody tr th:only-of-type {\n",
       "        vertical-align: middle;\n",
       "    }\n",
       "\n",
       "    .dataframe tbody tr th {\n",
       "        vertical-align: top;\n",
       "    }\n",
       "\n",
       "    .dataframe thead th {\n",
       "        text-align: right;\n",
       "    }\n",
       "</style>\n",
       "<table border=\"1\" class=\"dataframe\">\n",
       "  <thead>\n",
       "    <tr style=\"text-align: right;\">\n",
       "      <th></th>\n",
       "      <th>State</th>\n",
       "      <th>District</th>\n",
       "      <th>Latitude</th>\n",
       "      <th>Longitude</th>\n",
       "      <th>District code</th>\n",
       "      <th>Population</th>\n",
       "      <th>Male</th>\n",
       "      <th>Female</th>\n",
       "      <th>Literate</th>\n",
       "      <th>Households_with_Internet</th>\n",
       "      <th>Housholds_with_Electric_Lighting</th>\n",
       "    </tr>\n",
       "  </thead>\n",
       "  <tbody>\n",
       "    <tr>\n",
       "      <th>0</th>\n",
       "      <td>Andhra Pradesh</td>\n",
       "      <td>Adilabad</td>\n",
       "      <td>19.284514</td>\n",
       "      <td>78.813212</td>\n",
       "      <td>532</td>\n",
       "      <td>2741239</td>\n",
       "      <td>1369597</td>\n",
       "      <td>1371642</td>\n",
       "      <td>1483347</td>\n",
       "      <td>5512</td>\n",
       "      <td>566108</td>\n",
       "    </tr>\n",
       "    <tr>\n",
       "      <th>1</th>\n",
       "      <td>Andhra Pradesh</td>\n",
       "      <td>Anantapur</td>\n",
       "      <td>14.312066</td>\n",
       "      <td>77.460158</td>\n",
       "      <td>553</td>\n",
       "      <td>4081148</td>\n",
       "      <td>2064495</td>\n",
       "      <td>2016653</td>\n",
       "      <td>2310960</td>\n",
       "      <td>8606</td>\n",
       "      <td>897970</td>\n",
       "    </tr>\n",
       "    <tr>\n",
       "      <th>2</th>\n",
       "      <td>Andhra Pradesh</td>\n",
       "      <td>Chittoor</td>\n",
       "      <td>13.331093</td>\n",
       "      <td>78.927639</td>\n",
       "      <td>554</td>\n",
       "      <td>4174064</td>\n",
       "      <td>2090204</td>\n",
       "      <td>2083860</td>\n",
       "      <td>2667878</td>\n",
       "      <td>13763</td>\n",
       "      <td>944555</td>\n",
       "    </tr>\n",
       "    <tr>\n",
       "      <th>3</th>\n",
       "      <td>Andhra Pradesh</td>\n",
       "      <td>East Godavari</td>\n",
       "      <td>16.782718</td>\n",
       "      <td>82.243207</td>\n",
       "      <td>545</td>\n",
       "      <td>5154296</td>\n",
       "      <td>2569688</td>\n",
       "      <td>2584608</td>\n",
       "      <td>3288577</td>\n",
       "      <td>22411</td>\n",
       "      <td>1297273</td>\n",
       "    </tr>\n",
       "    <tr>\n",
       "      <th>4</th>\n",
       "      <td>Andhra Pradesh</td>\n",
       "      <td>Guntur</td>\n",
       "      <td>15.884926</td>\n",
       "      <td>80.586576</td>\n",
       "      <td>548</td>\n",
       "      <td>4887813</td>\n",
       "      <td>2440521</td>\n",
       "      <td>2447292</td>\n",
       "      <td>2960441</td>\n",
       "      <td>19383</td>\n",
       "      <td>1186028</td>\n",
       "    </tr>\n",
       "    <tr>\n",
       "      <th>...</th>\n",
       "      <td>...</td>\n",
       "      <td>...</td>\n",
       "      <td>...</td>\n",
       "      <td>...</td>\n",
       "      <td>...</td>\n",
       "      <td>...</td>\n",
       "      <td>...</td>\n",
       "      <td>...</td>\n",
       "      <td>...</td>\n",
       "      <td>...</td>\n",
       "      <td>...</td>\n",
       "    </tr>\n",
       "    <tr>\n",
       "      <th>512</th>\n",
       "      <td>West Bengal</td>\n",
       "      <td>Maldah</td>\n",
       "      <td>25.080268</td>\n",
       "      <td>88.171917</td>\n",
       "      <td>332</td>\n",
       "      <td>3988845</td>\n",
       "      <td>2051541</td>\n",
       "      <td>1937304</td>\n",
       "      <td>2086432</td>\n",
       "      <td>5357</td>\n",
       "      <td>297716</td>\n",
       "    </tr>\n",
       "    <tr>\n",
       "      <th>513</th>\n",
       "      <td>West Bengal</td>\n",
       "      <td>Murshidabad</td>\n",
       "      <td>24.259507</td>\n",
       "      <td>88.168169</td>\n",
       "      <td>333</td>\n",
       "      <td>7103807</td>\n",
       "      <td>3627564</td>\n",
       "      <td>3476243</td>\n",
       "      <td>4055834</td>\n",
       "      <td>7951</td>\n",
       "      <td>541169</td>\n",
       "    </tr>\n",
       "    <tr>\n",
       "      <th>514</th>\n",
       "      <td>West Bengal</td>\n",
       "      <td>Nadia</td>\n",
       "      <td>23.564110</td>\n",
       "      <td>88.582930</td>\n",
       "      <td>336</td>\n",
       "      <td>5167600</td>\n",
       "      <td>2653768</td>\n",
       "      <td>2513832</td>\n",
       "      <td>3480555</td>\n",
       "      <td>12787</td>\n",
       "      <td>623729</td>\n",
       "    </tr>\n",
       "    <tr>\n",
       "      <th>515</th>\n",
       "      <td>West Bengal</td>\n",
       "      <td>Puruliya</td>\n",
       "      <td>23.254192</td>\n",
       "      <td>86.396853</td>\n",
       "      <td>340</td>\n",
       "      <td>2930115</td>\n",
       "      <td>1496996</td>\n",
       "      <td>1433119</td>\n",
       "      <td>1624905</td>\n",
       "      <td>3551</td>\n",
       "      <td>189889</td>\n",
       "    </tr>\n",
       "    <tr>\n",
       "      <th>516</th>\n",
       "      <td>West Bengal</td>\n",
       "      <td>Uttar Dinajpur</td>\n",
       "      <td>26.044619</td>\n",
       "      <td>88.235952</td>\n",
       "      <td>330</td>\n",
       "      <td>3007134</td>\n",
       "      <td>1551066</td>\n",
       "      <td>1456068</td>\n",
       "      <td>1489667</td>\n",
       "      <td>2883</td>\n",
       "      <td>199307</td>\n",
       "    </tr>\n",
       "  </tbody>\n",
       "</table>\n",
       "<p>517 rows × 11 columns</p>\n",
       "</div>"
      ],
      "text/plain": [
       "              State        District   Latitude  Longitude  District code  \\\n",
       "0    Andhra Pradesh        Adilabad  19.284514  78.813212            532   \n",
       "1    Andhra Pradesh       Anantapur  14.312066  77.460158            553   \n",
       "2    Andhra Pradesh        Chittoor  13.331093  78.927639            554   \n",
       "3    Andhra Pradesh   East Godavari  16.782718  82.243207            545   \n",
       "4    Andhra Pradesh          Guntur  15.884926  80.586576            548   \n",
       "..              ...             ...        ...        ...            ...   \n",
       "512     West Bengal          Maldah  25.080268  88.171917            332   \n",
       "513     West Bengal     Murshidabad  24.259507  88.168169            333   \n",
       "514     West Bengal           Nadia  23.564110  88.582930            336   \n",
       "515     West Bengal        Puruliya  23.254192  86.396853            340   \n",
       "516     West Bengal  Uttar Dinajpur  26.044619  88.235952            330   \n",
       "\n",
       "     Population     Male   Female  Literate  Households_with_Internet  \\\n",
       "0       2741239  1369597  1371642   1483347                      5512   \n",
       "1       4081148  2064495  2016653   2310960                      8606   \n",
       "2       4174064  2090204  2083860   2667878                     13763   \n",
       "3       5154296  2569688  2584608   3288577                     22411   \n",
       "4       4887813  2440521  2447292   2960441                     19383   \n",
       "..          ...      ...      ...       ...                       ...   \n",
       "512     3988845  2051541  1937304   2086432                      5357   \n",
       "513     7103807  3627564  3476243   4055834                      7951   \n",
       "514     5167600  2653768  2513832   3480555                     12787   \n",
       "515     2930115  1496996  1433119   1624905                      3551   \n",
       "516     3007134  1551066  1456068   1489667                      2883   \n",
       "\n",
       "     Housholds_with_Electric_Lighting  \n",
       "0                              566108  \n",
       "1                              897970  \n",
       "2                              944555  \n",
       "3                             1297273  \n",
       "4                             1186028  \n",
       "..                                ...  \n",
       "512                            297716  \n",
       "513                            541169  \n",
       "514                            623729  \n",
       "515                            189889  \n",
       "516                            199307  \n",
       "\n",
       "[517 rows x 11 columns]"
      ]
     },
     "execution_count": 11,
     "metadata": {},
     "output_type": "execute_result"
    }
   ],
   "source": [
    "final_df"
   ]
  },
  {
   "cell_type": "code",
   "execution_count": 12,
   "id": "93812c3f-9c70-4fa5-862b-aca24373f747",
   "metadata": {
    "execution": {
     "iopub.execute_input": "2024-09-11T08:14:09.672560Z",
     "iopub.status.busy": "2024-09-11T08:14:09.671555Z",
     "iopub.status.idle": "2024-09-11T08:14:09.685730Z",
     "shell.execute_reply": "2024-09-11T08:14:09.683716Z",
     "shell.execute_reply.started": "2024-09-11T08:14:09.672560Z"
    }
   },
   "outputs": [],
   "source": [
    "final_df['sex_ratio'] = ((final_df['Female'] / final_df['Male']) * 100).astype(int)\n",
    "final_df['literacy_rate'] = ((final_df['Literate'] / final_df['Population']) * 100).astype(int)"
   ]
  },
  {
   "cell_type": "code",
   "execution_count": 13,
   "id": "490b449f-c488-4130-baae-b8af9220c268",
   "metadata": {
    "execution": {
     "iopub.execute_input": "2024-09-11T08:14:10.243221Z",
     "iopub.status.busy": "2024-09-11T08:14:10.242221Z",
     "iopub.status.idle": "2024-09-11T08:14:10.274550Z",
     "shell.execute_reply": "2024-09-11T08:14:10.272539Z",
     "shell.execute_reply.started": "2024-09-11T08:14:10.243221Z"
    }
   },
   "outputs": [
    {
     "data": {
      "text/html": [
       "<div>\n",
       "<style scoped>\n",
       "    .dataframe tbody tr th:only-of-type {\n",
       "        vertical-align: middle;\n",
       "    }\n",
       "\n",
       "    .dataframe tbody tr th {\n",
       "        vertical-align: top;\n",
       "    }\n",
       "\n",
       "    .dataframe thead th {\n",
       "        text-align: right;\n",
       "    }\n",
       "</style>\n",
       "<table border=\"1\" class=\"dataframe\">\n",
       "  <thead>\n",
       "    <tr style=\"text-align: right;\">\n",
       "      <th></th>\n",
       "      <th>State</th>\n",
       "      <th>District</th>\n",
       "      <th>Latitude</th>\n",
       "      <th>Longitude</th>\n",
       "      <th>District code</th>\n",
       "      <th>Population</th>\n",
       "      <th>Male</th>\n",
       "      <th>Female</th>\n",
       "      <th>Literate</th>\n",
       "      <th>Households_with_Internet</th>\n",
       "      <th>Housholds_with_Electric_Lighting</th>\n",
       "      <th>sex_ratio</th>\n",
       "      <th>literacy_rate</th>\n",
       "    </tr>\n",
       "  </thead>\n",
       "  <tbody>\n",
       "    <tr>\n",
       "      <th>0</th>\n",
       "      <td>Andhra Pradesh</td>\n",
       "      <td>Adilabad</td>\n",
       "      <td>19.284514</td>\n",
       "      <td>78.813212</td>\n",
       "      <td>532</td>\n",
       "      <td>2741239</td>\n",
       "      <td>1369597</td>\n",
       "      <td>1371642</td>\n",
       "      <td>1483347</td>\n",
       "      <td>5512</td>\n",
       "      <td>566108</td>\n",
       "      <td>100</td>\n",
       "      <td>54</td>\n",
       "    </tr>\n",
       "    <tr>\n",
       "      <th>1</th>\n",
       "      <td>Andhra Pradesh</td>\n",
       "      <td>Anantapur</td>\n",
       "      <td>14.312066</td>\n",
       "      <td>77.460158</td>\n",
       "      <td>553</td>\n",
       "      <td>4081148</td>\n",
       "      <td>2064495</td>\n",
       "      <td>2016653</td>\n",
       "      <td>2310960</td>\n",
       "      <td>8606</td>\n",
       "      <td>897970</td>\n",
       "      <td>97</td>\n",
       "      <td>56</td>\n",
       "    </tr>\n",
       "    <tr>\n",
       "      <th>2</th>\n",
       "      <td>Andhra Pradesh</td>\n",
       "      <td>Chittoor</td>\n",
       "      <td>13.331093</td>\n",
       "      <td>78.927639</td>\n",
       "      <td>554</td>\n",
       "      <td>4174064</td>\n",
       "      <td>2090204</td>\n",
       "      <td>2083860</td>\n",
       "      <td>2667878</td>\n",
       "      <td>13763</td>\n",
       "      <td>944555</td>\n",
       "      <td>99</td>\n",
       "      <td>63</td>\n",
       "    </tr>\n",
       "    <tr>\n",
       "      <th>3</th>\n",
       "      <td>Andhra Pradesh</td>\n",
       "      <td>East Godavari</td>\n",
       "      <td>16.782718</td>\n",
       "      <td>82.243207</td>\n",
       "      <td>545</td>\n",
       "      <td>5154296</td>\n",
       "      <td>2569688</td>\n",
       "      <td>2584608</td>\n",
       "      <td>3288577</td>\n",
       "      <td>22411</td>\n",
       "      <td>1297273</td>\n",
       "      <td>100</td>\n",
       "      <td>63</td>\n",
       "    </tr>\n",
       "    <tr>\n",
       "      <th>4</th>\n",
       "      <td>Andhra Pradesh</td>\n",
       "      <td>Guntur</td>\n",
       "      <td>15.884926</td>\n",
       "      <td>80.586576</td>\n",
       "      <td>548</td>\n",
       "      <td>4887813</td>\n",
       "      <td>2440521</td>\n",
       "      <td>2447292</td>\n",
       "      <td>2960441</td>\n",
       "      <td>19383</td>\n",
       "      <td>1186028</td>\n",
       "      <td>100</td>\n",
       "      <td>60</td>\n",
       "    </tr>\n",
       "  </tbody>\n",
       "</table>\n",
       "</div>"
      ],
      "text/plain": [
       "            State       District   Latitude  Longitude  District code  \\\n",
       "0  Andhra Pradesh       Adilabad  19.284514  78.813212            532   \n",
       "1  Andhra Pradesh      Anantapur  14.312066  77.460158            553   \n",
       "2  Andhra Pradesh       Chittoor  13.331093  78.927639            554   \n",
       "3  Andhra Pradesh  East Godavari  16.782718  82.243207            545   \n",
       "4  Andhra Pradesh         Guntur  15.884926  80.586576            548   \n",
       "\n",
       "   Population     Male   Female  Literate  Households_with_Internet  \\\n",
       "0     2741239  1369597  1371642   1483347                      5512   \n",
       "1     4081148  2064495  2016653   2310960                      8606   \n",
       "2     4174064  2090204  2083860   2667878                     13763   \n",
       "3     5154296  2569688  2584608   3288577                     22411   \n",
       "4     4887813  2440521  2447292   2960441                     19383   \n",
       "\n",
       "   Housholds_with_Electric_Lighting  sex_ratio  literacy_rate  \n",
       "0                            566108        100             54  \n",
       "1                            897970         97             56  \n",
       "2                            944555         99             63  \n",
       "3                           1297273        100             63  \n",
       "4                           1186028        100             60  "
      ]
     },
     "execution_count": 13,
     "metadata": {},
     "output_type": "execute_result"
    }
   ],
   "source": [
    "final_df.head()"
   ]
  },
  {
   "cell_type": "code",
   "execution_count": 14,
   "id": "32c85d9b-ab47-4d66-83bd-9787cb9916be",
   "metadata": {
    "execution": {
     "iopub.execute_input": "2024-09-11T08:15:35.958940Z",
     "iopub.status.busy": "2024-09-11T08:15:35.957938Z",
     "iopub.status.idle": "2024-09-11T08:15:35.970054Z",
     "shell.execute_reply": "2024-09-11T08:15:35.968037Z",
     "shell.execute_reply.started": "2024-09-11T08:15:35.958940Z"
    }
   },
   "outputs": [],
   "source": [
    "final_df.drop(columns= ['Male', 'Female', 'Literate'], inplace=True)"
   ]
  },
  {
   "cell_type": "code",
   "execution_count": 15,
   "id": "9652fe46-8299-4e63-9e56-4a37395faf73",
   "metadata": {
    "execution": {
     "iopub.execute_input": "2024-09-11T08:15:46.001533Z",
     "iopub.status.busy": "2024-09-11T08:15:46.000534Z",
     "iopub.status.idle": "2024-09-11T08:15:46.023535Z",
     "shell.execute_reply": "2024-09-11T08:15:46.021539Z",
     "shell.execute_reply.started": "2024-09-11T08:15:46.001533Z"
    }
   },
   "outputs": [
    {
     "data": {
      "text/html": [
       "<div>\n",
       "<style scoped>\n",
       "    .dataframe tbody tr th:only-of-type {\n",
       "        vertical-align: middle;\n",
       "    }\n",
       "\n",
       "    .dataframe tbody tr th {\n",
       "        vertical-align: top;\n",
       "    }\n",
       "\n",
       "    .dataframe thead th {\n",
       "        text-align: right;\n",
       "    }\n",
       "</style>\n",
       "<table border=\"1\" class=\"dataframe\">\n",
       "  <thead>\n",
       "    <tr style=\"text-align: right;\">\n",
       "      <th></th>\n",
       "      <th>State</th>\n",
       "      <th>District</th>\n",
       "      <th>Latitude</th>\n",
       "      <th>Longitude</th>\n",
       "      <th>District code</th>\n",
       "      <th>Population</th>\n",
       "      <th>Households_with_Internet</th>\n",
       "      <th>Housholds_with_Electric_Lighting</th>\n",
       "      <th>sex_ratio</th>\n",
       "      <th>literacy_rate</th>\n",
       "    </tr>\n",
       "  </thead>\n",
       "  <tbody>\n",
       "    <tr>\n",
       "      <th>0</th>\n",
       "      <td>Andhra Pradesh</td>\n",
       "      <td>Adilabad</td>\n",
       "      <td>19.284514</td>\n",
       "      <td>78.813212</td>\n",
       "      <td>532</td>\n",
       "      <td>2741239</td>\n",
       "      <td>5512</td>\n",
       "      <td>566108</td>\n",
       "      <td>100</td>\n",
       "      <td>54</td>\n",
       "    </tr>\n",
       "    <tr>\n",
       "      <th>1</th>\n",
       "      <td>Andhra Pradesh</td>\n",
       "      <td>Anantapur</td>\n",
       "      <td>14.312066</td>\n",
       "      <td>77.460158</td>\n",
       "      <td>553</td>\n",
       "      <td>4081148</td>\n",
       "      <td>8606</td>\n",
       "      <td>897970</td>\n",
       "      <td>97</td>\n",
       "      <td>56</td>\n",
       "    </tr>\n",
       "    <tr>\n",
       "      <th>2</th>\n",
       "      <td>Andhra Pradesh</td>\n",
       "      <td>Chittoor</td>\n",
       "      <td>13.331093</td>\n",
       "      <td>78.927639</td>\n",
       "      <td>554</td>\n",
       "      <td>4174064</td>\n",
       "      <td>13763</td>\n",
       "      <td>944555</td>\n",
       "      <td>99</td>\n",
       "      <td>63</td>\n",
       "    </tr>\n",
       "    <tr>\n",
       "      <th>3</th>\n",
       "      <td>Andhra Pradesh</td>\n",
       "      <td>East Godavari</td>\n",
       "      <td>16.782718</td>\n",
       "      <td>82.243207</td>\n",
       "      <td>545</td>\n",
       "      <td>5154296</td>\n",
       "      <td>22411</td>\n",
       "      <td>1297273</td>\n",
       "      <td>100</td>\n",
       "      <td>63</td>\n",
       "    </tr>\n",
       "    <tr>\n",
       "      <th>4</th>\n",
       "      <td>Andhra Pradesh</td>\n",
       "      <td>Guntur</td>\n",
       "      <td>15.884926</td>\n",
       "      <td>80.586576</td>\n",
       "      <td>548</td>\n",
       "      <td>4887813</td>\n",
       "      <td>19383</td>\n",
       "      <td>1186028</td>\n",
       "      <td>100</td>\n",
       "      <td>60</td>\n",
       "    </tr>\n",
       "  </tbody>\n",
       "</table>\n",
       "</div>"
      ],
      "text/plain": [
       "            State       District   Latitude  Longitude  District code  \\\n",
       "0  Andhra Pradesh       Adilabad  19.284514  78.813212            532   \n",
       "1  Andhra Pradesh      Anantapur  14.312066  77.460158            553   \n",
       "2  Andhra Pradesh       Chittoor  13.331093  78.927639            554   \n",
       "3  Andhra Pradesh  East Godavari  16.782718  82.243207            545   \n",
       "4  Andhra Pradesh         Guntur  15.884926  80.586576            548   \n",
       "\n",
       "   Population  Households_with_Internet  Housholds_with_Electric_Lighting  \\\n",
       "0     2741239                      5512                            566108   \n",
       "1     4081148                      8606                            897970   \n",
       "2     4174064                     13763                            944555   \n",
       "3     5154296                     22411                           1297273   \n",
       "4     4887813                     19383                           1186028   \n",
       "\n",
       "   sex_ratio  literacy_rate  \n",
       "0        100             54  \n",
       "1         97             56  \n",
       "2         99             63  \n",
       "3        100             63  \n",
       "4        100             60  "
      ]
     },
     "execution_count": 15,
     "metadata": {},
     "output_type": "execute_result"
    }
   ],
   "source": [
    "final_df.head()"
   ]
  },
  {
   "cell_type": "code",
   "execution_count": 16,
   "id": "700f3b58-fa47-434b-b10a-0ed8ed23c36e",
   "metadata": {
    "execution": {
     "iopub.execute_input": "2024-09-11T08:16:48.675581Z",
     "iopub.status.busy": "2024-09-11T08:16:48.674581Z",
     "iopub.status.idle": "2024-09-11T08:16:48.705751Z",
     "shell.execute_reply": "2024-09-11T08:16:48.703743Z",
     "shell.execute_reply.started": "2024-09-11T08:16:48.675581Z"
    }
   },
   "outputs": [],
   "source": [
    "final_df.to_csv('india.csv', index=False)"
   ]
  },
  {
   "cell_type": "code",
   "execution_count": 17,
   "id": "c10c6e60-29ab-4569-8b7c-0183fa3f967f",
   "metadata": {
    "execution": {
     "iopub.execute_input": "2024-09-11T08:23:15.020327Z",
     "iopub.status.busy": "2024-09-11T08:23:15.019326Z",
     "iopub.status.idle": "2024-09-11T08:23:15.031330Z",
     "shell.execute_reply": "2024-09-11T08:23:15.028327Z",
     "shell.execute_reply.started": "2024-09-11T08:23:15.020327Z"
    }
   },
   "outputs": [],
   "source": [
    "lists = list(final_df['State'].unique())\n",
    "lists.insert(0, 'Overall India')"
   ]
  },
  {
   "cell_type": "code",
   "execution_count": 18,
   "id": "83ef7790-d158-4180-812f-4a98c5b67dd7",
   "metadata": {
    "execution": {
     "iopub.execute_input": "2024-09-11T08:23:26.806296Z",
     "iopub.status.busy": "2024-09-11T08:23:26.805295Z",
     "iopub.status.idle": "2024-09-11T08:23:26.818661Z",
     "shell.execute_reply": "2024-09-11T08:23:26.816650Z",
     "shell.execute_reply.started": "2024-09-11T08:23:26.806296Z"
    }
   },
   "outputs": [
    {
     "data": {
      "text/plain": [
       "['Overall India',\n",
       " 'Andhra Pradesh',\n",
       " 'Arunachal Pradesh',\n",
       " 'Assam',\n",
       " 'Bihar',\n",
       " 'Chandigarh',\n",
       " 'Chhattisgarh',\n",
       " 'Daman and Diu',\n",
       " 'Goa',\n",
       " 'Gujarat',\n",
       " 'Haryana',\n",
       " 'Himachal Pradesh',\n",
       " 'Jammu and Kashmir',\n",
       " 'Jharkhand',\n",
       " 'Karnataka',\n",
       " 'Kerala',\n",
       " 'Madhya Pradesh',\n",
       " 'Maharashtra',\n",
       " 'Manipur',\n",
       " 'Meghalaya',\n",
       " 'Mizoram',\n",
       " 'Nagaland',\n",
       " 'Orissa',\n",
       " 'Puducherry',\n",
       " 'Punjab',\n",
       " 'Rajasthan',\n",
       " 'Sikkim',\n",
       " 'Tamil Nadu',\n",
       " 'Tripura',\n",
       " 'Uttar Pradesh',\n",
       " 'Uttaranchal',\n",
       " 'West Bengal']"
      ]
     },
     "execution_count": 18,
     "metadata": {},
     "output_type": "execute_result"
    }
   ],
   "source": [
    "lists"
   ]
  },
  {
   "cell_type": "code",
   "execution_count": 19,
   "id": "cb1f8f8e-bf32-471b-842c-1d64a186659f",
   "metadata": {
    "execution": {
     "iopub.execute_input": "2024-09-11T08:28:57.979670Z",
     "iopub.status.busy": "2024-09-11T08:28:57.979670Z",
     "iopub.status.idle": "2024-09-11T08:28:57.992294Z",
     "shell.execute_reply": "2024-09-11T08:28:57.990282Z",
     "shell.execute_reply.started": "2024-09-11T08:28:57.979670Z"
    }
   },
   "outputs": [
    {
     "data": {
      "text/plain": [
       "['Population',\n",
       " 'Households_with_Internet',\n",
       " 'Housholds_with_Electric_Lighting',\n",
       " 'sex_ratio',\n",
       " 'literacy_rate']"
      ]
     },
     "execution_count": 19,
     "metadata": {},
     "output_type": "execute_result"
    }
   ],
   "source": [
    "cols = list(final_df.columns[5:])\n",
    "cols"
   ]
  },
  {
   "cell_type": "code",
   "execution_count": 20,
   "id": "d99e8df2-7758-4e91-9a3f-cd8b61bf4f1e",
   "metadata": {
    "execution": {
     "iopub.execute_input": "2024-09-11T08:33:25.572286Z",
     "iopub.status.busy": "2024-09-11T08:33:25.571286Z",
     "iopub.status.idle": "2024-09-11T08:33:25.584400Z",
     "shell.execute_reply": "2024-09-11T08:33:25.582388Z",
     "shell.execute_reply.started": "2024-09-11T08:33:25.572286Z"
    }
   },
   "outputs": [
    {
     "data": {
      "text/plain": [
       "Index(['State', 'District', 'Latitude', 'Longitude', 'District code',\n",
       "       'Population', 'Households_with_Internet',\n",
       "       'Housholds_with_Electric_Lighting', 'sex_ratio', 'literacy_rate'],\n",
       "      dtype='object')"
      ]
     },
     "execution_count": 20,
     "metadata": {},
     "output_type": "execute_result"
    }
   ],
   "source": [
    "final_df.columns"
   ]
  },
  {
   "cell_type": "code",
   "execution_count": 23,
   "id": "57b30bbe-0c44-4a4b-bf57-ec717c844145",
   "metadata": {},
   "outputs": [],
   "source": [
    "final_df.rename(columns = {\n",
    "    'Housholds_with_Electric_Lighting' : 'Housholds with Electric Lighting', \n",
    "    'Households_with_Internet' : 'Households with Internet',\n",
    "    'literacy_rate' : 'Literacy Rate',\n",
    "    'sex_ratio' : 'Sex Ratio'\n",
    "    }, inplace=True)"
   ]
  },
  {
   "cell_type": "code",
   "execution_count": null,
   "id": "3a380af7",
   "metadata": {},
   "outputs": [],
   "source": []
  },
  {
   "cell_type": "code",
   "execution_count": null,
   "id": "b23178e8",
   "metadata": {},
   "outputs": [],
   "source": []
  }
 ],
 "metadata": {
  "kernelspec": {
   "display_name": "Python 3 (ipykernel)",
   "language": "python",
   "name": "python3"
  },
  "language_info": {
   "codemirror_mode": {
    "name": "ipython",
    "version": 3
   },
   "file_extension": ".py",
   "mimetype": "text/x-python",
   "name": "python",
   "nbconvert_exporter": "python",
   "pygments_lexer": "ipython3",
   "version": "3.12.5"
  }
 },
 "nbformat": 4,
 "nbformat_minor": 5
}
